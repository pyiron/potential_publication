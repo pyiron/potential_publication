{
 "cells": [
  {
   "cell_type": "markdown",
   "metadata": {
    "slideshow": {
     "slide_type": "slide"
    }
   },
   "source": [
    "![Logo](figures/GOE_Logo_Quer_IPC_Farbe_RGB.png)\n",
    "# High-Dimensional Neural Network Potentials\n",
    "**[Alexander L. M. Knoll](mailto:aknoll@chemie.uni-goettingen.de), and [Moritz R. Schäfer](mailto:moritzrichard.schaefer@uni-goettingen.de)** \n",
    "\n",
    "Behler Group, Theoretische Chemie, Institut für Physikalische Chemie\n"
   ]
  },
  {
   "cell_type": "markdown",
   "metadata": {
    "slideshow": {
     "slide_type": "notes"
    }
   },
   "source": [
    "For this tutorial it is intended to use the RuNNer release version 1.2, available in conda-forge. \n",
    "The most recent version of RuNNer is [hosted on Gitlab](https://gitlab.com/TheochemGoettingen/RuNNer). For access please contact Prof. Dr. Jörg Behler (joerg.behler@uni-goettingen.de)."
   ]
  },
  {
   "cell_type": "code",
   "execution_count": 1,
   "metadata": {
    "scrolled": true,
    "slideshow": {
     "slide_type": "skip"
    }
   },
   "outputs": [
    {
     "name": "stderr",
     "output_type": "stream",
     "text": [
      "/home/kalm/.pyenv/versions/pyiron/lib/python3.10/site-packages/paramiko/transport.py:236: CryptographyDeprecationWarning: Blowfish has been deprecated\n",
      "  \"class\": algorithms.Blowfish,\n"
     ]
    }
   ],
   "source": [
    "import numpy as np\n",
    "\n",
    "import matplotlib.pyplot as plt\n",
    "import ipympl\n",
    "import ipywidgets as widgets\n",
    "\n",
    "from pyiron_atomistics import Project\n",
    "from pyiron_contrib.atomistics.runner.job import RunnerFit\n",
    "from pyiron_contrib.atomistics.runner.utils import container_to_ase\n",
    "\n",
    "from ase.geometry import get_distances\n",
    "\n",
    "from runnerase import generate_symmetryfunctions\n",
    "\n",
    "%matplotlib inline"
   ]
  },
  {
   "cell_type": "markdown",
   "metadata": {
    "slideshow": {
     "slide_type": "slide"
    }
   },
   "source": [
    "## Background\n",
    "### Architecture of an HDNNP"
   ]
  },
  {
   "cell_type": "markdown",
   "metadata": {
    "slideshow": {
     "slide_type": "notes"
    }
   },
   "source": [
    "**RuNNer** is a stand-alone Fortran program for the construction of high-dimensional neural network potentials (HDNNPs), written mainly by Jörg Behler. The central assumption made in constructing a HDNNP is that the total energy of the system $E_{\\mathrm{tot}}$ [can be separated into atomic contributions $E_i$](https://www.doi.org/10.1103/PhysRevLett.98.146401). HDNNP relates the local environment of the atoms to their atomic energies $E_i$, which contribute to the sum of all $N$ atomic energies, resulting in the total energy of the system $E_\\mathrm{tot}$."
   ]
  },
  {
   "cell_type": "markdown",
   "metadata": {
    "slideshow": {
     "slide_type": "fragment"
    }
   },
   "source": [
    "\\begin{align}\n",
    "E_\\mathrm{tot} = \\sum_{i}^{N}E_i\\notag\n",
    "\\end{align}"
   ]
  },
  {
   "cell_type": "markdown",
   "metadata": {
    "slideshow": {
     "slide_type": "notes"
    }
   },
   "source": [
    "Every atomic energy is described by an atomic neural network (NN), which is element-specific. The entirety of all atomic NNs composes a HDNNP, whose general architecture is shown below for a binary system."
   ]
  },
  {
   "cell_type": "markdown",
   "metadata": {
    "slideshow": {
     "slide_type": "fragment"
    }
   },
   "source": [
    "<img src=\"figures/2g.png\" class=\"center\" width=\"500\"/>"
   ]
  },
  {
   "cell_type": "markdown",
   "metadata": {
    "slideshow": {
     "slide_type": "notes"
    }
   },
   "source": [
    "As you can see, the atomic contributions in this model are predicted independently from each other. Therefore, the model can easily describe systems with differering numbers of atoms: adding or removing an atom corresponds to adding or removing a row in the figure shown above. This ability is what puts the \"high-dimensional\" into the name \"HDNNP\". \n",
    "\n",
    "Each atomic neural networks receives input information about the local atomic environment up to a certain cutoff radius $R_{\\mathrm{c}}$. This information is encoded based on the Cartesian coordinates in many-body descriptors, so-called [atom-centered symmetry functions (ACSF or just SF)](https://www.doi.org/10.1063/1.3553717). More details about this are shown below. For each atom, the values of multiple SFs compose a SF vector $G$ which is the input layer of the atomic NNs.\n",
    "\n",
    "Atomic NNs look like this:"
   ]
  },
  {
   "cell_type": "markdown",
   "metadata": {
    "slideshow": {
     "slide_type": "subslide"
    }
   },
   "source": [
    "<img src=\"figures/ann.png\" width=\"500\"/>"
   ]
  },
  {
   "cell_type": "markdown",
   "metadata": {
    "slideshow": {
     "slide_type": "notes"
    }
   },
   "source": [
    "Every value in the SF vector $G$ serves as one piece of input information to the atomic NN. We refer to the circles in the figure as _nodes_ (from graph theory) or _neurons_ (from neural science). The information from the input nodes flows through the atomic NN from left to right: the input layer is followed by a configurable number of hidden layers which consist, in turn, of an arbitrary number of _hidden nodes_. At the end, all information is collected in the output layer, which in our case is interpreted as the atomic energy contribution of the atom under consideration. The input nodes and the hidden nodes in the first layer are connected by weights. Moreover, the hidden and output nodes carry a bias value.\n",
    "\n",
    "During training, the weights and biases are optimized using backpropagation to represent best the data in the training data set."
   ]
  },
  {
   "cell_type": "markdown",
   "metadata": {
    "slideshow": {
     "slide_type": "slide"
    }
   },
   "source": [
    "### Symmetry Functions (SFs)"
   ]
  },
  {
   "cell_type": "markdown",
   "metadata": {
    "slideshow": {
     "slide_type": "notes"
    }
   },
   "source": [
    "SFs provide the input for the NN and describe the local atomic environment of each atom. In principle, one could also use Cartesian coordinates to capture the atomic positions in a structure. As Cartesian coordinates describe the absolute positions of atoms the numerical input to the atomic NNs would change with translation or rotation of the system. However, these actions do not influence the energy of the system and different numerical inputs belonging to the same NN output lead to large training errors.\n",
    "\n",
    "In contrast, SFs describe the relative positions of the atoms to each other and are hence translationally and rotationally invariant. We differentiate two types of SFs: radial SF depend on the distance between atom pairs and serve as a measure for their bond order. Angular SFs additionally depend on the interatomic angles."
   ]
  },
  {
   "cell_type": "markdown",
   "metadata": {
    "slideshow": {
     "slide_type": "subslide"
    }
   },
   "source": [
    "#### Cutoff Functions"
   ]
  },
  {
   "cell_type": "markdown",
   "metadata": {
    "slideshow": {
     "slide_type": "notes"
    }
   },
   "source": [
    "The cutoff function $f_{\\mathrm{c}}$ ensures that only the neighbors within one atomic environment counts towards the symmetry function values. The cutoff radius $R_\\mathrm{c}$ (usually $12\\,\\mathrm{bohr}$) defines how much of the local atomic environment is considered. All SFs and their derivatives will decrease to zero if the pairwise distance is larger than $R_\\mathrm{c}$. There are several cutoff funtions defined in **RuNNer** and we will use here"
   ]
  },
  {
   "cell_type": "markdown",
   "metadata": {
    "slideshow": {
     "slide_type": "-"
    }
   },
   "source": [
    "\\begin{align}\n",
    "    f_{c}(R_{ij}) = \n",
    "    \\begin{cases}\n",
    "    0.5 \\cdot [\\cos(\\pi x) + 1]& ~ \\text{for $R_{ij} \\leq R_\\mathrm{c}$},\\\\\n",
    "    0& ~ \\text{for $R_{ij} > R_\\mathrm{c}$}\n",
    "    \\end{cases}\n",
    "\\end{align}"
   ]
  },
  {
   "cell_type": "markdown",
   "metadata": {
    "slideshow": {
     "slide_type": "notes"
    }
   },
   "source": [
    "with the atomic distance $R_{ij}$, the cutoff radius $R_\\mathrm{c}$, and $x = \\frac{R_{ij}}{R_{\\mathrm{c}}}$."
   ]
  },
  {
   "cell_type": "markdown",
   "metadata": {},
   "source": [
    "Take a look at the figure below for a graphical representation of the cutoff radius in a periodic system: the red atom is the central atom for which the SF values will be calculated. All yellow atoms lie within in the cutoff radius and will therefore contribute to the SF values."
   ]
  },
  {
   "cell_type": "markdown",
   "metadata": {
    "slideshow": {
     "slide_type": "-"
    }
   },
   "source": [
    "<img src=\"figures/Rc.png\" width=\"500\"/>"
   ]
  },
  {
   "cell_type": "markdown",
   "metadata": {
    "slideshow": {
     "slide_type": "subslide"
    }
   },
   "source": [
    "#### Radial Symmetry Functions"
   ]
  },
  {
   "cell_type": "markdown",
   "metadata": {
    "slideshow": {
     "slide_type": "notes"
    }
   },
   "source": [
    "To define the parameters for the radial SFs, it is important to know the shortest bond distance for each element combination in your data set. Usually, 5-6 radial SF are used for any element pair, with different $\\eta$ values to increase the resolution for structure description. It is possible to shift the maximum of the radial SF $G^2$ by $R_{s}$."
   ]
  },
  {
   "cell_type": "markdown",
   "metadata": {
    "slideshow": {
     "slide_type": "-"
    }
   },
   "source": [
    "\\begin{align}\n",
    "    G_{i}^{2} = \\sum_{j}^{}e^{-\\eta (R_{ij} - R_{s})^2} \\cdot f_{c}(R_{ij}).\n",
    "\\end{align}"
   ]
  },
  {
   "cell_type": "markdown",
   "metadata": {
    "slideshow": {
     "slide_type": "notes"
    }
   },
   "source": [
    "In most applications, the Gaussian exponents $\\eta$ for the radial SFs are chosen such that the SF turning points are equally distributed between the cutoff radius and specific minimum pairwise distance in the training dataset (small eta $\\eta$ = max. contraction). In RuNNer, you can either define element pair specific SF or define global SF which are used for every element combination. It is also possible to define different cutoff radii for the SF, even though this is rarely helpful and therefore not recommended.\n",
    "\n",
    "Below, you can see a graphical representation of the radial symmetry functions including the cutoff function for a cutoff radius of 12 Bohr."
   ]
  },
  {
   "cell_type": "markdown",
   "metadata": {},
   "source": [
    "<img src=\"figures/radials.png\" width=\"800\"/>"
   ]
  },
  {
   "cell_type": "markdown",
   "metadata": {
    "slideshow": {
     "slide_type": "subslide"
    }
   },
   "source": [
    "#### Angular Symmetry Functions"
   ]
  },
  {
   "cell_type": "markdown",
   "metadata": {
    "slideshow": {
     "slide_type": "notes"
    }
   },
   "source": [
    "The same rules apply to the angular SFs. Here, however, three atomic positions are included in the calculation."
   ]
  },
  {
   "cell_type": "markdown",
   "metadata": {
    "slideshow": {
     "slide_type": "-"
    }
   },
   "source": [
    "\\begin{align}\n",
    "    G_{i}^{3} = 2^{\\zeta - 1}\\sum_{j}^{} \\sum_{k}^{} \\left[( 1 + \\lambda \\cdot cos \\theta_{ijk})^{\\zeta} \\cdot e^{-\\eta (R_{ij}^2 + R_{ik}^2 + R_{jk}^2)} \\cdot f_{\\mathrm{c}}(R_{ij}) \\cdot f_{\\mathrm{c}}(R_{ik}) \\cdot f_{\\mathrm{c}}(R_{jk}) \\right]\n",
    "\\end{align}"
   ]
  },
  {
   "cell_type": "markdown",
   "metadata": {
    "slideshow": {
     "slide_type": "notes"
    }
   },
   "source": [
    "The angle $\\theta_{ijk} = \\frac{\\mathbf{R}_{ij} \\cdot \\mathbf{R}_{ik}}{R_{ij} \\cdot R_{ik}}$ is centered at atom $i$. For most system, we use permutations of $\\zeta = \\{1, 2, 4, 16\\}$, $\\eta = 0$, and $\\lambda$ = $\\{+1, -1\\}$. If many atoms of each element are present, angular SFs are usually not critical and a default set of SFs can be used."
   ]
  },
  {
   "cell_type": "markdown",
   "metadata": {},
   "source": [
    "<img src=\"figures/angulars.png\" width=\"800\"/>"
   ]
  },
  {
   "cell_type": "markdown",
   "metadata": {
    "slideshow": {
     "slide_type": "subslide"
    }
   },
   "source": [
    "###  3rd and 4th Generation HDNNPs"
   ]
  },
  {
   "cell_type": "markdown",
   "metadata": {
    "slideshow": {
     "slide_type": "notes"
    }
   },
   "source": [
    "Due to time limitations, we will only focus on the model described above which is known as the second generation of HDNNPs (see [here](https://www.doi.org/10.1103/PhysRevLett.98.146401), and [here](https://www.doi.org/10.1002/anie.201703114), and [here](https://www.doi.org/10.1002/qua.24890)). However, in recent years third- and fourth-generation HDNNPs were developed by the Behler group."
   ]
  },
  {
   "cell_type": "markdown",
   "metadata": {
    "slideshow": {
     "slide_type": "fragment"
    }
   },
   "source": [
    "#### Repetition: Second Generation HDNNP"
   ]
  },
  {
   "cell_type": "markdown",
   "metadata": {},
   "source": [
    "<img src=\"figures/2g.png\" width=\"500\">"
   ]
  },
  {
   "cell_type": "markdown",
   "metadata": {
    "slideshow": {
     "slide_type": "subslide"
    },
    "tags": []
   },
   "source": [
    "#### Third Generation HDNNP"
   ]
  },
  {
   "cell_type": "markdown",
   "metadata": {
    "slideshow": {
     "slide_type": "notes"
    }
   },
   "source": [
    "In second-generation HDNNPs only atomic interactions inside the cutoff sphere are taken into account. The resulting short-ranged potentials are well-suited to describe local bonding even for complex atomic environments. However, it can be expected that for many systems long-range interactions, primarily electrostatics, will be important.\n",
    "\n",
    "To overcome those limitations, third-generation NNs (see [here](https://www.doi.org/10.1103/PhysRevB.83.153101), and [here](https://www.doi.org/10.1063/1.3682557)) define a second set of atomic neural networks to construct environment-dependent atomic charges. They can then be used to calculate the long-range electrostatic energy without truncation. The total energy of the system is then given by the sum of the short-range and the electrostatic energies."
   ]
  },
  {
   "cell_type": "markdown",
   "metadata": {
    "slideshow": {
     "slide_type": "-"
    }
   },
   "source": [
    "<img src=\"figures/3g.png\" width=\"800\"/>"
   ]
  },
  {
   "cell_type": "markdown",
   "metadata": {
    "slideshow": {
     "slide_type": "subslide"
    }
   },
   "source": [
    "#### Fourth Generation HDNNP"
   ]
  },
  {
   "cell_type": "markdown",
   "metadata": {
    "slideshow": {
     "slide_type": "notes"
    }
   },
   "source": [
    "While the use of environment-dependent charges is a clear step forward, they are not sufficient if long-range charge transfer is present.\n",
    "\n",
    "When dealing with systems where long-range charge transer is present, the usage of fourth-generation NNs (see [here](https://www.doi.org/10.1038/s41467-020-20427-2), and [here](https://www.doi.org/10.1021/acs.accounts.0c00689)) is recommended. Here, environment-dependent electronegativities $\\chi$ are computed first. They will then be used in a charge equilibration scheme to determine the atomic charges $Q$. Again, we can compute the electrostatic energy from this. Moreover, the atomic charges serve as an additional input neuron to train the short-range energy and forces. As it was the case for the third-generation NNs the total energy is then given by the sum of the short-range and the electrostatic energies."
   ]
  },
  {
   "cell_type": "markdown",
   "metadata": {
    "slideshow": {
     "slide_type": "-"
    }
   },
   "source": [
    "<img src=\"figures/4g.png\" width=\"800\"/>"
   ]
  },
  {
   "cell_type": "markdown",
   "metadata": {
    "slideshow": {
     "slide_type": "slide"
    }
   },
   "source": [
    "## Using RuNNer via the pyiron Interface "
   ]
  },
  {
   "cell_type": "markdown",
   "metadata": {},
   "source": [
    "In general, training a HDNNP with **RuNNer** can be separated into three different stages - so-called modes - in which different types of calculation are performed."
   ]
  },
  {
   "cell_type": "markdown",
   "metadata": {
    "slideshow": {
     "slide_type": "fragment"
    }
   },
   "source": [
    "- **Mode 1:** calculation of the SF values and separation of the dataset into a training and testing set.\n",
    "- **Mode 2:** training of the model to construct the HDNNP.\n",
    "- **Mode 3:** prediction of energy and forces (stress and charges can also be predicted)."
   ]
  },
  {
   "cell_type": "markdown",
   "metadata": {
    "slideshow": {
     "slide_type": "notes"
    }
   },
   "source": [
    "All these steps are performed consecutively beginning with mode 1."
   ]
  },
  {
   "cell_type": "markdown",
   "metadata": {
    "slideshow": {
     "slide_type": "fragment"
    }
   },
   "source": [
    "### Data Preparation"
   ]
  },
  {
   "cell_type": "markdown",
   "metadata": {
    "slideshow": {
     "slide_type": "notes"
    }
   },
   "source": [
    "The creation of a meaningful neural network potential lives and dies with high quality training data. Therefore, we will begin by inspecting the full training dataset. \n",
    "The dataset has been stored prior to the workshop in form of a `TrainingContainer`. \n",
    "In pyiron, `TrainingContainer`s are jobs which take a set of structures and properties like energies, forces, ... and store them in HDF format.\n",
    "\n",
    "Go ahead and open up the project:"
   ]
  },
  {
   "cell_type": "code",
   "execution_count": 2,
   "metadata": {},
   "outputs": [],
   "source": [
    "pr = Project('../../introduction/training')"
   ]
  },
  {
   "cell_type": "markdown",
   "metadata": {
    "slideshow": {
     "slide_type": "notes"
    }
   },
   "source": [
    "The project already contains several jobs:"
   ]
  },
  {
   "cell_type": "code",
   "execution_count": 3,
   "metadata": {
    "slideshow": {
     "slide_type": "skip"
    }
   },
   "outputs": [
    {
     "data": {
      "text/html": [
       "<div>\n",
       "<style scoped>\n",
       "    .dataframe tbody tr th:only-of-type {\n",
       "        vertical-align: middle;\n",
       "    }\n",
       "\n",
       "    .dataframe tbody tr th {\n",
       "        vertical-align: top;\n",
       "    }\n",
       "\n",
       "    .dataframe thead th {\n",
       "        text-align: right;\n",
       "    }\n",
       "</style>\n",
       "<table border=\"1\" class=\"dataframe\">\n",
       "  <thead>\n",
       "    <tr style=\"text-align: right;\">\n",
       "      <th></th>\n",
       "      <th>id</th>\n",
       "      <th>status</th>\n",
       "      <th>chemicalformula</th>\n",
       "      <th>job</th>\n",
       "      <th>subjob</th>\n",
       "      <th>projectpath</th>\n",
       "      <th>project</th>\n",
       "      <th>timestart</th>\n",
       "      <th>timestop</th>\n",
       "      <th>totalcputime</th>\n",
       "      <th>computer</th>\n",
       "      <th>hamilton</th>\n",
       "      <th>hamversion</th>\n",
       "      <th>parentid</th>\n",
       "      <th>masterid</th>\n",
       "    </tr>\n",
       "  </thead>\n",
       "  <tbody>\n",
       "    <tr>\n",
       "      <th>0</th>\n",
       "      <td>212</td>\n",
       "      <td>finished</td>\n",
       "      <td>None</td>\n",
       "      <td>full</td>\n",
       "      <td>/full</td>\n",
       "      <td>None</td>\n",
       "      <td>/home/kalm/dcmnts/uni/promotion/work/workshop_bochum/handson_notebook/workshop_preparation/introduction/training/</td>\n",
       "      <td>2022-06-03 00:02:34.816533</td>\n",
       "      <td>NaT</td>\n",
       "      <td>NaN</td>\n",
       "      <td>zora@cmti001#1</td>\n",
       "      <td>TrainingContainer</td>\n",
       "      <td>0.4</td>\n",
       "      <td>NaN</td>\n",
       "      <td>None</td>\n",
       "    </tr>\n",
       "    <tr>\n",
       "      <th>1</th>\n",
       "      <td>213</td>\n",
       "      <td>finished</td>\n",
       "      <td>None</td>\n",
       "      <td>basic</td>\n",
       "      <td>/basic</td>\n",
       "      <td>None</td>\n",
       "      <td>/home/kalm/dcmnts/uni/promotion/work/workshop_bochum/handson_notebook/workshop_preparation/introduction/training/</td>\n",
       "      <td>2022-06-03 00:02:47.281055</td>\n",
       "      <td>NaT</td>\n",
       "      <td>NaN</td>\n",
       "      <td>zora@cmti001#1</td>\n",
       "      <td>TrainingContainer</td>\n",
       "      <td>0.4</td>\n",
       "      <td>NaN</td>\n",
       "      <td>None</td>\n",
       "    </tr>\n",
       "    <tr>\n",
       "      <th>2</th>\n",
       "      <td>214</td>\n",
       "      <td>finished</td>\n",
       "      <td>None</td>\n",
       "      <td>Al_basic_atomicrex</td>\n",
       "      <td>/Al_basic_atomicrex</td>\n",
       "      <td>None</td>\n",
       "      <td>/home/kalm/dcmnts/uni/promotion/work/workshop_bochum/handson_notebook/workshop_preparation/introduction/training/</td>\n",
       "      <td>2022-06-03 02:00:15.887059</td>\n",
       "      <td>NaT</td>\n",
       "      <td>NaN</td>\n",
       "      <td>zora@cmti001#1</td>\n",
       "      <td>TrainingContainer</td>\n",
       "      <td>0.4</td>\n",
       "      <td>NaN</td>\n",
       "      <td>None</td>\n",
       "    </tr>\n",
       "    <tr>\n",
       "      <th>3</th>\n",
       "      <td>226</td>\n",
       "      <td>finished</td>\n",
       "      <td>None</td>\n",
       "      <td>data_lithium</td>\n",
       "      <td>/data_lithium</td>\n",
       "      <td>None</td>\n",
       "      <td>/home/kalm/dcmnts/uni/promotion/work/workshop_bochum/handson_notebook/workshop_preparation/introduction/training/</td>\n",
       "      <td>2022-07-21 08:18:19.193090</td>\n",
       "      <td>NaT</td>\n",
       "      <td>NaN</td>\n",
       "      <td>pyiron@lap2p#1</td>\n",
       "      <td>TrainingContainer</td>\n",
       "      <td>0.4</td>\n",
       "      <td>NaN</td>\n",
       "      <td>None</td>\n",
       "    </tr>\n",
       "    <tr>\n",
       "      <th>4</th>\n",
       "      <td>227</td>\n",
       "      <td>finished</td>\n",
       "      <td>None</td>\n",
       "      <td>fit_mode1</td>\n",
       "      <td>/fit_mode1</td>\n",
       "      <td>None</td>\n",
       "      <td>/home/kalm/dcmnts/uni/promotion/work/workshop_bochum/handson_notebook/workshop_preparation/introduction/training/fit_lithium/</td>\n",
       "      <td>2022-07-21 08:18:22.251691</td>\n",
       "      <td>2022-07-21 08:18:28.328624</td>\n",
       "      <td>6.0</td>\n",
       "      <td>pyiron@lap2p#1</td>\n",
       "      <td>RunnerFit</td>\n",
       "      <td>0.4</td>\n",
       "      <td>NaN</td>\n",
       "      <td>None</td>\n",
       "    </tr>\n",
       "    <tr>\n",
       "      <th>5</th>\n",
       "      <td>228</td>\n",
       "      <td>finished</td>\n",
       "      <td>None</td>\n",
       "      <td>fit_mode2</td>\n",
       "      <td>/fit_mode2</td>\n",
       "      <td>None</td>\n",
       "      <td>/home/kalm/dcmnts/uni/promotion/work/workshop_bochum/handson_notebook/workshop_preparation/introduction/training/fit_lithium/</td>\n",
       "      <td>2022-07-21 08:18:30.158483</td>\n",
       "      <td>2022-07-21 08:22:02.862973</td>\n",
       "      <td>212.0</td>\n",
       "      <td>pyiron@lap2p#1</td>\n",
       "      <td>RunnerFit</td>\n",
       "      <td>0.4</td>\n",
       "      <td>227.0</td>\n",
       "      <td>None</td>\n",
       "    </tr>\n",
       "    <tr>\n",
       "      <th>6</th>\n",
       "      <td>229</td>\n",
       "      <td>finished</td>\n",
       "      <td>None</td>\n",
       "      <td>fit_mode3</td>\n",
       "      <td>/fit_mode3</td>\n",
       "      <td>None</td>\n",
       "      <td>/home/kalm/dcmnts/uni/promotion/work/workshop_bochum/handson_notebook/workshop_preparation/introduction/training/fit_lithium/</td>\n",
       "      <td>2022-07-21 08:22:04.136475</td>\n",
       "      <td>2022-07-21 08:22:11.189763</td>\n",
       "      <td>7.0</td>\n",
       "      <td>pyiron@lap2p#1</td>\n",
       "      <td>RunnerFit</td>\n",
       "      <td>0.4</td>\n",
       "      <td>228.0</td>\n",
       "      <td>None</td>\n",
       "    </tr>\n",
       "    <tr>\n",
       "      <th>7</th>\n",
       "      <td>230</td>\n",
       "      <td>finished</td>\n",
       "      <td>Li</td>\n",
       "      <td>job_a_3_0</td>\n",
       "      <td>/job_a_3_0</td>\n",
       "      <td>None</td>\n",
       "      <td>/home/kalm/dcmnts/uni/promotion/work/workshop_bochum/handson_notebook/workshop_preparation/introduction/training/E_V_curve/</td>\n",
       "      <td>2022-07-21 08:22:12.207784</td>\n",
       "      <td>2022-07-21 08:22:15.498472</td>\n",
       "      <td>3.0</td>\n",
       "      <td>pyiron@lap2p#1</td>\n",
       "      <td>Lammps</td>\n",
       "      <td>0.1</td>\n",
       "      <td>NaN</td>\n",
       "      <td>None</td>\n",
       "    </tr>\n",
       "    <tr>\n",
       "      <th>8</th>\n",
       "      <td>231</td>\n",
       "      <td>finished</td>\n",
       "      <td>Li</td>\n",
       "      <td>job_a_3_167</td>\n",
       "      <td>/job_a_3_167</td>\n",
       "      <td>None</td>\n",
       "      <td>/home/kalm/dcmnts/uni/promotion/work/workshop_bochum/handson_notebook/workshop_preparation/introduction/training/E_V_curve/</td>\n",
       "      <td>2022-07-21 08:22:15.639460</td>\n",
       "      <td>2022-07-21 08:22:15.965042</td>\n",
       "      <td>0.0</td>\n",
       "      <td>pyiron@lap2p#1</td>\n",
       "      <td>Lammps</td>\n",
       "      <td>0.1</td>\n",
       "      <td>NaN</td>\n",
       "      <td>None</td>\n",
       "    </tr>\n",
       "    <tr>\n",
       "      <th>9</th>\n",
       "      <td>232</td>\n",
       "      <td>finished</td>\n",
       "      <td>Li</td>\n",
       "      <td>job_a_3_333</td>\n",
       "      <td>/job_a_3_333</td>\n",
       "      <td>None</td>\n",
       "      <td>/home/kalm/dcmnts/uni/promotion/work/workshop_bochum/handson_notebook/workshop_preparation/introduction/training/E_V_curve/</td>\n",
       "      <td>2022-07-21 08:22:16.102696</td>\n",
       "      <td>2022-07-21 08:22:16.395679</td>\n",
       "      <td>0.0</td>\n",
       "      <td>pyiron@lap2p#1</td>\n",
       "      <td>Lammps</td>\n",
       "      <td>0.1</td>\n",
       "      <td>NaN</td>\n",
       "      <td>None</td>\n",
       "    </tr>\n",
       "    <tr>\n",
       "      <th>10</th>\n",
       "      <td>233</td>\n",
       "      <td>finished</td>\n",
       "      <td>Li</td>\n",
       "      <td>job_a_3_5</td>\n",
       "      <td>/job_a_3_5</td>\n",
       "      <td>None</td>\n",
       "      <td>/home/kalm/dcmnts/uni/promotion/work/workshop_bochum/handson_notebook/workshop_preparation/introduction/training/E_V_curve/</td>\n",
       "      <td>2022-07-21 08:22:16.572264</td>\n",
       "      <td>2022-07-21 08:22:16.831195</td>\n",
       "      <td>0.0</td>\n",
       "      <td>pyiron@lap2p#1</td>\n",
       "      <td>Lammps</td>\n",
       "      <td>0.1</td>\n",
       "      <td>NaN</td>\n",
       "      <td>None</td>\n",
       "    </tr>\n",
       "    <tr>\n",
       "      <th>11</th>\n",
       "      <td>234</td>\n",
       "      <td>finished</td>\n",
       "      <td>Li</td>\n",
       "      <td>job_a_3_667</td>\n",
       "      <td>/job_a_3_667</td>\n",
       "      <td>None</td>\n",
       "      <td>/home/kalm/dcmnts/uni/promotion/work/workshop_bochum/handson_notebook/workshop_preparation/introduction/training/E_V_curve/</td>\n",
       "      <td>2022-07-21 08:22:16.975377</td>\n",
       "      <td>2022-07-21 08:22:17.282200</td>\n",
       "      <td>0.0</td>\n",
       "      <td>pyiron@lap2p#1</td>\n",
       "      <td>Lammps</td>\n",
       "      <td>0.1</td>\n",
       "      <td>NaN</td>\n",
       "      <td>None</td>\n",
       "    </tr>\n",
       "    <tr>\n",
       "      <th>12</th>\n",
       "      <td>235</td>\n",
       "      <td>finished</td>\n",
       "      <td>Li</td>\n",
       "      <td>job_a_3_833</td>\n",
       "      <td>/job_a_3_833</td>\n",
       "      <td>None</td>\n",
       "      <td>/home/kalm/dcmnts/uni/promotion/work/workshop_bochum/handson_notebook/workshop_preparation/introduction/training/E_V_curve/</td>\n",
       "      <td>2022-07-21 08:22:17.434798</td>\n",
       "      <td>2022-07-21 08:22:17.694902</td>\n",
       "      <td>0.0</td>\n",
       "      <td>pyiron@lap2p#1</td>\n",
       "      <td>Lammps</td>\n",
       "      <td>0.1</td>\n",
       "      <td>NaN</td>\n",
       "      <td>None</td>\n",
       "    </tr>\n",
       "    <tr>\n",
       "      <th>13</th>\n",
       "      <td>236</td>\n",
       "      <td>finished</td>\n",
       "      <td>Li</td>\n",
       "      <td>job_a_4_0</td>\n",
       "      <td>/job_a_4_0</td>\n",
       "      <td>None</td>\n",
       "      <td>/home/kalm/dcmnts/uni/promotion/work/workshop_bochum/handson_notebook/workshop_preparation/introduction/training/E_V_curve/</td>\n",
       "      <td>2022-07-21 08:22:17.828141</td>\n",
       "      <td>2022-07-21 08:22:18.089258</td>\n",
       "      <td>0.0</td>\n",
       "      <td>pyiron@lap2p#1</td>\n",
       "      <td>Lammps</td>\n",
       "      <td>0.1</td>\n",
       "      <td>NaN</td>\n",
       "      <td>None</td>\n",
       "    </tr>\n",
       "  </tbody>\n",
       "</table>\n",
       "</div>"
      ],
      "text/plain": [
       "     id    status chemicalformula                 job               subjob  \\\n",
       "0   212  finished            None                full                /full   \n",
       "1   213  finished            None               basic               /basic   \n",
       "2   214  finished            None  Al_basic_atomicrex  /Al_basic_atomicrex   \n",
       "3   226  finished            None        data_lithium        /data_lithium   \n",
       "4   227  finished            None           fit_mode1           /fit_mode1   \n",
       "5   228  finished            None           fit_mode2           /fit_mode2   \n",
       "6   229  finished            None           fit_mode3           /fit_mode3   \n",
       "7   230  finished              Li           job_a_3_0           /job_a_3_0   \n",
       "8   231  finished              Li         job_a_3_167         /job_a_3_167   \n",
       "9   232  finished              Li         job_a_3_333         /job_a_3_333   \n",
       "10  233  finished              Li           job_a_3_5           /job_a_3_5   \n",
       "11  234  finished              Li         job_a_3_667         /job_a_3_667   \n",
       "12  235  finished              Li         job_a_3_833         /job_a_3_833   \n",
       "13  236  finished              Li           job_a_4_0           /job_a_4_0   \n",
       "\n",
       "   projectpath  \\\n",
       "0         None   \n",
       "1         None   \n",
       "2         None   \n",
       "3         None   \n",
       "4         None   \n",
       "5         None   \n",
       "6         None   \n",
       "7         None   \n",
       "8         None   \n",
       "9         None   \n",
       "10        None   \n",
       "11        None   \n",
       "12        None   \n",
       "13        None   \n",
       "\n",
       "                                                                                                                          project  \\\n",
       "0               /home/kalm/dcmnts/uni/promotion/work/workshop_bochum/handson_notebook/workshop_preparation/introduction/training/   \n",
       "1               /home/kalm/dcmnts/uni/promotion/work/workshop_bochum/handson_notebook/workshop_preparation/introduction/training/   \n",
       "2               /home/kalm/dcmnts/uni/promotion/work/workshop_bochum/handson_notebook/workshop_preparation/introduction/training/   \n",
       "3               /home/kalm/dcmnts/uni/promotion/work/workshop_bochum/handson_notebook/workshop_preparation/introduction/training/   \n",
       "4   /home/kalm/dcmnts/uni/promotion/work/workshop_bochum/handson_notebook/workshop_preparation/introduction/training/fit_lithium/   \n",
       "5   /home/kalm/dcmnts/uni/promotion/work/workshop_bochum/handson_notebook/workshop_preparation/introduction/training/fit_lithium/   \n",
       "6   /home/kalm/dcmnts/uni/promotion/work/workshop_bochum/handson_notebook/workshop_preparation/introduction/training/fit_lithium/   \n",
       "7     /home/kalm/dcmnts/uni/promotion/work/workshop_bochum/handson_notebook/workshop_preparation/introduction/training/E_V_curve/   \n",
       "8     /home/kalm/dcmnts/uni/promotion/work/workshop_bochum/handson_notebook/workshop_preparation/introduction/training/E_V_curve/   \n",
       "9     /home/kalm/dcmnts/uni/promotion/work/workshop_bochum/handson_notebook/workshop_preparation/introduction/training/E_V_curve/   \n",
       "10    /home/kalm/dcmnts/uni/promotion/work/workshop_bochum/handson_notebook/workshop_preparation/introduction/training/E_V_curve/   \n",
       "11    /home/kalm/dcmnts/uni/promotion/work/workshop_bochum/handson_notebook/workshop_preparation/introduction/training/E_V_curve/   \n",
       "12    /home/kalm/dcmnts/uni/promotion/work/workshop_bochum/handson_notebook/workshop_preparation/introduction/training/E_V_curve/   \n",
       "13    /home/kalm/dcmnts/uni/promotion/work/workshop_bochum/handson_notebook/workshop_preparation/introduction/training/E_V_curve/   \n",
       "\n",
       "                    timestart                   timestop  totalcputime  \\\n",
       "0  2022-06-03 00:02:34.816533                        NaT           NaN   \n",
       "1  2022-06-03 00:02:47.281055                        NaT           NaN   \n",
       "2  2022-06-03 02:00:15.887059                        NaT           NaN   \n",
       "3  2022-07-21 08:18:19.193090                        NaT           NaN   \n",
       "4  2022-07-21 08:18:22.251691 2022-07-21 08:18:28.328624           6.0   \n",
       "5  2022-07-21 08:18:30.158483 2022-07-21 08:22:02.862973         212.0   \n",
       "6  2022-07-21 08:22:04.136475 2022-07-21 08:22:11.189763           7.0   \n",
       "7  2022-07-21 08:22:12.207784 2022-07-21 08:22:15.498472           3.0   \n",
       "8  2022-07-21 08:22:15.639460 2022-07-21 08:22:15.965042           0.0   \n",
       "9  2022-07-21 08:22:16.102696 2022-07-21 08:22:16.395679           0.0   \n",
       "10 2022-07-21 08:22:16.572264 2022-07-21 08:22:16.831195           0.0   \n",
       "11 2022-07-21 08:22:16.975377 2022-07-21 08:22:17.282200           0.0   \n",
       "12 2022-07-21 08:22:17.434798 2022-07-21 08:22:17.694902           0.0   \n",
       "13 2022-07-21 08:22:17.828141 2022-07-21 08:22:18.089258           0.0   \n",
       "\n",
       "          computer           hamilton hamversion  parentid masterid  \n",
       "0   zora@cmti001#1  TrainingContainer        0.4       NaN     None  \n",
       "1   zora@cmti001#1  TrainingContainer        0.4       NaN     None  \n",
       "2   zora@cmti001#1  TrainingContainer        0.4       NaN     None  \n",
       "3   pyiron@lap2p#1  TrainingContainer        0.4       NaN     None  \n",
       "4   pyiron@lap2p#1          RunnerFit        0.4       NaN     None  \n",
       "5   pyiron@lap2p#1          RunnerFit        0.4     227.0     None  \n",
       "6   pyiron@lap2p#1          RunnerFit        0.4     228.0     None  \n",
       "7   pyiron@lap2p#1             Lammps        0.1       NaN     None  \n",
       "8   pyiron@lap2p#1             Lammps        0.1       NaN     None  \n",
       "9   pyiron@lap2p#1             Lammps        0.1       NaN     None  \n",
       "10  pyiron@lap2p#1             Lammps        0.1       NaN     None  \n",
       "11  pyiron@lap2p#1             Lammps        0.1       NaN     None  \n",
       "12  pyiron@lap2p#1             Lammps        0.1       NaN     None  \n",
       "13  pyiron@lap2p#1             Lammps        0.1       NaN     None  "
      ]
     },
     "execution_count": 3,
     "metadata": {},
     "output_type": "execute_result"
    }
   ],
   "source": [
    "pr.job_table()"
   ]
  },
  {
   "cell_type": "markdown",
   "metadata": {
    "slideshow": {
     "slide_type": "notes"
    }
   },
   "source": [
    "The training data is stored in the project node `initial`."
   ]
  },
  {
   "cell_type": "code",
   "execution_count": 4,
   "metadata": {
    "slideshow": {
     "slide_type": "subslide"
    }
   },
   "outputs": [],
   "source": [
    "data_full = pr['basic']"
   ]
  },
  {
   "cell_type": "markdown",
   "metadata": {
    "slideshow": {
     "slide_type": "notes"
    }
   },
   "source": [
    "In order to get a feeling for the data, we inspect its energy-volume curve:"
   ]
  },
  {
   "cell_type": "code",
   "execution_count": 5,
   "metadata": {
    "scrolled": false,
    "slideshow": {
     "slide_type": "fragment"
    }
   },
   "outputs": [
    {
     "data": {
      "image/png": "[encoded data removed]",
      "text/plain": [
       "<Figure size 1008x432 with 1 Axes>"
      ]
     },
     "metadata": {
      "needs_background": "light"
     },
     "output_type": "display_data"
    }
   ],
   "source": [
    "fig, ax = plt.subplots(figsize=(14, 6))\n",
    "data_full.plot.energy_volume()\n",
    "plt.show()"
   ]
  },
  {
   "cell_type": "markdown",
   "metadata": {
    "slideshow": {
     "slide_type": "notes"
    }
   },
   "source": [
    "As you can see in this plot, some regions of configuration space are much more densily sampled than others. The dataset consists of approximately 4000 structures, ranging from bulk lithium and aluminum to off-stochiometric liquid phases of LiAl alloy. \n",
    "\n",
    "Training a potential for such a large dataset to high accuracy takes a few hours. Therefore, we are going to focus on a case study: the subset of pure lithium structures in the dataset. \n",
    "\n",
    "We extract a sample from the full dataset using `TrainingContainer`s convenient `sample` function. It creates a new `TrainingContainer` job (here we give it the name `data_lithium`) using a simple filter function. The filter function will remove:\n",
    "* structures that contain Al.\n",
    "* structures with a positive energy.\n",
    "* structures in which atoms do not have any neighbors within a cutoff radius of 12 Bohr."
   ]
  },
  {
   "cell_type": "code",
   "execution_count": 6,
   "metadata": {
    "slideshow": {
     "slide_type": "subslide"
    }
   },
   "outputs": [],
   "source": [
    "def filter_lithium(container, idx):\n",
    "    \"\"\"Filter a given `container` for the most useful lithium structures.\"\"\"\n",
    "    # Get the elements, total energy and atomic positions.\n",
    "    elements = container.get_array('symbols', idx)\n",
    "    energy = container.get_array('energy', idx)\n",
    "    positions = container.get_array('positions', idx)\n",
    "\n",
    "    # Build the distance matrix.\n",
    "    distmatrix = get_distances(positions, positions)[1]\n",
    "\n",
    "    # Check if every atom has at least one neighbor in a 12 Bohr = 6.35 Ang                                                                                                          \n",
    "    # cutoff radius.\n",
    "    no_neighbors = False\n",
    "    for idx, row in enumerate(distmatrix):\n",
    "\n",
    "        # Remove self interaction.                                                                                                                                                        \n",
    "        row_no_selfinteraction = row[row > 0.0]\n",
    "\n",
    "        if all(row_no_selfinteraction > 6.35):\n",
    "            no_neighbors = True\n",
    "    \n",
    "    return 'Al' not in elements and energy < 0.0 and no_neighbors is False"
   ]
  },
  {
   "cell_type": "code",
   "execution_count": 7,
   "metadata": {
    "scrolled": true,
    "slideshow": {
     "slide_type": "fragment"
    }
   },
   "outputs": [
    {
     "name": "stdout",
     "output_type": "stream",
     "text": [
      "DataContainer({'save_neighbors': True, 'num_neighbors': 12})\n",
      "The job data_lithium was saved and received the ID: 237\n"
     ]
    }
   ],
   "source": [
    "# Remove the job if it already exists.\n",
    "if 'data_lithium' in pr.list_nodes():\n",
    "    pr.remove_job('data_lithium')\n",
    "\n",
    "data_lithium = data_full.sample('data_lithium', filter_lithium)"
   ]
  },
  {
   "cell_type": "code",
   "execution_count": 8,
   "metadata": {},
   "outputs": [
    {
     "name": "stdout",
     "output_type": "stream",
     "text": [
      "176\n"
     ]
    }
   ],
   "source": [
    "print(len(list(data_lithium.iter_structures())))"
   ]
  },
  {
   "cell_type": "markdown",
   "metadata": {
    "slideshow": {
     "slide_type": "notes"
    }
   },
   "source": [
    "When inspecting the list of jobs in the project again, you will find that an additional `TrainingContainer` has been created."
   ]
  },
  {
   "cell_type": "code",
   "execution_count": 9,
   "metadata": {
    "slideshow": {
     "slide_type": "skip"
    }
   },
   "outputs": [
    {
     "data": {
      "text/html": [
       "<div>\n",
       "<style scoped>\n",
       "    .dataframe tbody tr th:only-of-type {\n",
       "        vertical-align: middle;\n",
       "    }\n",
       "\n",
       "    .dataframe tbody tr th {\n",
       "        vertical-align: top;\n",
       "    }\n",
       "\n",
       "    .dataframe thead th {\n",
       "        text-align: right;\n",
       "    }\n",
       "</style>\n",
       "<table border=\"1\" class=\"dataframe\">\n",
       "  <thead>\n",
       "    <tr style=\"text-align: right;\">\n",
       "      <th></th>\n",
       "      <th>id</th>\n",
       "      <th>status</th>\n",
       "      <th>chemicalformula</th>\n",
       "      <th>job</th>\n",
       "      <th>subjob</th>\n",
       "      <th>projectpath</th>\n",
       "      <th>project</th>\n",
       "      <th>timestart</th>\n",
       "      <th>timestop</th>\n",
       "      <th>totalcputime</th>\n",
       "      <th>computer</th>\n",
       "      <th>hamilton</th>\n",
       "      <th>hamversion</th>\n",
       "      <th>parentid</th>\n",
       "      <th>masterid</th>\n",
       "    </tr>\n",
       "  </thead>\n",
       "  <tbody>\n",
       "    <tr>\n",
       "      <th>0</th>\n",
       "      <td>212</td>\n",
       "      <td>finished</td>\n",
       "      <td>None</td>\n",
       "      <td>full</td>\n",
       "      <td>/full</td>\n",
       "      <td>None</td>\n",
       "      <td>/home/kalm/dcmnts/uni/promotion/work/workshop_bochum/handson_notebook/workshop_preparation/introduction/training/</td>\n",
       "      <td>2022-06-03 00:02:34.816533</td>\n",
       "      <td>NaT</td>\n",
       "      <td>NaN</td>\n",
       "      <td>zora@cmti001#1</td>\n",
       "      <td>TrainingContainer</td>\n",
       "      <td>0.4</td>\n",
       "      <td>NaN</td>\n",
       "      <td>None</td>\n",
       "    </tr>\n",
       "    <tr>\n",
       "      <th>1</th>\n",
       "      <td>213</td>\n",
       "      <td>finished</td>\n",
       "      <td>None</td>\n",
       "      <td>basic</td>\n",
       "      <td>/basic</td>\n",
       "      <td>None</td>\n",
       "      <td>/home/kalm/dcmnts/uni/promotion/work/workshop_bochum/handson_notebook/workshop_preparation/introduction/training/</td>\n",
       "      <td>2022-06-03 00:02:47.281055</td>\n",
       "      <td>NaT</td>\n",
       "      <td>NaN</td>\n",
       "      <td>zora@cmti001#1</td>\n",
       "      <td>TrainingContainer</td>\n",
       "      <td>0.4</td>\n",
       "      <td>NaN</td>\n",
       "      <td>None</td>\n",
       "    </tr>\n",
       "    <tr>\n",
       "      <th>2</th>\n",
       "      <td>214</td>\n",
       "      <td>finished</td>\n",
       "      <td>None</td>\n",
       "      <td>Al_basic_atomicrex</td>\n",
       "      <td>/Al_basic_atomicrex</td>\n",
       "      <td>None</td>\n",
       "      <td>/home/kalm/dcmnts/uni/promotion/work/workshop_bochum/handson_notebook/workshop_preparation/introduction/training/</td>\n",
       "      <td>2022-06-03 02:00:15.887059</td>\n",
       "      <td>NaT</td>\n",
       "      <td>NaN</td>\n",
       "      <td>zora@cmti001#1</td>\n",
       "      <td>TrainingContainer</td>\n",
       "      <td>0.4</td>\n",
       "      <td>NaN</td>\n",
       "      <td>None</td>\n",
       "    </tr>\n",
       "    <tr>\n",
       "      <th>3</th>\n",
       "      <td>227</td>\n",
       "      <td>finished</td>\n",
       "      <td>None</td>\n",
       "      <td>fit_mode1</td>\n",
       "      <td>/fit_mode1</td>\n",
       "      <td>None</td>\n",
       "      <td>/home/kalm/dcmnts/uni/promotion/work/workshop_bochum/handson_notebook/workshop_preparation/introduction/training/fit_lithium/</td>\n",
       "      <td>2022-07-21 08:18:22.251691</td>\n",
       "      <td>2022-07-21 08:18:28.328624</td>\n",
       "      <td>6.0</td>\n",
       "      <td>pyiron@lap2p#1</td>\n",
       "      <td>RunnerFit</td>\n",
       "      <td>0.4</td>\n",
       "      <td>NaN</td>\n",
       "      <td>None</td>\n",
       "    </tr>\n",
       "    <tr>\n",
       "      <th>4</th>\n",
       "      <td>228</td>\n",
       "      <td>finished</td>\n",
       "      <td>None</td>\n",
       "      <td>fit_mode2</td>\n",
       "      <td>/fit_mode2</td>\n",
       "      <td>None</td>\n",
       "      <td>/home/kalm/dcmnts/uni/promotion/work/workshop_bochum/handson_notebook/workshop_preparation/introduction/training/fit_lithium/</td>\n",
       "      <td>2022-07-21 08:18:30.158483</td>\n",
       "      <td>2022-07-21 08:22:02.862973</td>\n",
       "      <td>212.0</td>\n",
       "      <td>pyiron@lap2p#1</td>\n",
       "      <td>RunnerFit</td>\n",
       "      <td>0.4</td>\n",
       "      <td>227.0</td>\n",
       "      <td>None</td>\n",
       "    </tr>\n",
       "    <tr>\n",
       "      <th>5</th>\n",
       "      <td>229</td>\n",
       "      <td>finished</td>\n",
       "      <td>None</td>\n",
       "      <td>fit_mode3</td>\n",
       "      <td>/fit_mode3</td>\n",
       "      <td>None</td>\n",
       "      <td>/home/kalm/dcmnts/uni/promotion/work/workshop_bochum/handson_notebook/workshop_preparation/introduction/training/fit_lithium/</td>\n",
       "      <td>2022-07-21 08:22:04.136475</td>\n",
       "      <td>2022-07-21 08:22:11.189763</td>\n",
       "      <td>7.0</td>\n",
       "      <td>pyiron@lap2p#1</td>\n",
       "      <td>RunnerFit</td>\n",
       "      <td>0.4</td>\n",
       "      <td>228.0</td>\n",
       "      <td>None</td>\n",
       "    </tr>\n",
       "    <tr>\n",
       "      <th>6</th>\n",
       "      <td>230</td>\n",
       "      <td>finished</td>\n",
       "      <td>Li</td>\n",
       "      <td>job_a_3_0</td>\n",
       "      <td>/job_a_3_0</td>\n",
       "      <td>None</td>\n",
       "      <td>/home/kalm/dcmnts/uni/promotion/work/workshop_bochum/handson_notebook/workshop_preparation/introduction/training/E_V_curve/</td>\n",
       "      <td>2022-07-21 08:22:12.207784</td>\n",
       "      <td>2022-07-21 08:22:15.498472</td>\n",
       "      <td>3.0</td>\n",
       "      <td>pyiron@lap2p#1</td>\n",
       "      <td>Lammps</td>\n",
       "      <td>0.1</td>\n",
       "      <td>NaN</td>\n",
       "      <td>None</td>\n",
       "    </tr>\n",
       "    <tr>\n",
       "      <th>7</th>\n",
       "      <td>231</td>\n",
       "      <td>finished</td>\n",
       "      <td>Li</td>\n",
       "      <td>job_a_3_167</td>\n",
       "      <td>/job_a_3_167</td>\n",
       "      <td>None</td>\n",
       "      <td>/home/kalm/dcmnts/uni/promotion/work/workshop_bochum/handson_notebook/workshop_preparation/introduction/training/E_V_curve/</td>\n",
       "      <td>2022-07-21 08:22:15.639460</td>\n",
       "      <td>2022-07-21 08:22:15.965042</td>\n",
       "      <td>0.0</td>\n",
       "      <td>pyiron@lap2p#1</td>\n",
       "      <td>Lammps</td>\n",
       "      <td>0.1</td>\n",
       "      <td>NaN</td>\n",
       "      <td>None</td>\n",
       "    </tr>\n",
       "    <tr>\n",
       "      <th>8</th>\n",
       "      <td>232</td>\n",
       "      <td>finished</td>\n",
       "      <td>Li</td>\n",
       "      <td>job_a_3_333</td>\n",
       "      <td>/job_a_3_333</td>\n",
       "      <td>None</td>\n",
       "      <td>/home/kalm/dcmnts/uni/promotion/work/workshop_bochum/handson_notebook/workshop_preparation/introduction/training/E_V_curve/</td>\n",
       "      <td>2022-07-21 08:22:16.102696</td>\n",
       "      <td>2022-07-21 08:22:16.395679</td>\n",
       "      <td>0.0</td>\n",
       "      <td>pyiron@lap2p#1</td>\n",
       "      <td>Lammps</td>\n",
       "      <td>0.1</td>\n",
       "      <td>NaN</td>\n",
       "      <td>None</td>\n",
       "    </tr>\n",
       "    <tr>\n",
       "      <th>9</th>\n",
       "      <td>233</td>\n",
       "      <td>finished</td>\n",
       "      <td>Li</td>\n",
       "      <td>job_a_3_5</td>\n",
       "      <td>/job_a_3_5</td>\n",
       "      <td>None</td>\n",
       "      <td>/home/kalm/dcmnts/uni/promotion/work/workshop_bochum/handson_notebook/workshop_preparation/introduction/training/E_V_curve/</td>\n",
       "      <td>2022-07-21 08:22:16.572264</td>\n",
       "      <td>2022-07-21 08:22:16.831195</td>\n",
       "      <td>0.0</td>\n",
       "      <td>pyiron@lap2p#1</td>\n",
       "      <td>Lammps</td>\n",
       "      <td>0.1</td>\n",
       "      <td>NaN</td>\n",
       "      <td>None</td>\n",
       "    </tr>\n",
       "    <tr>\n",
       "      <th>10</th>\n",
       "      <td>234</td>\n",
       "      <td>finished</td>\n",
       "      <td>Li</td>\n",
       "      <td>job_a_3_667</td>\n",
       "      <td>/job_a_3_667</td>\n",
       "      <td>None</td>\n",
       "      <td>/home/kalm/dcmnts/uni/promotion/work/workshop_bochum/handson_notebook/workshop_preparation/introduction/training/E_V_curve/</td>\n",
       "      <td>2022-07-21 08:22:16.975377</td>\n",
       "      <td>2022-07-21 08:22:17.282200</td>\n",
       "      <td>0.0</td>\n",
       "      <td>pyiron@lap2p#1</td>\n",
       "      <td>Lammps</td>\n",
       "      <td>0.1</td>\n",
       "      <td>NaN</td>\n",
       "      <td>None</td>\n",
       "    </tr>\n",
       "    <tr>\n",
       "      <th>11</th>\n",
       "      <td>235</td>\n",
       "      <td>finished</td>\n",
       "      <td>Li</td>\n",
       "      <td>job_a_3_833</td>\n",
       "      <td>/job_a_3_833</td>\n",
       "      <td>None</td>\n",
       "      <td>/home/kalm/dcmnts/uni/promotion/work/workshop_bochum/handson_notebook/workshop_preparation/introduction/training/E_V_curve/</td>\n",
       "      <td>2022-07-21 08:22:17.434798</td>\n",
       "      <td>2022-07-21 08:22:17.694902</td>\n",
       "      <td>0.0</td>\n",
       "      <td>pyiron@lap2p#1</td>\n",
       "      <td>Lammps</td>\n",
       "      <td>0.1</td>\n",
       "      <td>NaN</td>\n",
       "      <td>None</td>\n",
       "    </tr>\n",
       "    <tr>\n",
       "      <th>12</th>\n",
       "      <td>236</td>\n",
       "      <td>finished</td>\n",
       "      <td>Li</td>\n",
       "      <td>job_a_4_0</td>\n",
       "      <td>/job_a_4_0</td>\n",
       "      <td>None</td>\n",
       "      <td>/home/kalm/dcmnts/uni/promotion/work/workshop_bochum/handson_notebook/workshop_preparation/introduction/training/E_V_curve/</td>\n",
       "      <td>2022-07-21 08:22:17.828141</td>\n",
       "      <td>2022-07-21 08:22:18.089258</td>\n",
       "      <td>0.0</td>\n",
       "      <td>pyiron@lap2p#1</td>\n",
       "      <td>Lammps</td>\n",
       "      <td>0.1</td>\n",
       "      <td>NaN</td>\n",
       "      <td>None</td>\n",
       "    </tr>\n",
       "    <tr>\n",
       "      <th>13</th>\n",
       "      <td>237</td>\n",
       "      <td>finished</td>\n",
       "      <td>None</td>\n",
       "      <td>data_lithium</td>\n",
       "      <td>/data_lithium</td>\n",
       "      <td>None</td>\n",
       "      <td>/home/kalm/dcmnts/uni/promotion/work/workshop_bochum/handson_notebook/workshop_preparation/introduction/training/</td>\n",
       "      <td>2022-07-21 08:24:51.905888</td>\n",
       "      <td>NaT</td>\n",
       "      <td>NaN</td>\n",
       "      <td>pyiron@lap2p#1</td>\n",
       "      <td>TrainingContainer</td>\n",
       "      <td>0.4</td>\n",
       "      <td>NaN</td>\n",
       "      <td>None</td>\n",
       "    </tr>\n",
       "  </tbody>\n",
       "</table>\n",
       "</div>"
      ],
      "text/plain": [
       "     id    status chemicalformula                 job               subjob  \\\n",
       "0   212  finished            None                full                /full   \n",
       "1   213  finished            None               basic               /basic   \n",
       "2   214  finished            None  Al_basic_atomicrex  /Al_basic_atomicrex   \n",
       "3   227  finished            None           fit_mode1           /fit_mode1   \n",
       "4   228  finished            None           fit_mode2           /fit_mode2   \n",
       "5   229  finished            None           fit_mode3           /fit_mode3   \n",
       "6   230  finished              Li           job_a_3_0           /job_a_3_0   \n",
       "7   231  finished              Li         job_a_3_167         /job_a_3_167   \n",
       "8   232  finished              Li         job_a_3_333         /job_a_3_333   \n",
       "9   233  finished              Li           job_a_3_5           /job_a_3_5   \n",
       "10  234  finished              Li         job_a_3_667         /job_a_3_667   \n",
       "11  235  finished              Li         job_a_3_833         /job_a_3_833   \n",
       "12  236  finished              Li           job_a_4_0           /job_a_4_0   \n",
       "13  237  finished            None        data_lithium        /data_lithium   \n",
       "\n",
       "   projectpath  \\\n",
       "0         None   \n",
       "1         None   \n",
       "2         None   \n",
       "3         None   \n",
       "4         None   \n",
       "5         None   \n",
       "6         None   \n",
       "7         None   \n",
       "8         None   \n",
       "9         None   \n",
       "10        None   \n",
       "11        None   \n",
       "12        None   \n",
       "13        None   \n",
       "\n",
       "                                                                                                                          project  \\\n",
       "0               /home/kalm/dcmnts/uni/promotion/work/workshop_bochum/handson_notebook/workshop_preparation/introduction/training/   \n",
       "1               /home/kalm/dcmnts/uni/promotion/work/workshop_bochum/handson_notebook/workshop_preparation/introduction/training/   \n",
       "2               /home/kalm/dcmnts/uni/promotion/work/workshop_bochum/handson_notebook/workshop_preparation/introduction/training/   \n",
       "3   /home/kalm/dcmnts/uni/promotion/work/workshop_bochum/handson_notebook/workshop_preparation/introduction/training/fit_lithium/   \n",
       "4   /home/kalm/dcmnts/uni/promotion/work/workshop_bochum/handson_notebook/workshop_preparation/introduction/training/fit_lithium/   \n",
       "5   /home/kalm/dcmnts/uni/promotion/work/workshop_bochum/handson_notebook/workshop_preparation/introduction/training/fit_lithium/   \n",
       "6     /home/kalm/dcmnts/uni/promotion/work/workshop_bochum/handson_notebook/workshop_preparation/introduction/training/E_V_curve/   \n",
       "7     /home/kalm/dcmnts/uni/promotion/work/workshop_bochum/handson_notebook/workshop_preparation/introduction/training/E_V_curve/   \n",
       "8     /home/kalm/dcmnts/uni/promotion/work/workshop_bochum/handson_notebook/workshop_preparation/introduction/training/E_V_curve/   \n",
       "9     /home/kalm/dcmnts/uni/promotion/work/workshop_bochum/handson_notebook/workshop_preparation/introduction/training/E_V_curve/   \n",
       "10    /home/kalm/dcmnts/uni/promotion/work/workshop_bochum/handson_notebook/workshop_preparation/introduction/training/E_V_curve/   \n",
       "11    /home/kalm/dcmnts/uni/promotion/work/workshop_bochum/handson_notebook/workshop_preparation/introduction/training/E_V_curve/   \n",
       "12    /home/kalm/dcmnts/uni/promotion/work/workshop_bochum/handson_notebook/workshop_preparation/introduction/training/E_V_curve/   \n",
       "13              /home/kalm/dcmnts/uni/promotion/work/workshop_bochum/handson_notebook/workshop_preparation/introduction/training/   \n",
       "\n",
       "                    timestart                   timestop  totalcputime  \\\n",
       "0  2022-06-03 00:02:34.816533                        NaT           NaN   \n",
       "1  2022-06-03 00:02:47.281055                        NaT           NaN   \n",
       "2  2022-06-03 02:00:15.887059                        NaT           NaN   \n",
       "3  2022-07-21 08:18:22.251691 2022-07-21 08:18:28.328624           6.0   \n",
       "4  2022-07-21 08:18:30.158483 2022-07-21 08:22:02.862973         212.0   \n",
       "5  2022-07-21 08:22:04.136475 2022-07-21 08:22:11.189763           7.0   \n",
       "6  2022-07-21 08:22:12.207784 2022-07-21 08:22:15.498472           3.0   \n",
       "7  2022-07-21 08:22:15.639460 2022-07-21 08:22:15.965042           0.0   \n",
       "8  2022-07-21 08:22:16.102696 2022-07-21 08:22:16.395679           0.0   \n",
       "9  2022-07-21 08:22:16.572264 2022-07-21 08:22:16.831195           0.0   \n",
       "10 2022-07-21 08:22:16.975377 2022-07-21 08:22:17.282200           0.0   \n",
       "11 2022-07-21 08:22:17.434798 2022-07-21 08:22:17.694902           0.0   \n",
       "12 2022-07-21 08:22:17.828141 2022-07-21 08:22:18.089258           0.0   \n",
       "13 2022-07-21 08:24:51.905888                        NaT           NaN   \n",
       "\n",
       "          computer           hamilton hamversion  parentid masterid  \n",
       "0   zora@cmti001#1  TrainingContainer        0.4       NaN     None  \n",
       "1   zora@cmti001#1  TrainingContainer        0.4       NaN     None  \n",
       "2   zora@cmti001#1  TrainingContainer        0.4       NaN     None  \n",
       "3   pyiron@lap2p#1          RunnerFit        0.4       NaN     None  \n",
       "4   pyiron@lap2p#1          RunnerFit        0.4     227.0     None  \n",
       "5   pyiron@lap2p#1          RunnerFit        0.4     228.0     None  \n",
       "6   pyiron@lap2p#1             Lammps        0.1       NaN     None  \n",
       "7   pyiron@lap2p#1             Lammps        0.1       NaN     None  \n",
       "8   pyiron@lap2p#1             Lammps        0.1       NaN     None  \n",
       "9   pyiron@lap2p#1             Lammps        0.1       NaN     None  \n",
       "10  pyiron@lap2p#1             Lammps        0.1       NaN     None  \n",
       "11  pyiron@lap2p#1             Lammps        0.1       NaN     None  \n",
       "12  pyiron@lap2p#1             Lammps        0.1       NaN     None  \n",
       "13  pyiron@lap2p#1  TrainingContainer        0.4       NaN     None  "
      ]
     },
     "execution_count": 9,
     "metadata": {},
     "output_type": "execute_result"
    }
   ],
   "source": [
    "pr.job_table()"
   ]
  },
  {
   "cell_type": "markdown",
   "metadata": {
    "slideshow": {
     "slide_type": "notes"
    }
   },
   "source": [
    "For comparison, here is the energy-volume curve from before, overlayed with the structures in the reduced dataset."
   ]
  },
  {
   "cell_type": "code",
   "execution_count": 10,
   "metadata": {
    "slideshow": {
     "slide_type": "subslide"
    }
   },
   "outputs": [
    {
     "data": {
      "image/png": "[encoded data removed]",
      "text/plain": [
       "<Figure size 1008x432 with 1 Axes>"
      ]
     },
     "metadata": {
      "needs_background": "light"
     },
     "output_type": "display_data"
    }
   ],
   "source": [
    "fig, ax = plt.subplots(figsize=(14, 6))\n",
    "data_full.plot.energy_volume()\n",
    "data_lithium.plot.energy_volume()\n",
    "plt.legend(['Full dataset', 'Lithium'])\n",
    "plt.show()"
   ]
  },
  {
   "cell_type": "markdown",
   "metadata": {
    "slideshow": {
     "slide_type": "notes"
    }
   },
   "source": [
    "As you can see, we have selected a very small part of the dataset for our demonstration (176 of ~4000 structures). Nevertheless, the following chapters will demonstrate all the relevant RuNNer concepts to create a similar potential with more training data. "
   ]
  },
  {
   "cell_type": "markdown",
   "metadata": {
    "slideshow": {
     "slide_type": "slide"
    }
   },
   "source": [
    "### Job Setup: `RunnerFit`"
   ]
  },
  {
   "cell_type": "markdown",
   "metadata": {
    "slideshow": {
     "slide_type": "notes"
    }
   },
   "source": [
    "pyiron and the RuNNer Fortran program communicate via a custom job type called `RunnerFit`. Here, we add a new job to the project via `create_job` and give it the name `fit_data_lithium`."
   ]
  },
  {
   "cell_type": "code",
   "execution_count": 11,
   "metadata": {
    "slideshow": {
     "slide_type": "fragment"
    }
   },
   "outputs": [],
   "source": [
    "pr_fit = pr.create_group('fit_lithium')"
   ]
  },
  {
   "cell_type": "code",
   "execution_count": 12,
   "metadata": {
    "slideshow": {
     "slide_type": "fragment"
    }
   },
   "outputs": [],
   "source": [
    "mode1 = pr_fit.create.job.RunnerFit('fit_mode1', delete_existing_job=True)"
   ]
  },
  {
   "cell_type": "markdown",
   "metadata": {
    "slideshow": {
     "slide_type": "notes"
    }
   },
   "source": [
    "Every `RunnerFit` job is initialized with a sensible choice of input parameters for RuNNer (`parameters`) and an empty storage for training structures (`training_data`). This information can easily be accessed through the `input` property.  "
   ]
  },
  {
   "cell_type": "code",
   "execution_count": 13,
   "metadata": {
    "scrolled": false,
    "slideshow": {
     "slide_type": "subslide"
    }
   },
   "outputs": [
    {
     "data": {
      "application/json": {
       "parameters": {
        "bond_threshold": "0.5",
        "center_symmetry_functions": "True",
        "cutoff_type": "1",
        "elements": "None",
        "epochs": "30",
        "global_activation_short": "[['t', 't', 'l']]",
        "global_hidden_layers_short": "2",
        "global_nodes_short": "[[15, 15]]",
        "kalman_lambda_short": "0.98",
        "kalman_nue_short": "0.9987",
        "mix_all_points": "True",
        "nguyen_widrow_weights_short": "True",
        "nn_type_short": "1",
        "number_of_elements": "0",
        "optmode_charge": "1",
        "optmode_short_energy": "1",
        "optmode_short_force": "1",
        "points_in_memory": "1000",
        "precondition_weights": "True",
        "repeated_energy_update": "True",
        "runner_mode": "1",
        "scale_symmetry_functions": "True",
        "short_energy_error_threshold": "0.1",
        "short_energy_fraction": "1.0",
        "short_force_error_threshold": "1.0",
        "short_force_fraction": "0.1",
        "symfunction_short": "[]",
        "test_fraction": "0.1",
        "use_old_weights_charge": "False",
        "use_old_weights_short": "False",
        "use_short_forces": "True",
        "use_short_nn": "True",
        "write_weights_epoch": "5"
       },
       "training_data": "<pyiron_contrib.atomistics.atomistics.job.trainingcontainer.TrainingStorage object at 0x7ff3c9504460>"
      },
      "text/html": [
       "<pre>DataContainer({\n",
       "  \"parameters\": {\n",
       "    \"runner_mode\": \"1\",\n",
       "    \"symfunction_short\": \"[]\",\n",
       "    \"elements\": \"None\",\n",
       "    \"number_of_elements\": \"0\",\n",
       "    \"bond_threshold\": \"0.5\",\n",
       "    \"nn_type_short\": \"1\",\n",
       "    \"use_short_nn\": \"True\",\n",
       "    \"optmode_charge\": \"1\",\n",
       "    \"optmode_short_energy\": \"1\",\n",
       "    \"optmode_short_force\": \"1\",\n",
       "    \"points_in_memory\": \"1000\",\n",
       "    \"scale_symmetry_functions\": \"True\",\n",
       "    \"cutoff_type\": \"1\",\n",
       "    \"test_fraction\": \"0.1\",\n",
       "    \"use_short_forces\": \"True\",\n",
       "    \"epochs\": \"30\",\n",
       "    \"kalman_lambda_short\": \"0.98\",\n",
       "    \"kalman_nue_short\": \"0.9987\",\n",
       "    \"mix_all_points\": \"True\",\n",
       "    \"nguyen_widrow_weights_short\": \"True\",\n",
       "    \"repeated_energy_update\": \"True\",\n",
       "    \"short_energy_error_threshold\": \"0.1\",\n",
       "    \"short_energy_fraction\": \"1.0\",\n",
       "    \"short_force_error_threshold\": \"1.0\",\n",
       "    \"short_force_fraction\": \"0.1\",\n",
       "    \"use_old_weights_charge\": \"False\",\n",
       "    \"use_old_weights_short\": \"False\",\n",
       "    \"write_weights_epoch\": \"5\",\n",
       "    \"center_symmetry_functions\": \"True\",\n",
       "    \"precondition_weights\": \"True\",\n",
       "    \"global_activation_short\": \"[['t', 't', 'l']]\",\n",
       "    \"global_hidden_layers_short\": \"2\",\n",
       "    \"global_nodes_short\": \"[[15, 15]]\"\n",
       "  },\n",
       "  \"training_data\": \"<pyiron_contrib.atomistics.atomistics.job.trainingcontainer.TrainingStorage object at 0x7ff3c9504460>\"\n",
       "})</pre>"
      ],
      "text/plain": [
       "DataContainer({'parameters': DataContainer({'runner_mode': 1, 'symfunction_short': [], 'elements': None, 'number_of_elements': 0, 'bond_threshold': 0.5, 'nn_type_short': 1, 'use_short_nn': True, 'optmode_charge': 1, 'optmode_short_energy': 1, 'optmode_short_force': 1, 'points_in_memory': 1000, 'scale_symmetry_functions': True, 'cutoff_type': 1, 'test_fraction': 0.1, 'use_short_forces': True, 'epochs': 30, 'kalman_lambda_short': 0.98, 'kalman_nue_short': 0.9987, 'mix_all_points': True, 'nguyen_widrow_weights_short': True, 'repeated_energy_update': True, 'short_energy_error_threshold': 0.1, 'short_energy_fraction': 1.0, 'short_force_error_threshold': 1.0, 'short_force_fraction': 0.1, 'use_old_weights_charge': False, 'use_old_weights_short': False, 'write_weights_epoch': 5, 'center_symmetry_functions': True, 'precondition_weights': True, 'global_activation_short': [['t', 't', 'l']], 'global_hidden_layers_short': 2, 'global_nodes_short': [[15, 15]]}), 'training_data': <pyiron_contrib.atomistics.atomistics.job.trainingcontainer.TrainingStorage object at 0x7ff3c9504460>})"
      ]
     },
     "execution_count": 13,
     "metadata": {},
     "output_type": "execute_result"
    }
   ],
   "source": [
    "mode1.input"
   ]
  },
  {
   "cell_type": "markdown",
   "metadata": {
    "slideshow": {
     "slide_type": "notes"
    }
   },
   "source": [
    "Here, we will only explain the global keywords which are relevant for all modes. The remaining keywords will be explained in following chapters. If a keyword is not specified on the pyiron-side, the **RuNNer** Fortran program uses default values, if possible.\n",
    "For a more detailed explanation of all RuNNer keywords, take a look at [the RuNNer documentation](https://theochemgoettingen.gitlab.io/RuNNer)."
   ]
  },
  {
   "cell_type": "markdown",
   "metadata": {
    "slideshow": {
     "slide_type": "notes"
    }
   },
   "source": [
    "| Keyword | Default | Description |\n",
    "|---------|---------|:-------------|\n",
    "|runner_mode | 1| Choose the operating mode of RuNNer.\n",
    "|symfunction_short | empty `SymmetryFunctionSet` |Specification of the symmetry functions for a specific element with a specific neighbor element combination for the short-range NN.\n",
    "|elements | None| The element symbols of all elements in the system in arbitrary order. The number of specified elements must fit to the value of the keyword number_of_elements. Will be automatically set by `pyiron`.\n",
    "|number_of_elements | 0| Specify the number of chemical elements in the system. Will be automatically set by `pyiron`.\n",
    "|bond_threshold | 0.5| Threshold for the shortest bond in the structure in Bohr units. If a shorter bond occurs RuNNer will stop with an error message in runner_mode 2 and 3. In runner_mode 1 the structure will be eliminated from the data set.\n",
    "|nn_type_short | 1| Specify the NN type of the short-range part (atomic or pair-based energy expression).\n",
    "|use_short_nn | True| Use the a short range NN. \n",
    "|points_in_memory | 1000| This keyword controls memory consumption and IO and is therefore important to achieve an optimum performance of RuNNer. Has a different meaning depending on the current runner_mode.\n",
    "|use_short_forces | True| Use forces for fitting the short range NN weights."
   ]
  },
  {
   "cell_type": "markdown",
   "metadata": {
    "slideshow": {
     "slide_type": "slide"
    }
   },
   "source": [
    "#### Adding Training Data"
   ]
  },
  {
   "cell_type": "markdown",
   "metadata": {
    "slideshow": {
     "slide_type": "notes"
    }
   },
   "source": [
    "As of yet, this job does not have a training dataset. However, as you already saw for the EAM potential, adding a new training dataset to the job is as simple as calling `add_training_data`:"
   ]
  },
  {
   "cell_type": "code",
   "execution_count": 14,
   "metadata": {
    "slideshow": {
     "slide_type": "fragment"
    }
   },
   "outputs": [
    {
     "data": {
      "text/plain": [
       "176"
      ]
     },
     "execution_count": 14,
     "metadata": {},
     "output_type": "execute_result"
    }
   ],
   "source": [
    "# The if-conditions prevents you from accidentally adding the same\n",
    "# structures twice to the training dataset.\n",
    "if len(mode1.training_data) == 0:\n",
    "    mode1.add_training_data(data_lithium)\n",
    "\n",
    "len(mode1.training_data)"
   ]
  },
  {
   "cell_type": "markdown",
   "metadata": {
    "slideshow": {
     "slide_type": "notes"
    }
   },
   "source": [
    "By calling `add_training_data` multiple times, it is very easy to combine several independent training datasets for one fit."
   ]
  },
  {
   "cell_type": "markdown",
   "metadata": {
    "slideshow": {
     "slide_type": "notes"
    }
   },
   "source": [
    "#### Specification of RuNNer Parameters\n",
    "\n",
    "While many of the default parameters in `RunnerFit` are suited for a wide range of calculations, you still need to carefully check each of them before starting a fit. Special attention must be given to the atom-centered symmetry functions as they have to be tailored to the system under investigation."
   ]
  },
  {
   "cell_type": "markdown",
   "metadata": {
    "slideshow": {
     "slide_type": "notes"
    }
   },
   "source": [
    "#### Generating SFs with `runnerase`"
   ]
  },
  {
   "cell_type": "markdown",
   "metadata": {
    "slideshow": {
     "slide_type": "notes"
    }
   },
   "source": [
    "`RunnerFit` builds on the RuNNer ASE interface which is publicly available as `runnerase`. For further information check out the [runnerase documentation](https://runner-suite.gitlab.io/runnerase).\n",
    "\n",
    "`runnerase` provides a `generate_symmetryfunction` procedure, which makes it easy to tailor SFs to the corresponding training dataset. You can either generate radial SFs by setting `sftype=2`, or angular SFs with `sftype=3`. The algorithm will then automatically generate one set of SFs for each pair or each triplet of elements in the dataset. The number of SFs per set can be specified with the `amount` argument. Finally, `generate_symmetryfunctions` comes with several different `algorithm`s for choosing the parameters of the SFs:\n",
    "* **Radial SFs:** One can choose from `algorithm=turn` and `algorithm=half`. `turn` will choose the SF coefficients such that the turning points of all SFs are equally spaced between the cutoff radius and the minimum distance between any given element pair. `half` will make sure that the SFs are equally spaced at $f(G) = 0.5$.\n",
    "* **Angular SFs:** One can choose from `algorithm=turn`, `algorithm=half`, or `algorithm=literature`. While the first two algorithms behave similarly to the ones for radial SF, `literature` will return SF coefficients that have proven to be a reliable choice for most systems in previous publications.\n",
    "\n",
    "In most RuNNer-related publications, a combination of `algorithm=turn` for radial SFs and `algorithm=literature` for angular SFs has been used."
   ]
  },
  {
   "cell_type": "markdown",
   "metadata": {
    "slideshow": {
     "slide_type": "notes"
    }
   },
   "source": [
    "However, `runnerase` does not operate on pyiron objects like the `TrainingContainer`. Therefore, we transform the `TrainingContainer` with our lithium structures into a List of ASE Atoms objects. The `container_to_ase` function is defined in pyiron_contrib. "
   ]
  },
  {
   "cell_type": "code",
   "execution_count": 15,
   "metadata": {
    "slideshow": {
     "slide_type": "fragment"
    }
   },
   "outputs": [],
   "source": [
    "dataset = container_to_ase(data_lithium)"
   ]
  },
  {
   "cell_type": "markdown",
   "metadata": {
    "slideshow": {
     "slide_type": "notes"
    }
   },
   "source": [
    "In the following, we have prepared two interactive plotting functions for you, so you can try out different parameters for the SFs."
   ]
  },
  {
   "cell_type": "code",
   "execution_count": 16,
   "metadata": {
    "slideshow": {
     "slide_type": "skip"
    }
   },
   "outputs": [
    {
     "data": {
      "application/vnd.jupyter.widget-view+json": {
       "model_id": "a16558439a0c451d8e6fea4a851c3607",
       "version_major": 2,
       "version_minor": 0
      },
      "text/plain": [
       "interactive(children=(IntSlider(value=6, description='amount', max=12), Dropdown(description='algorithm', opti…"
      ]
     },
     "metadata": {},
     "output_type": "display_data"
    }
   ],
   "source": [
    "@widgets.interact(amount=(0, 12, 1), algorithm=['turn', 'half'],\n",
    "                  cutoff_function=[True, False], show_legend=[True, False])\n",
    "def update(amount=6, algorithm='turn', cutoff_function=True, show_legend=False):\n",
    "    # Clear the plot.\n",
    "    plt.clf()\n",
    "    ax = plt.gca()\n",
    "    \n",
    "    # Generate the symmetry functions.\n",
    "    radials = generate_symmetryfunctions(dataset, sftype=2, algorithm=algorithm,\n",
    "                                         cutoff=12.0, amount=amount)\n",
    "    radials.plot.radial(cutoff_function=cutoff_function, show_legend=show_legend, axes=ax)\n",
    "    plt.show()"
   ]
  },
  {
   "cell_type": "code",
   "execution_count": 17,
   "metadata": {
    "scrolled": false,
    "slideshow": {
     "slide_type": "skip"
    }
   },
   "outputs": [
    {
     "data": {
      "application/vnd.jupyter.widget-view+json": {
       "model_id": "10565efc82154d67bcdad4d31fc3ac29",
       "version_major": 2,
       "version_minor": 0
      },
      "text/plain": [
       "interactive(children=(IntSlider(value=4, description='amount', max=12), Dropdown(description='algorithm', inde…"
      ]
     },
     "metadata": {},
     "output_type": "display_data"
    }
   ],
   "source": [
    "@widgets.interact(amount=(0, 12, 1), algorithm=['half', 'turn', 'literature'],\n",
    "                  show_legend=[True, False])\n",
    "def update(amount = 4, algorithm='literature', show_legend=False):\n",
    "    plt.clf()\n",
    "    ax = plt.gca()\n",
    "    angulars = generate_symmetryfunctions(dataset, sftype=3, amount=amount,\n",
    "                                          algorithm=algorithm, cutoff=12.0)\n",
    "    angulars.plot.angular(axes=ax, show_legend=show_legend)"
   ]
  },
  {
   "cell_type": "markdown",
   "metadata": {
    "slideshow": {
     "slide_type": "subslide"
    }
   },
   "source": [
    "#### Adding SFs to the Job"
   ]
  },
  {
   "cell_type": "markdown",
   "metadata": {
    "slideshow": {
     "slide_type": "notes"
    }
   },
   "source": [
    "The parameter `mode1.parameters.symfunction_short` is, in fact, a so-called `SymmetryFunctionSet` object. They function similar to a folder: you can either store `SymmetryFunction` objects directly (= a file), or create more `SymmetryFunctionSet`s in them (= another folder).\n",
    "\n",
    "When `generate_symmetryfunctions` is called, it returns a `SymmetryFunctionSet` itself. Two `SymmetryFunctionSet`s can easily be combined using the `+` operator. This way, we can add a collection of radial symmetry functions to our job."
   ]
  },
  {
   "cell_type": "code",
   "execution_count": 18,
   "metadata": {
    "slideshow": {
     "slide_type": "-"
    }
   },
   "outputs": [],
   "source": [
    "# Reset the symmetry function container.\n",
    "mode1.parameters.symfunction_short.reset()\n",
    "\n",
    "# Generate radial symmetry functions.\n",
    "radials = generate_symmetryfunctions(dataset, sftype=2, algorithm='half',\n",
    "                                     cutoff=12.0)\n",
    "\n",
    "mode1.parameters.symfunction_short += radials"
   ]
  },
  {
   "cell_type": "markdown",
   "metadata": {
    "slideshow": {
     "slide_type": "notes"
    }
   },
   "source": [
    "All SFs stored in `radials` can be accessed through its `storage` property. As you can see, `radials` essentially organizes a list of SFs in a convenient storage format."
   ]
  },
  {
   "cell_type": "code",
   "execution_count": 19,
   "metadata": {
    "slideshow": {
     "slide_type": "fragment"
    }
   },
   "outputs": [
    {
     "data": {
      "text/plain": [
       "[SymmetryFunction(sftype=2, cutoff=12.0, elements=['Li', 'Li'], coefficients=[0.0, 0.0]),\n",
       " SymmetryFunction(sftype=2, cutoff=12.0, elements=['Li', 'Li'], coefficients=[0.004675055980246072, 0.0]),\n",
       " SymmetryFunction(sftype=2, cutoff=12.0, elements=['Li', 'Li'], coefficients=[0.010843416275634649, 0.0]),\n",
       " SymmetryFunction(sftype=2, cutoff=12.0, elements=['Li', 'Li'], coefficients=[0.01939424193215976, 0.0]),\n",
       " SymmetryFunction(sftype=2, cutoff=12.0, elements=['Li', 'Li'], coefficients=[0.03192971575337408, 0.0]),\n",
       " SymmetryFunction(sftype=2, cutoff=12.0, elements=['Li', 'Li'], coefficients=[0.05159916711157465, 0.0])]"
      ]
     },
     "execution_count": 19,
     "metadata": {},
     "output_type": "execute_result"
    }
   ],
   "source": [
    "radials.storage"
   ]
  },
  {
   "cell_type": "markdown",
   "metadata": {
    "slideshow": {
     "slide_type": "notes"
    }
   },
   "source": [
    "Similarly, we can generate a set of angular symmetry functions and add them to the job as well."
   ]
  },
  {
   "cell_type": "code",
   "execution_count": 20,
   "metadata": {
    "slideshow": {
     "slide_type": "subslide"
    }
   },
   "outputs": [],
   "source": [
    "# Generate angular symmetry functions.                                                                                                                                                                                                                        \n",
    "angulars = generate_symmetryfunctions(dataset, sftype=3, amount=4,\n",
    "                                      algorithm='literature', cutoff=12.0)\n",
    "\n",
    "mode1.parameters.symfunction_short += angulars"
   ]
  },
  {
   "cell_type": "code",
   "execution_count": 21,
   "metadata": {
    "slideshow": {
     "slide_type": "fragment"
    }
   },
   "outputs": [
    {
     "data": {
      "text/plain": [
       "[SymmetryFunction(sftype=3, cutoff=12.0, elements=['Li', 'Li', 'Li'], coefficients=[0.0, -1.0, 1]),\n",
       " SymmetryFunction(sftype=3, cutoff=12.0, elements=['Li', 'Li', 'Li'], coefficients=[0.0, -1.0, 2]),\n",
       " SymmetryFunction(sftype=3, cutoff=12.0, elements=['Li', 'Li', 'Li'], coefficients=[0.0, -1.0, 4]),\n",
       " SymmetryFunction(sftype=3, cutoff=12.0, elements=['Li', 'Li', 'Li'], coefficients=[0.0, -1.0, 8]),\n",
       " SymmetryFunction(sftype=3, cutoff=12.0, elements=['Li', 'Li', 'Li'], coefficients=[0.0, 1.0, 1]),\n",
       " SymmetryFunction(sftype=3, cutoff=12.0, elements=['Li', 'Li', 'Li'], coefficients=[0.0, 1.0, 2]),\n",
       " SymmetryFunction(sftype=3, cutoff=12.0, elements=['Li', 'Li', 'Li'], coefficients=[0.0, 1.0, 4]),\n",
       " SymmetryFunction(sftype=3, cutoff=12.0, elements=['Li', 'Li', 'Li'], coefficients=[0.0, 1.0, 8])]"
      ]
     },
     "execution_count": 21,
     "metadata": {},
     "output_type": "execute_result"
    }
   ],
   "source": [
    "angulars.storage"
   ]
  },
  {
   "cell_type": "markdown",
   "metadata": {
    "slideshow": {
     "slide_type": "notes"
    }
   },
   "source": [
    "When we look at the `input` of the job again, you will find that all symmetry functions appear."
   ]
  },
  {
   "cell_type": "code",
   "execution_count": 22,
   "metadata": {
    "slideshow": {
     "slide_type": "subslide"
    }
   },
   "outputs": [
    {
     "data": {
      "application/json": {
       "parameters": {
        "bond_threshold": "0.5",
        "center_symmetry_functions": "True",
        "cutoff_type": "1",
        "elements": "None",
        "epochs": "30",
        "global_activation_short": "[['t', 't', 'l']]",
        "global_hidden_layers_short": "2",
        "global_nodes_short": "[[15, 15]]",
        "kalman_lambda_short": "0.98",
        "kalman_nue_short": "0.9987",
        "mix_all_points": "True",
        "nguyen_widrow_weights_short": "True",
        "nn_type_short": "1",
        "number_of_elements": "0",
        "optmode_charge": "1",
        "optmode_short_energy": "1",
        "optmode_short_force": "1",
        "points_in_memory": "1000",
        "precondition_weights": "True",
        "repeated_energy_update": "True",
        "runner_mode": "1",
        "scale_symmetry_functions": "True",
        "short_energy_error_threshold": "0.1",
        "short_energy_fraction": "1.0",
        "short_force_error_threshold": "1.0",
        "short_force_fraction": "0.1",
        "symfunction_short": "[('Li', 2, 'Li', 0.0, 0.0, 12.0), ('Li', 2, 'Li', 0.004675055980246072, 0.0, 12.0), ('Li', 2, 'Li', 0.010843416275634649, 0.0, 12.0), ('Li', 2, 'Li', 0.01939424193215976, 0.0, 12.0), ('Li', 2, 'Li', 0.03192971575337408, 0.0, 12.0), ('Li', 2, 'Li', 0.05159916711157465, 0.0, 12.0), ('Li', 3, 'Li', 'Li', 0.0, -1.0, 1, 12.0), ('Li', 3, 'Li', 'Li', 0.0, -1.0, 2, 12.0), ('Li', 3, 'Li', 'Li', 0.0, -1.0, 4, 12.0), ('Li', 3, 'Li', 'Li', 0.0, -1.0, 8, 12.0), ('Li', 3, 'Li', 'Li', 0.0, 1.0, 1, 12.0), ('Li', 3, 'Li', 'Li', 0.0, 1.0, 2, 12.0), ('Li', 3, 'Li', 'Li', 0.0, 1.0, 4, 12.0), ('Li', 3, 'Li', 'Li', 0.0, 1.0, 8, 12.0)]",
        "test_fraction": "0.1",
        "use_old_weights_charge": "False",
        "use_old_weights_short": "False",
        "use_short_forces": "True",
        "use_short_nn": "True",
        "write_weights_epoch": "5"
       },
       "training_data": "<pyiron_contrib.atomistics.atomistics.job.trainingcontainer.TrainingStorage object at 0x7ff3c9504460>"
      },
      "text/html": [
       "<pre>DataContainer({\n",
       "  \"parameters\": {\n",
       "    \"runner_mode\": \"1\",\n",
       "    \"symfunction_short\": \"[('Li', 2, 'Li', 0.0, 0.0, 12.0), ('Li', 2, 'Li', 0.004675055980246072, 0.0, 12.0), ('Li', 2, 'Li', 0.010843416275634649, 0.0, 12.0), ('Li', 2, 'Li', 0.01939424193215976, 0.0, 12.0), ('Li', 2, 'Li', 0.03192971575337408, 0.0, 12.0), ('Li', 2, 'Li', 0.05159916711157465, 0.0, 12.0), ('Li', 3, 'Li', 'Li', 0.0, -1.0, 1, 12.0), ('Li', 3, 'Li', 'Li', 0.0, -1.0, 2, 12.0), ('Li', 3, 'Li', 'Li', 0.0, -1.0, 4, 12.0), ('Li', 3, 'Li', 'Li', 0.0, -1.0, 8, 12.0), ('Li', 3, 'Li', 'Li', 0.0, 1.0, 1, 12.0), ('Li', 3, 'Li', 'Li', 0.0, 1.0, 2, 12.0), ('Li', 3, 'Li', 'Li', 0.0, 1.0, 4, 12.0), ('Li', 3, 'Li', 'Li', 0.0, 1.0, 8, 12.0)]\",\n",
       "    \"elements\": \"None\",\n",
       "    \"number_of_elements\": \"0\",\n",
       "    \"bond_threshold\": \"0.5\",\n",
       "    \"nn_type_short\": \"1\",\n",
       "    \"use_short_nn\": \"True\",\n",
       "    \"optmode_charge\": \"1\",\n",
       "    \"optmode_short_energy\": \"1\",\n",
       "    \"optmode_short_force\": \"1\",\n",
       "    \"points_in_memory\": \"1000\",\n",
       "    \"scale_symmetry_functions\": \"True\",\n",
       "    \"cutoff_type\": \"1\",\n",
       "    \"test_fraction\": \"0.1\",\n",
       "    \"use_short_forces\": \"True\",\n",
       "    \"epochs\": \"30\",\n",
       "    \"kalman_lambda_short\": \"0.98\",\n",
       "    \"kalman_nue_short\": \"0.9987\",\n",
       "    \"mix_all_points\": \"True\",\n",
       "    \"nguyen_widrow_weights_short\": \"True\",\n",
       "    \"repeated_energy_update\": \"True\",\n",
       "    \"short_energy_error_threshold\": \"0.1\",\n",
       "    \"short_energy_fraction\": \"1.0\",\n",
       "    \"short_force_error_threshold\": \"1.0\",\n",
       "    \"short_force_fraction\": \"0.1\",\n",
       "    \"use_old_weights_charge\": \"False\",\n",
       "    \"use_old_weights_short\": \"False\",\n",
       "    \"write_weights_epoch\": \"5\",\n",
       "    \"center_symmetry_functions\": \"True\",\n",
       "    \"precondition_weights\": \"True\",\n",
       "    \"global_activation_short\": \"[['t', 't', 'l']]\",\n",
       "    \"global_hidden_layers_short\": \"2\",\n",
       "    \"global_nodes_short\": \"[[15, 15]]\"\n",
       "  },\n",
       "  \"training_data\": \"<pyiron_contrib.atomistics.atomistics.job.trainingcontainer.TrainingStorage object at 0x7ff3c9504460>\"\n",
       "})</pre>"
      ],
      "text/plain": [
       "DataContainer({'parameters': DataContainer({'runner_mode': 1, 'symfunction_short': [('Li', 2, 'Li', 0.0, 0.0, 12.0), ('Li', 2, 'Li', 0.004675055980246072, 0.0, 12.0), ('Li', 2, 'Li', 0.010843416275634649, 0.0, 12.0), ('Li', 2, 'Li', 0.01939424193215976, 0.0, 12.0), ('Li', 2, 'Li', 0.03192971575337408, 0.0, 12.0), ('Li', 2, 'Li', 0.05159916711157465, 0.0, 12.0), ('Li', 3, 'Li', 'Li', 0.0, -1.0, 1, 12.0), ('Li', 3, 'Li', 'Li', 0.0, -1.0, 2, 12.0), ('Li', 3, 'Li', 'Li', 0.0, -1.0, 4, 12.0), ('Li', 3, 'Li', 'Li', 0.0, -1.0, 8, 12.0), ('Li', 3, 'Li', 'Li', 0.0, 1.0, 1, 12.0), ('Li', 3, 'Li', 'Li', 0.0, 1.0, 2, 12.0), ('Li', 3, 'Li', 'Li', 0.0, 1.0, 4, 12.0), ('Li', 3, 'Li', 'Li', 0.0, 1.0, 8, 12.0)], 'elements': None, 'number_of_elements': 0, 'bond_threshold': 0.5, 'nn_type_short': 1, 'use_short_nn': True, 'optmode_charge': 1, 'optmode_short_energy': 1, 'optmode_short_force': 1, 'points_in_memory': 1000, 'scale_symmetry_functions': True, 'cutoff_type': 1, 'test_fraction': 0.1, 'use_short_forces': True, 'epochs': 30, 'kalman_lambda_short': 0.98, 'kalman_nue_short': 0.9987, 'mix_all_points': True, 'nguyen_widrow_weights_short': True, 'repeated_energy_update': True, 'short_energy_error_threshold': 0.1, 'short_energy_fraction': 1.0, 'short_force_error_threshold': 1.0, 'short_force_fraction': 0.1, 'use_old_weights_charge': False, 'use_old_weights_short': False, 'write_weights_epoch': 5, 'center_symmetry_functions': True, 'precondition_weights': True, 'global_activation_short': [['t', 't', 'l']], 'global_hidden_layers_short': 2, 'global_nodes_short': [[15, 15]]}), 'training_data': <pyiron_contrib.atomistics.atomistics.job.trainingcontainer.TrainingStorage object at 0x7ff3c9504460>})"
      ]
     },
     "execution_count": 22,
     "metadata": {},
     "output_type": "execute_result"
    }
   ],
   "source": [
    "mode1.input"
   ]
  },
  {
   "cell_type": "markdown",
   "metadata": {
    "slideshow": {
     "slide_type": "slide"
    }
   },
   "source": [
    "### Mode 1: Calculation of SF Values"
   ]
  },
  {
   "cell_type": "markdown",
   "metadata": {
    "slideshow": {
     "slide_type": "notes"
    }
   },
   "source": [
    "In **RuNNer**'s mode 1 the following steps are performed:\n",
    "- calculation of SF values,\n",
    "- splitting of data set in train and test data set.\n",
    "\n",
    "The most important keywords for RuNNer mode 1 are summarized in the following table. Previously unmentioned keywords are marked in bold font."
   ]
  },
  {
   "cell_type": "markdown",
   "metadata": {
    "slideshow": {
     "slide_type": "notes"
    }
   },
   "source": [
    "| Keyword | Default | Description |\n",
    "|---------|---------|:-------------|\n",
    "|runner_mode | 1| \n",
    "|symfunction_short | empty `SymmetryFunctionSet`| Specification of the symmetry functions for a specific element with a specific neighbor element combination for the short-range NN.\n",
    "|elements | None| The element symbols of all elements in the system in arbitrary order. The number of specified elements must fit to the value of the keyword number_of_elements.\n",
    "|number_of_elements | 0| Specify the number of chemical elements in the system.\n",
    "|points_in_memory | 1000| This keyword controls memory consumption and IO and is therefore important to achieve an optimum performance of RuNNer. Has a different meaning depending on the current runner_mode.\n",
    "|**cutoff_type** | 1| This keyword determines the cutoff function to be used for the symmetry functions.\n",
    "|**test_fraction** | 0.1| Threshold for splitting between training and testing set in runner_mode 1.\n",
    "|use_short_forces | True| Use forces for fitting the short range NN weights.\n",
    "|**random_seed** | None | The seed for ensuring reproducible results. Will be chosen automatically by pyiron if none was supplied."
   ]
  },
  {
   "cell_type": "markdown",
   "metadata": {
    "slideshow": {
     "slide_type": "notes"
    }
   },
   "source": [
    "Finally, starting mode 1 is as simple as calling the `run` function. For safety, we reset the `runner_mode` parameter to 1. "
   ]
  },
  {
   "cell_type": "code",
   "execution_count": 23,
   "metadata": {
    "scrolled": true,
    "slideshow": {
     "slide_type": "fragment"
    }
   },
   "outputs": [
    {
     "name": "stdout",
     "output_type": "stream",
     "text": [
      "DataContainer({'parameters': DataContainer({'runner_mode': 1, 'elements': None, 'number_of_elements': 0, 'bond_threshold': 0.5, 'nn_type_short': 1, 'use_short_nn': True, 'optmode_charge': 1, 'optmode_short_energy': 1, 'optmode_short_force': 1, 'points_in_memory': 1000, 'scale_symmetry_functions': True, 'cutoff_type': 1, 'test_fraction': 0.1, 'use_short_forces': True, 'epochs': 30, 'kalman_lambda_short': 0.98, 'kalman_nue_short': 0.9987, 'mix_all_points': True, 'nguyen_widrow_weights_short': True, 'repeated_energy_update': True, 'short_energy_error_threshold': 0.1, 'short_energy_fraction': 1.0, 'short_force_error_threshold': 1.0, 'short_force_fraction': 0.1, 'use_old_weights_charge': False, 'use_old_weights_short': False, 'write_weights_epoch': 5, 'center_symmetry_functions': True, 'precondition_weights': True, 'global_activation_short': [['t', 't', 'l']], 'global_hidden_layers_short': 2, 'global_nodes_short': [[15, 15]], 'symfunction_short': [('Li', 2, 'Li', 0.0, 0.0, 12.0), ('Li', 2, 'Li', 0.004675055980246072, 0.0, 12.0), ('Li', 2, 'Li', 0.010843416275634649, 0.0, 12.0), ('Li', 2, 'Li', 0.01939424193215976, 0.0, 12.0), ('Li', 2, 'Li', 0.03192971575337408, 0.0, 12.0), ('Li', 2, 'Li', 0.05159916711157465, 0.0, 12.0), ('Li', 3, 'Li', 'Li', 0.0, -1.0, 1, 12.0), ('Li', 3, 'Li', 'Li', 0.0, -1.0, 2, 12.0), ('Li', 3, 'Li', 'Li', 0.0, -1.0, 4, 12.0), ('Li', 3, 'Li', 'Li', 0.0, -1.0, 8, 12.0), ('Li', 3, 'Li', 'Li', 0.0, 1.0, 1, 12.0), ('Li', 3, 'Li', 'Li', 0.0, 1.0, 2, 12.0), ('Li', 3, 'Li', 'Li', 0.0, 1.0, 4, 12.0), ('Li', 3, 'Li', 'Li', 0.0, 1.0, 8, 12.0)]}), 'training_data': <pyiron_contrib.atomistics.atomistics.job.trainingcontainer.TrainingStorage object at 0x7ff3c9504460>})\n",
      "The job fit_mode1 was saved and received the ID: 238\n"
     ]
    }
   ],
   "source": [
    "# Run Mode 1.\n",
    "mode1.parameters.runner_mode = 1\n",
    "mode1.run(delete_existing_job=True)"
   ]
  },
  {
   "cell_type": "markdown",
   "metadata": {
    "slideshow": {
     "slide_type": "notes"
    }
   },
   "source": [
    "The output of the calculation is stored in the `output` property of the job."
   ]
  },
  {
   "cell_type": "code",
   "execution_count": 24,
   "metadata": {
    "slideshow": {
     "slide_type": "fragment"
    }
   },
   "outputs": [
    {
     "data": {
      "application/json": {
       "sfvalues": "<pyiron_contrib.atomistics.runner.storageclasses.HDFSymmetryFunctionValues object at 0x7ff3c72def20>",
       "splittraintest": "HDFSplitTrainTest(n_train=159, n_test=17)"
      },
      "text/html": [
       "<pre>DataContainer({\n",
       "  \"sfvalues\": \"<pyiron_contrib.atomistics.runner.storageclasses.HDFSymmetryFunctionValues object at 0x7ff3c72def20>\",\n",
       "  \"splittraintest\": \"HDFSplitTrainTest(n_train=159, n_test=17)\"\n",
       "})</pre>"
      ],
      "text/plain": [
       "DataContainer({'sfvalues': <pyiron_contrib.atomistics.runner.storageclasses.HDFSymmetryFunctionValues object at 0x7ff3c72def20>, 'splittraintest': HDFSplitTrainTest(n_train=159, n_test=17)})"
      ]
     },
     "execution_count": 24,
     "metadata": {},
     "output_type": "execute_result"
    }
   ],
   "source": [
    "mode1.output"
   ]
  },
  {
   "cell_type": "markdown",
   "metadata": {
    "slideshow": {
     "slide_type": "notes"
    }
   },
   "source": [
    "As you can see, `output` is a `DataContainer` with two nodes: the calculated SF values (`sfvalues`) and the split between training and testing data (`splittraintest`). The data is encapsulated in corresponding objects, e.g. `HDFSplitTrainTest`.\n",
    "\n",
    "_For those who are interested: the object `HDFSplitTraintTest` wraps a similar object that is provided by the runnerase package (`RunnerSplitTrainTest`). This is necessary to provide the runnerase object with the capabilities to read and write itself to and from HDF format. Apart from these additional functions, the two classes behave completely the same. All output values of the RunnerFit job are stored in this way. `HDFSymmetryFunctionValues` is an exception: because SF values are very large, they are stored on the pyiron-side in a flat storage array. Therefore, `HDFSymmetryFunctionValues` and `RunnerSymmetryFunctionValues` behave differently. In order to work with `HDFSymmetryFunctionValues` more conveniently, we therefore convert it back to the `RunnerSymmetryFunctionValues` class by calling its `to_runnerase` routine._"
   ]
  },
  {
   "cell_type": "markdown",
   "metadata": {
    "slideshow": {
     "slide_type": "notes"
    }
   },
   "source": [
    "We store the two different output values in variables and access their plotting interfaces."
   ]
  },
  {
   "cell_type": "code",
   "execution_count": 25,
   "metadata": {
    "slideshow": {
     "slide_type": "fragment"
    }
   },
   "outputs": [],
   "source": [
    "split = mode1.output['splittraintest']\n",
    "sfvalues = mode1.output['sfvalues'].to_runnerase()"
   ]
  },
  {
   "cell_type": "code",
   "execution_count": 26,
   "metadata": {
    "slideshow": {
     "slide_type": "subslide"
    }
   },
   "outputs": [
    {
     "data": {
      "image/png": "[encoded data removed]",
      "text/plain": [
       "<Figure size 1008x432 with 1 Axes>"
      ]
     },
     "metadata": {},
     "output_type": "display_data"
    }
   ],
   "source": [
    "fig, ax = plt.subplots(figsize=(14, 6))\n",
    "split.plot.pie()\n",
    "plt.show()"
   ]
  },
  {
   "cell_type": "code",
   "execution_count": 27,
   "metadata": {
    "scrolled": false,
    "slideshow": {
     "slide_type": "subslide"
    }
   },
   "outputs": [
    {
     "data": {
      "image/png": "[encoded data removed]",
      "text/plain": [
       "<Figure size 1008x432 with 1 Axes>"
      ]
     },
     "metadata": {
      "needs_background": "light"
     },
     "output_type": "display_data"
    }
   ],
   "source": [
    "fig, ax = plt.subplots(figsize=(14, 6))\n",
    "sfvalues.plot.boxplot()\n",
    "plt.show()"
   ]
  },
  {
   "cell_type": "markdown",
   "metadata": {
    "slideshow": {
     "slide_type": "notes"
    }
   },
   "source": [
    "The boxplot above shows the distribution of SF values in the entire dataset for each SF. Outliers are depicted with black kites and every point corresponds to one atom.\n",
    "\n",
    "This plot can give clues about outliers in the datatset which are difficult to fit. For example, symmetry function 7 shows very large values for one atom. This could indicate, that two atoms are getting unreasonably close (for radial SFs) or that their angle is very narrow (for angular SFs). Investigating such structures and, if necessary, removing them from the training dataset, can often improve a fit.    "
   ]
  },
  {
   "cell_type": "markdown",
   "metadata": {
    "slideshow": {
     "slide_type": "slide"
    }
   },
   "source": [
    "### Mode 2: Potential Training"
   ]
  },
  {
   "cell_type": "markdown",
   "metadata": {
    "slideshow": {
     "slide_type": "notes"
    }
   },
   "source": [
    "In ``mode 2``, the magic happens and your data will be fitted. Again, we summarize important keywords in a table. There are many other keywords which allow you to finetune your potential. However, the selection below should give you many possibilities to change the outcome of the training process."
   ]
  },
  {
   "cell_type": "markdown",
   "metadata": {
    "slideshow": {
     "slide_type": "notes"
    }
   },
   "source": [
    "| Keyword | Default | Description |\n",
    "|---------|---------|:-------------|\n",
    "|runner_mode | 1| Must be set to 2.\n",
    "|nn_type_short | 1| Specify the NN type of the short-range part.\n",
    "|use_short_nn | True| Use the a short range NN. Whether an atomic or pair-based energy expression is used is determined via the keyword nn_type_short.\n",
    "|**optmode_short_energy** | 1| Specify the optimization algorithm for the short-range energy contributions.\n",
    "|**optmode_short_force** | 1| Specify the optimization algorithm for the short-range forces.\n",
    "|points_in_memory | 1000| This keyword controls memory consumption and IO and is therefore important to achieve an optimum performance of RuNNer. Has a different meaning depending on the current runner_mode.\n",
    "|**scale_symmetry_functions** | True| Rescale symmetry functions to a certain interval (the default interval is 0 to 1). This has numerical advantages if the orders of magnitudes of different symmetry functions are very different. If the minimum and maximum value for a symmetry function is the same for all structures, rescaling is not possible and RuNNer will terminate with an error. The interval can be specified by the keywords \n",
    "|use_short_forces | True| Use forces for fitting the short range NN weights.\n",
    "|**epochs** | 30| The number of epochs for fitting. If 0 is specified, RuNNer will calculate the error and terminate without adjusting weights.\n",
    "|**kalman_lambda_short** | 0.98| Kalman filter parameter $\\lambda$ for the short range NN weight updates.\n",
    "|**kalman_nue_short** | 0.9987| Kalman filter parameter $\\nu$ for the short range weight updates.\n",
    "|**mix_all_points** | True| Randomly reorder the data points in the data set at the beginning of each new epoch.\n",
    "|**nguyen_widrow_weights_short** | True| Initialize the short-range NN weights according to the scheme proposed by Nguyen and Widrow. The initial weights and bias values in the hidden layer are chosen such that the input space is evenly distributed over the nodes. This may speed up the training process.\n",
    "|**repeated_energy_update** | True| If this keyword is set, the weights of the short-range NN are updated a second time after the force update with respect to the total energies in the data set. This usually results in a more accurate potential energy fitting at the cost of slightly detiorated forces.\n",
    "|**center_symmetry_functions** | True| Shift the symmetry function values individually for each symmetry function such that the average is moved to zero. This may have numerical advantages, because zero is the center of the non-linear regions of most activation functions.\n",
    "|**precondition_weights** | True| Shift the weights of the atomic NNs right after the initialization so that the standard deviation of the NN energies is the same as the standard deviation of the reference energies.\n",
    "|**global_activation_short** | [['t' 't' 'l']]| Set the activation function for each hidden layer and the output layer in the short range NNs of all elements. \n",
    "|**global_hidden_layers_short** | 2| Set the default number of hidden layers in the short-range NNs of all elements. Internally 1 is added to maxnum_layers_short, which also includes the output layer.\n",
    "|**global_nodes_short** | [[15 15]]| Set the default number of nodes in the hidden layers of the short-range NNs in case of nn_type_short 1. In the array, the entries 1 - maxnum_layersshort - 1 refer to the hidden layers. The first entry (0) refers to the nodes in the input layer and is determined automatically from the symmetry functions."
   ]
  },
  {
   "cell_type": "markdown",
   "metadata": {
    "slideshow": {
     "slide_type": "notes"
    }
   },
   "source": [
    "During the fitting process of the NN, the error function $\\Gamma$ is minimized, which is defined as "
   ]
  },
  {
   "cell_type": "markdown",
   "metadata": {},
   "source": [
    "\\begin{equation}\n",
    "    \\Gamma = \\mathrm{RMSE}(E)=\\frac{1}{N_\\mathrm{struct}} \\sum_{i}^{N_\\mathrm{\\mathrm{struct}}} (E_{\\mathrm{NN}}^{i} - E_{\\mathrm{ref}}^{i})^2,\n",
    "\\end{equation}"
   ]
  },
  {
   "cell_type": "markdown",
   "metadata": {},
   "source": [
    "if only energy fitting is used, which defines simultaneously the root-mean squared error of the energies $\\mathrm{RMSE}(E)$. This defines the differences of the reference data and the NNP predictions."
   ]
  },
  {
   "cell_type": "markdown",
   "metadata": {
    "slideshow": {
     "slide_type": "notes"
    }
   },
   "source": [
    "In order to run mode 2, we will restart the previous calculation, thereby creating a new job with its own folder structure. This way, we can try different combinations of parameters without overwriting any of the previous results. \n",
    "\n",
    "Moreover, we will change some of the default parameters of the job. We reduce the number of epochs to 15 to keep the runtime short for this tutorial. Apart from that, we turn on force fitting (`use_short_forces=True`). This is turned off by default as force fitting is much more computationally demanding than pure energy fitting.\n",
    "\n",
    "The next cell will run a few minutes."
   ]
  },
  {
   "cell_type": "code",
   "execution_count": 28,
   "metadata": {
    "scrolled": true,
    "slideshow": {
     "slide_type": "subslide"
    }
   },
   "outputs": [
    {
     "name": "stdout",
     "output_type": "stream",
     "text": [
      "DataContainer({'parameters': DataContainer({'runner_mode': 2, 'elements': None, 'number_of_elements': 0, 'bond_threshold': 0.5, 'nn_type_short': 1, 'use_short_nn': 1, 'optmode_charge': 1, 'optmode_short_energy': 1, 'optmode_short_force': 1, 'points_in_memory': 1000, 'scale_symmetry_functions': 1, 'cutoff_type': 1, 'test_fraction': 0.1, 'use_short_forces': True, 'epochs': 15, 'kalman_lambda_short': 0.98, 'kalman_nue_short': 0.9987, 'mix_all_points': 1, 'nguyen_widrow_weights_short': 1, 'repeated_energy_update': 1, 'short_energy_error_threshold': 0.1, 'short_energy_fraction': 1.0, 'short_force_error_threshold': 1.0, 'short_force_fraction': 0.1, 'use_old_weights_charge': 0, 'use_old_weights_short': 0, 'write_weights_epoch': 5, 'center_symmetry_functions': 1, 'precondition_weights': 1, 'global_activation_short': [['t', 't', 'l']], 'global_hidden_layers_short': 2, 'global_nodes_short': [[15, 15]], 'symfunction_short': [('Li', 2, 'Li', 0.0, 0.0, 12.0), ('Li', 2, 'Li', 0.004675055980246072, 0.0, 12.0), ('Li', 2, 'Li', 0.010843416275634649, 0.0, 12.0), ('Li', 2, 'Li', 0.01939424193215976, 0.0, 12.0), ('Li', 2, 'Li', 0.03192971575337408, 0.0, 12.0), ('Li', 2, 'Li', 0.05159916711157465, 0.0, 12.0), ('Li', 3, 'Li', 'Li', 0.0, -1.0, 1.0, 12.0), ('Li', 3, 'Li', 'Li', 0.0, -1.0, 2.0, 12.0), ('Li', 3, 'Li', 'Li', 0.0, -1.0, 4.0, 12.0), ('Li', 3, 'Li', 'Li', 0.0, -1.0, 8.0, 12.0), ('Li', 3, 'Li', 'Li', 0.0, 1.0, 1.0, 12.0), ('Li', 3, 'Li', 'Li', 0.0, 1.0, 2.0, 12.0), ('Li', 3, 'Li', 'Li', 0.0, 1.0, 4.0, 12.0), ('Li', 3, 'Li', 'Li', 0.0, 1.0, 8.0, 12.0)]}), 'training_data': <pyiron_contrib.atomistics.atomistics.job.trainingcontainer.TrainingStorage object at 0x7ff3c6db91b0>})\n",
      "The job fit_mode2 was saved and received the ID: 239\n"
     ]
    }
   ],
   "source": [
    "# Run Mode 2.\n",
    "mode2 = mode1.restart('fit_mode2')\n",
    "mode2.parameters.runner_mode = 2\n",
    "mode2.parameters.epochs = 15\n",
    "mode2.parameters.use_short_forces = True\n",
    "mode2.run(delete_existing_job=True)"
   ]
  },
  {
   "cell_type": "markdown",
   "metadata": {
    "slideshow": {
     "slide_type": "notes"
    }
   },
   "source": [
    "After the job has finished, we can first take a look at the behaviour of the error function, i.e. the RMSE. The `output` of mode 2 consists of three properties: the results of the fitting process (`fitresults`), the optimized weights and the symmetry function scaling data for shifting to zero mean and unit variance (`scaling`)."
   ]
  },
  {
   "cell_type": "code",
   "execution_count": 29,
   "metadata": {
    "scrolled": true,
    "slideshow": {
     "slide_type": "subslide"
    }
   },
   "outputs": [
    {
     "name": "stdout",
     "output_type": "stream",
     "text": [
      "Epoch | RMSE(E) / eV/atom  | RMSE(F) / eV/Bohr  |\n",
      "=================================================\n",
      "      |  Train   |  Test   |  Train   |  Test   |\n",
      "-------------------------------------------------\n",
      "    0 |  0.1355  |  0.1938 |  0.1403  |  0.1291 |\n",
      "    1 |  0.0285  |  0.2956 |  0.0604  |  0.0515 |\n",
      "    2 |  0.0147  |  0.2408 |  0.0548  |  0.0469 |\n",
      "    3 |  0.0171  |  0.0410 |  0.0438  |  0.0373 |\n",
      "    4 |  0.0158  |  0.0542 |  0.0360  |  0.0322 |\n",
      "    5 |  0.0196  |  0.0065 |  0.0319  |  0.0288 | <- Best Epoch\n",
      "    6 |  0.0182  |  0.0290 |  0.0295  |  0.0273 |\n",
      "    7 |  0.0048  |  0.2361 |  0.0281  |  0.0259 |\n",
      "    8 |  0.0054  |  0.1001 |  0.0271  |  0.0255 |\n",
      "    9 |  0.0048  |  0.1364 |  0.0265  |  0.0248 |\n",
      "   10 |  0.0062  |  0.3651 |  0.0259  |  0.0241 |\n",
      "   11 |  0.0038  |  0.2871 |  0.0254  |  0.0237 |\n",
      "   12 |  0.0029  |  0.0764 |  0.0247  |  0.0230 |\n",
      "   13 |  0.0033  |  0.0739 |  0.0243  |  0.0227 |\n",
      "   14 |  0.0022  |  0.0977 |  0.0240  |  0.0224 |\n",
      "   15 |  0.0021  |  0.1520 |  0.0235  |  0.0219 |\n"
     ]
    }
   ],
   "source": [
    "mode2.output['fitresults'].table()"
   ]
  },
  {
   "cell_type": "markdown",
   "metadata": {
    "slideshow": {
     "slide_type": "notes"
    }
   },
   "source": [
    "The `table` function already shows you that both the energy and force RMSE are declining. The best epoch is determined by the energy RMSE on the **test** set that is lowest.\n",
    "\n",
    "A more accessible analysis can be obtained by looking at the plots of this data."
   ]
  },
  {
   "cell_type": "code",
   "execution_count": 30,
   "metadata": {
    "slideshow": {
     "slide_type": "subslide"
    }
   },
   "outputs": [
    {
     "data": {
      "image/png": "[encoded data removed]",
      "text/plain": [
       "<Figure size 1008x432 with 1 Axes>"
      ]
     },
     "metadata": {
      "needs_background": "light"
     },
     "output_type": "display_data"
    }
   ],
   "source": [
    "fig, ax = plt.subplots(1, 1, figsize=(14, 6))\n",
    "mode2.output['fitresults'].plot.rmse_e()\n",
    "plt.show()"
   ]
  },
  {
   "cell_type": "code",
   "execution_count": 31,
   "metadata": {
    "slideshow": {
     "slide_type": "subslide"
    }
   },
   "outputs": [
    {
     "data": {
      "image/png": "[encoded data removed]",
      "text/plain": [
       "<Figure size 1008x432 with 1 Axes>"
      ]
     },
     "metadata": {
      "needs_background": "light"
     },
     "output_type": "display_data"
    }
   ],
   "source": [
    "fig, ax = plt.subplots(1, 1, figsize=(14, 6))\n",
    "mode2.output['fitresults'].plot.rmse_f()\n",
    "plt.show()"
   ]
  },
  {
   "cell_type": "markdown",
   "metadata": {
    "slideshow": {
     "slide_type": "notes"
    }
   },
   "source": [
    "The RMSE of the test set is consistently lower than that of the training set. This is because we are using a very small test set including only 17 structures. In contrast to that, you could identify overfitting, if the train RMSE were much lower than the test RMSE.\n",
    "\n",
    "Nevertheless, the RMSE is a rather strong reduction of the really complex potential energy surface (PES) and can only be understood as a rule of thumb for the quality of the NNP fit."
   ]
  },
  {
   "cell_type": "markdown",
   "metadata": {
    "slideshow": {
     "slide_type": "slide"
    }
   },
   "source": [
    "### Mode 3: Potential Evaluation"
   ]
  },
  {
   "cell_type": "markdown",
   "metadata": {
    "slideshow": {
     "slide_type": "notes"
    }
   },
   "source": [
    "**RuNNer** ``mode 3`` is the prediction mode and brings the NNP to application. "
   ]
  },
  {
   "cell_type": "markdown",
   "metadata": {
    "slideshow": {
     "slide_type": "notes"
    }
   },
   "source": [
    "| Keyword | Default | Description |\n",
    "|---------|---------|:-------------|\n",
    "|runner_mode | 1| Must be set to 3.\n",
    "|calculate_forces | True| Calculate the atomic forces in runner_mode 3 and write them to the files runner.out and nnforces.out."
   ]
  },
  {
   "cell_type": "markdown",
   "metadata": {
    "slideshow": {
     "slide_type": "notes"
    }
   },
   "source": [
    "We start the calculation following the same pattern as for mode 2."
   ]
  },
  {
   "cell_type": "code",
   "execution_count": 32,
   "metadata": {
    "slideshow": {
     "slide_type": "subslide"
    }
   },
   "outputs": [
    {
     "name": "stdout",
     "output_type": "stream",
     "text": [
      "DataContainer({'parameters': DataContainer({'runner_mode': 3, 'elements': None, 'number_of_elements': 0, 'bond_threshold': 0.5, 'nn_type_short': 1, 'use_short_nn': 1, 'optmode_charge': 1, 'optmode_short_energy': 1, 'optmode_short_force': 1, 'points_in_memory': 1000, 'scale_symmetry_functions': 1, 'cutoff_type': 1, 'test_fraction': 0.1, 'use_short_forces': 1, 'epochs': 15, 'kalman_lambda_short': 0.98, 'kalman_nue_short': 0.9987, 'mix_all_points': 1, 'nguyen_widrow_weights_short': 1, 'repeated_energy_update': 1, 'short_energy_error_threshold': 0.1, 'short_energy_fraction': 1.0, 'short_force_error_threshold': 1.0, 'short_force_fraction': 0.1, 'use_old_weights_charge': 0, 'use_old_weights_short': 0, 'write_weights_epoch': 5, 'center_symmetry_functions': 1, 'precondition_weights': 1, 'global_activation_short': [['t', 't', 'l']], 'global_hidden_layers_short': 2, 'global_nodes_short': [[15, 15]], 'calculate_forces': True, 'symfunction_short': [('Li', 2, 'Li', 0.0, 0.0, 12.0), ('Li', 2, 'Li', 0.004675055980246072, 0.0, 12.0), ('Li', 2, 'Li', 0.010843416275634649, 0.0, 12.0), ('Li', 2, 'Li', 0.01939424193215976, 0.0, 12.0), ('Li', 2, 'Li', 0.03192971575337408, 0.0, 12.0), ('Li', 2, 'Li', 0.05159916711157465, 0.0, 12.0), ('Li', 3, 'Li', 'Li', 0.0, -1.0, 1.0, 12.0), ('Li', 3, 'Li', 'Li', 0.0, -1.0, 2.0, 12.0), ('Li', 3, 'Li', 'Li', 0.0, -1.0, 4.0, 12.0), ('Li', 3, 'Li', 'Li', 0.0, -1.0, 8.0, 12.0), ('Li', 3, 'Li', 'Li', 0.0, 1.0, 1.0, 12.0), ('Li', 3, 'Li', 'Li', 0.0, 1.0, 2.0, 12.0), ('Li', 3, 'Li', 'Li', 0.0, 1.0, 4.0, 12.0), ('Li', 3, 'Li', 'Li', 0.0, 1.0, 8.0, 12.0)]}), 'training_data': <pyiron_contrib.atomistics.atomistics.job.trainingcontainer.TrainingStorage object at 0x7ff3c6db9630>})\n",
      "The job fit_mode3 was saved and received the ID: 240\n"
     ]
    },
    {
     "name": "stderr",
     "output_type": "stream",
     "text": [
      "/home/kalm/dcmnts/uni/promotion/src/runnerase/runnerase/io/ase.py:313: VisibleDeprecationWarning: Creating an ndarray from ragged nested sequences (which is a list-or-tuple of lists-or-tuples-or ndarrays with different lengths or shapes) is deprecated. If you meant to do this, you must specify 'dtype=object' when creating the ndarray.\n",
      "  forces = np.array([i.get_forces() for i in pred_structures])\n"
     ]
    }
   ],
   "source": [
    "# Run Mode 3.\n",
    "mode3 = mode2.restart('fit_mode3')\n",
    "mode3.parameters.runner_mode = 3\n",
    "mode3.parameters.calculate_forces = True\n",
    "mode3.run(delete_existing_job=True)"
   ]
  },
  {
   "cell_type": "markdown",
   "metadata": {
    "slideshow": {
     "slide_type": "notes"
    }
   },
   "source": [
    "As we turned on `calculate_forces`, mode 3 will give us the energy and force for each structure in the training and testing datasets. Take a look at the `output` to see that we now have access to all possible output properties."
   ]
  },
  {
   "cell_type": "code",
   "execution_count": 33,
   "metadata": {
    "slideshow": {
     "slide_type": "fragment"
    }
   },
   "outputs": [
    {
     "data": {
      "text/plain": [
       "['sfvalues',\n",
       " 'splittraintest',\n",
       " 'fitresults',\n",
       " 'weights',\n",
       " 'scaling',\n",
       " 'energy',\n",
       " 'forces']"
      ]
     },
     "execution_count": 33,
     "metadata": {},
     "output_type": "execute_result"
    }
   ],
   "source": [
    "mode3.output.list_nodes()"
   ]
  },
  {
   "cell_type": "markdown",
   "metadata": {
    "slideshow": {
     "slide_type": "notes"
    }
   },
   "source": [
    "For a more detailed analyze, we can have a look at the atomic energy and force prediction of the NNP compared to the reference values. For a perfect fit, all points will be on the diagonal of the plot. In this plot, we can identify, for example, whether some energies ranges are not well described in our data set. This could be related to our first data set analysis above."
   ]
  },
  {
   "cell_type": "code",
   "execution_count": 34,
   "metadata": {
    "scrolled": false,
    "slideshow": {
     "slide_type": "subslide"
    }
   },
   "outputs": [
    {
     "data": {
      "image/png": "[encoded data removed]",
      "text/plain": [
       "<Figure size 1008x432 with 2 Axes>"
      ]
     },
     "metadata": {
      "needs_background": "light"
     },
     "output_type": "display_data"
    }
   ],
   "source": [
    "fig, ax = plt.subplots(1, 1, figsize=(14, 6))\n",
    "mode3.plot.energy_scatter_histogram()\n",
    "plt.show()"
   ]
  },
  {
   "cell_type": "code",
   "execution_count": 35,
   "metadata": {
    "scrolled": false,
    "slideshow": {
     "slide_type": "subslide"
    }
   },
   "outputs": [
    {
     "data": {
      "image/png": "[encoded data removed]",
      "text/plain": [
       "<Figure size 1008x432 with 2 Axes>"
      ]
     },
     "metadata": {
      "needs_background": "light"
     },
     "output_type": "display_data"
    }
   ],
   "source": [
    "fig, ax = plt.subplots(1, 1, figsize=(14, 6))\n",
    "mode3.plot.force_scatter_histogram(axis=0)\n",
    "plt.show()"
   ]
  },
  {
   "cell_type": "markdown",
   "metadata": {
    "slideshow": {
     "slide_type": "slide"
    }
   },
   "source": [
    "### LAMMPS: Using the Potential"
   ]
  },
  {
   "cell_type": "markdown",
   "metadata": {
    "slideshow": {
     "slide_type": "notes"
    }
   },
   "source": [
    "After successfully running modes 1 through 3, the potential is ready for application. Via [n2p2](https://compphysvienna.github.io/n2p2/index.html), the NNP can be used in combination with LAMMPS to drive large-scale atomistic simulations.\n",
    "\n",
    "As was done for previous potentials, we create a pandas dataframe holding all the relevant pieces of information about the potential using `get_lammps_potential`. **API break:** In our case, we need to specifically define the `elements` present in the simulations. Otherwise, the mapping between species in n2p2 and LAMMPS might be off."
   ]
  },
  {
   "cell_type": "code",
   "execution_count": 36,
   "metadata": {
    "scrolled": false,
    "slideshow": {
     "slide_type": "fragment"
    }
   },
   "outputs": [
    {
     "data": {
      "text/html": [
       "<div>\n",
       "<style scoped>\n",
       "    .dataframe tbody tr th:only-of-type {\n",
       "        vertical-align: middle;\n",
       "    }\n",
       "\n",
       "    .dataframe tbody tr th {\n",
       "        vertical-align: top;\n",
       "    }\n",
       "\n",
       "    .dataframe thead th {\n",
       "        text-align: right;\n",
       "    }\n",
       "</style>\n",
       "<table border=\"1\" class=\"dataframe\">\n",
       "  <thead>\n",
       "    <tr style=\"text-align: right;\">\n",
       "      <th></th>\n",
       "      <th>Name</th>\n",
       "      <th>Filename</th>\n",
       "      <th>Model</th>\n",
       "      <th>Species</th>\n",
       "      <th>Config</th>\n",
       "    </tr>\n",
       "  </thead>\n",
       "  <tbody>\n",
       "    <tr>\n",
       "      <th>0</th>\n",
       "      <td>RuNNer-Li</td>\n",
       "      <td>[/home/kalm/dcmnts/uni/promotion/work/workshop_bochum/handson_notebook/workshop_preparation/introduction/training/fit_lithium/fit_mode3_hdf5/fit_mode3/input.nn, /home/kalm/dcmnts/uni/promotion/wor...</td>\n",
       "      <td>RuNNer</td>\n",
       "      <td>[Li]</td>\n",
       "      <td>[pair_style hdnnp 6.350126526766093 dir \"./\" showew yes showewsum 0 resetew no maxew 100 cflength 1.8897261328 cfenergy 0.0367493254\\n, pair_coeff * * Li\\n]</td>\n",
       "    </tr>\n",
       "  </tbody>\n",
       "</table>\n",
       "</div>"
      ],
      "text/plain": [
       "        Name  \\\n",
       "0  RuNNer-Li   \n",
       "\n",
       "                                                                                                                                                                                                  Filename  \\\n",
       "0  [/home/kalm/dcmnts/uni/promotion/work/workshop_bochum/handson_notebook/workshop_preparation/introduction/training/fit_lithium/fit_mode3_hdf5/fit_mode3/input.nn, /home/kalm/dcmnts/uni/promotion/wor...   \n",
       "\n",
       "    Model Species  \\\n",
       "0  RuNNer    [Li]   \n",
       "\n",
       "                                                                                                                                                         Config  \n",
       "0  [pair_style hdnnp 6.350126526766093 dir \"./\" showew yes showewsum 0 resetew no maxew 100 cflength 1.8897261328 cfenergy 0.0367493254\\n, pair_coeff * * Li\\n]  "
      ]
     },
     "metadata": {},
     "output_type": "display_data"
    }
   ],
   "source": [
    "pot = mode3.get_lammps_potential(elements=['Li'])\n",
    "\n",
    "display(pot)"
   ]
  },
  {
   "cell_type": "markdown",
   "metadata": {
    "slideshow": {
     "slide_type": "notes"
    }
   },
   "source": [
    "As a first application, we are going to calculate the energy-volume curve of bulk lithium. This requires the minimization of structures with different cell geometries, a suitable first test for the stability of a new HDNNP.\n",
    "\n",
    "We create a new subproject for these calculations:"
   ]
  },
  {
   "cell_type": "code",
   "execution_count": 37,
   "metadata": {
    "slideshow": {
     "slide_type": "skip"
    }
   },
   "outputs": [
    {
     "data": {
      "application/vnd.jupyter.widget-view+json": {
       "model_id": "3aecc6ad968d4852bacd5e622c8cfb44",
       "version_major": 2,
       "version_minor": 0
      },
      "text/plain": [
       "  0%|          | 0/7 [00:00<?, ?it/s]"
      ]
     },
     "metadata": {},
     "output_type": "display_data"
    }
   ],
   "source": [
    "if 'E_V_curve' in pr.list_groups():\n",
    "    pr['E_V_curve'].remove_jobs(silently=True)\n",
    "pr_ev = pr.create_group('E_V_curve')"
   ]
  },
  {
   "cell_type": "markdown",
   "metadata": {
    "slideshow": {
     "slide_type": "notes"
    }
   },
   "source": [
    "Next, we create Li bulk structures, varying the cell parameter `a` between 3.0 and 4.0 Angstrom. For each structure, we create a LAMMPS job that minimizes the energy of the system."
   ]
  },
  {
   "cell_type": "code",
   "execution_count": 38,
   "metadata": {
    "slideshow": {
     "slide_type": "skip"
    }
   },
   "outputs": [
    {
     "name": "stdout",
     "output_type": "stream",
     "text": [
      "<pyiron_atomistics.lammps.base.Input object at 0x7ff3c94d24a0>\n",
      "The job job_a_3_0 was saved and received the ID: 241\n",
      "reading output\n",
      "<pyiron_atomistics.lammps.base.Input object at 0x7ff3c94d3700>\n",
      "The job job_a_3_167 was saved and received the ID: 242\n",
      "reading output\n",
      "<pyiron_atomistics.lammps.base.Input object at 0x7ff3c94901f0>\n",
      "The job job_a_3_333 was saved and received the ID: 243\n",
      "reading output\n",
      "<pyiron_atomistics.lammps.base.Input object at 0x7ff3c9436ef0>\n",
      "The job job_a_3_5 was saved and received the ID: 244\n",
      "reading output\n",
      "<pyiron_atomistics.lammps.base.Input object at 0x7ff3c4769ab0>\n",
      "The job job_a_3_667 was saved and received the ID: 245\n",
      "reading output\n",
      "<pyiron_atomistics.lammps.base.Input object at 0x7ff3c9403e80>\n",
      "The job job_a_3_833 was saved and received the ID: 246\n",
      "reading output\n",
      "<pyiron_atomistics.lammps.base.Input object at 0x7ff3c9401c30>\n",
      "The job job_a_4_0 was saved and received the ID: 247\n",
      "reading output\n"
     ]
    }
   ],
   "source": [
    "a_list = np.linspace(3.0, 4.0, 7)\n",
    "for a in a_list:\n",
    "    job_name = f'job_a_{a:.4}'.replace('.', '_')\n",
    "    job = pr_ev.create.job.Lammps(job_name, delete_existing_job=True)\n",
    "    job.structure = pr_ev.create_ase_bulk('Li', a=a)\n",
    "    job.potential = pot\n",
    "    job.calc_minimize()\n",
    "    job.run(delete_existing_job=True)"
   ]
  },
  {
   "cell_type": "markdown",
   "metadata": {
    "slideshow": {
     "slide_type": "notes"
    }
   },
   "source": [
    "Finally, we create a plot from the collected data."
   ]
  },
  {
   "cell_type": "code",
   "execution_count": 39,
   "metadata": {
    "slideshow": {
     "slide_type": "skip"
    }
   },
   "outputs": [
    {
     "data": {
      "application/vnd.jupyter.widget-view+json": {
       "model_id": "a35e6dc45f4e41fe8ef98df2d29ac5f4",
       "version_major": 2,
       "version_minor": 0
      },
      "text/plain": [
       "  0%|          | 0/7 [00:00<?, ?it/s]"
      ]
     },
     "metadata": {},
     "output_type": "display_data"
    },
    {
     "data": {
      "image/png": "[encoded data removed]",
      "text/plain": [
       "<Figure size 432x288 with 1 Axes>"
      ]
     },
     "metadata": {
      "needs_background": "light"
     },
     "output_type": "display_data"
    }
   ],
   "source": [
    "volume_list = []\n",
    "energy_list = []\n",
    "for job in pr_ev.iter_jobs(status='finished'):\n",
    "    min_volume = job['output/generic/volume'][-1]\n",
    "    min_energy = job['output/generic/energy_tot'][-1]\n",
    "    \n",
    "    volume_list.append(min_volume)\n",
    "    energy_list.append(min_energy)\n",
    "\n",
    "volume_list = np.array(volume_list)\n",
    "energy_list = np.array(energy_list)\n",
    "\n",
    "fig, ax = plt.subplots(1, 1)\n",
    "args = np.argsort(volume_list)\n",
    "ax.plot(volume_list[args], energy_list[args], '-x')\n",
    "plt.xlabel('Volume [$\\mathrm{\\AA^3}$]')\n",
    "plt.ylabel('Energy [eV]')\n",
    "plt.show()"
   ]
  },
  {
   "cell_type": "markdown",
   "metadata": {
    "slideshow": {
     "slide_type": "notes"
    }
   },
   "source": [
    "## Next steps"
   ]
  },
  {
   "cell_type": "markdown",
   "metadata": {
    "slideshow": {
     "slide_type": "notes"
    }
   },
   "source": [
    "Great that you have already come this far in the notebook! If you still have some time left, we invite you to play with a few key parameters of RuNNer to experience firsthand how they can influence the fit.\n",
    "\n",
    "**Important:** Feel free to change whatever parameters you find interesting. However, keep in mind that using a very large neural network architecture or a significantly bigger portion of the full dataset will result in very long training times much exceeding the timeframe of this tutorial.\n",
    "\n",
    "Here are a few suggestions:"
   ]
  },
  {
   "cell_type": "markdown",
   "metadata": {
    "slideshow": {
     "slide_type": "notes"
    }
   },
   "source": [
    "1. Choose a different training dataset.\n",
    "2. Change `precondition_weights` to `False`.\n",
    "3. Experience overfitting by choosing a larger neural network architecture. We recommend 3 hidden layers with 25 nodes each.\n",
    "4. Experience a really quick fit by setting `use_short_forces` to `False`.\n",
    "5. Observe that the training outcome can vary depending on different choices of the variable `random_seed`."
   ]
  },
  {
   "cell_type": "markdown",
   "metadata": {},
   "source": [
    "## Resources\n",
    "\n",
    "Here is a collection of all the resources mentioned in the text. These are a very good starting points towards using RuNNer in your own research!\n",
    "\n",
    "* Technical Documentation:\n",
    "    * [The RuNNer documentation](https://theochemgoettingen.gitlab.io/RuNNer).\n",
    "    * [The runnerase documentation](https://runner-suite.gitlab.io/runnerase/).\n",
    "    * [The n2p2 documentation](https://compphysvienna.github.io/n2p2/index.html).\n",
    "* Second Generation HDNNP:\n",
    "    * [J. Behler, M. Parrinello, Phys. Rev. Lett. 2007, 98, 146401](https://www.doi.org/10.1103/PhysRevLett.98.146401).\n",
    "    * [J. Behler, International Journal of Quantum Chemistry 2015, 115, 1032–1050](https://www.doi.org/10.1002/qua.24890).\n",
    "    * [J. Behler, Angewandte Chemie International Edition 2017, 56, 12828–12840](https://www.doi.org/10.1002/anie.201703114).\n",
    "* Third Generation HDNNP:\n",
    "    * [N. Artrith, T. Morawietz, J. Behler, Phys. Rev. B 2011, 83, 153101](https://www.doi.org/10.1103/PhysRevB.83.153101).\n",
    "    * [T. Morawietz, V. Sharma, J. Behler, J. Chem. Phys. 2012, 136, 064103](https://www.doi.org/10.1063/1.3682557).\n",
    "* Fourth Generation HDNNP:\n",
    "    * [T. W. Ko, J. A. Finkler, S. Goedecker, J. Behler, Nature Communications 2021, 12, 398](https://www.doi.org/10.1038/s41467-020-20427-2).\n",
    "    * [T. W. Ko, J. A. Finkler, S. Goedecker, J. Behler, Acc. Chem. Res. 2021, 54, 808–817](https://www.doi.org/10.1021/acs.accounts.0c00689).\n",
    "* Atom-centered Symmetry Functions:\n",
    "    * [J. Behler, The Journal of Chemical Physics 2011, 134, 074106.](https://www.doi.org/10.1063/1.3553717).\n",
    "* Further Reading / Tutorial Reviews:\n",
    "    * [J. Behler, Journal of Physics: Condensed Matter 2014, 26, 183001](https://www.doi.org/10.1088/0953-8984/26/18/183001).\n",
    "    * [J. Behler, Phys. Chem. Chem. Phys. 2011, 13, 17930–17955](https://www.doi.org/10.1039/C1CP21668F).\n",
    "    * [J. Behler, International Journal of Quantum Chemistry 2015, 115, 1032–1050](https://www.doi.org/10.1002/qua.24890)."
   ]
  }
 ],
 "metadata": {
  "kernelspec": {
   "display_name": "Python 3 (ipykernel)",
   "language": "python",
   "name": "python3"
  },
  "language_info": {
   "codemirror_mode": {
    "name": "ipython",
    "version": 3
   },
   "file_extension": ".py",
   "mimetype": "text/x-python",
   "name": "python",
   "nbconvert_exporter": "python",
   "pygments_lexer": "ipython3",
   "version": "3.10.5"
  }
 },
 "nbformat": 4,
 "nbformat_minor": 4
}
