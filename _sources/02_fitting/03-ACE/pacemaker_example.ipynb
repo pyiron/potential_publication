{
 "cells": [
  {
   "cell_type": "markdown",
   "id": "b680880a",
   "metadata": {},
   "source": [
    "# Atomic cluster expansion (ACE)"
   ]
  },
  {
   "cell_type": "markdown",
   "id": "119bff90",
   "metadata": {},
   "source": [
    "Please read sources for more details:\n",
    "\n",
    "* [Documentation](https://pacemaker.readthedocs.io/en/latest/)\n",
    "* [`pacemaker` repository](https://github.com/ICAMS/python-ace)\n",
    "* [Bochkarev, A., Lysogorskiy, Y., Menon, S., Qamar, M., Mrovec, M. and Drautz, R. Efficient parametrization of the atomic cluster expansion. Physical Review Materials 6(1) 013804 (2022)](https://journals.aps.org/prmaterials/abstract/10.1103/PhysRevMaterials.6.013804)\n",
    "* [Lysogorskiy, Y., Oord, C. v. d., Bochkarev, A., Menon, S., Rinaldi, M., Hammerschmidt, T., Mrovec, M., Thompson, A., Csányi, G., Ortner, C. and  Drautz, R. Performant implementation of the atomic cluster expansion (PACE) and application to copper and silicon. npj Computational Materials 7(1), 1-12 (2021)](https://www.nature.com/articles/s41524-021-00559-9)\n",
    "* [Drautz, R. Atomic cluster expansion for accurate and transferable interatomic potentials. Physical Review B, 99(1), 014104 (2019)](https://journals.aps.org/prb/abstract/10.1103/PhysRevB.99.014104)\n",
    "\n"
   ]
  },
  {
   "cell_type": "markdown",
   "id": "1a385f10",
   "metadata": {},
   "source": [
    "## Import and load"
   ]
  },
  {
   "cell_type": "code",
   "execution_count": 1,
   "id": "dded85d1",
   "metadata": {},
   "outputs": [
    {
     "name": "stdout",
     "output_type": "stream",
     "text": [
      "%pylab is deprecated, use %matplotlib inline and import the required libraries.\n",
      "Populating the interactive namespace from numpy and matplotlib\n"
     ]
    }
   ],
   "source": [
    "%pylab inline"
   ]
  },
  {
   "cell_type": "code",
   "execution_count": 2,
   "id": "d19586ef",
   "metadata": {},
   "outputs": [],
   "source": [
    "from pyiron import Project"
   ]
  },
  {
   "cell_type": "code",
   "execution_count": 3,
   "id": "812a96f6",
   "metadata": {},
   "outputs": [],
   "source": [
    "from collections import Counter"
   ]
  },
  {
   "cell_type": "code",
   "execution_count": 4,
   "id": "6ea6b07e",
   "metadata": {},
   "outputs": [],
   "source": [
    "import pandas as pd"
   ]
  },
  {
   "cell_type": "code",
   "execution_count": 5,
   "id": "78425c8c",
   "metadata": {},
   "outputs": [],
   "source": [
    "pr = Project('fit_pace')"
   ]
  },
  {
   "cell_type": "code",
   "execution_count": 57,
   "id": "576194bf",
   "metadata": {},
   "outputs": [],
   "source": [
    "#pr.remove_jobs(silently=True)"
   ]
  },
  {
   "cell_type": "code",
   "execution_count": 7,
   "id": "b06c2905",
   "metadata": {},
   "outputs": [],
   "source": [
    "pr_data = Project(\"../../introduction/training\")"
   ]
  },
  {
   "cell_type": "markdown",
   "id": "38943882",
   "metadata": {},
   "source": [
    "## Loading training containers (select smaller training subset for example)"
   ]
  },
  {
   "cell_type": "code",
   "execution_count": 8,
   "id": "0764935b",
   "metadata": {},
   "outputs": [],
   "source": [
    "training_container = pr_data['full']"
   ]
  },
  {
   "cell_type": "code",
   "execution_count": 9,
   "id": "bbe3f49c",
   "metadata": {},
   "outputs": [],
   "source": [
    "df=training_container.to_pandas()"
   ]
  },
  {
   "cell_type": "code",
   "execution_count": 10,
   "id": "bff9bff4",
   "metadata": {},
   "outputs": [],
   "source": [
    "df[\"energy_per_atom\"]=df[\"energy\"]/df[\"number_of_atoms\"]\n",
    "df[\"comp_dict\"]=df[\"atoms\"].map(lambda at: Counter(at.get_chemical_symbols()))\n",
    "for el in [\"Al\",\"Li\"]:\n",
    "    df[\"n\"+el]=df[\"comp_dict\"].map(lambda d: d.get(el,0))\n",
    "    df[\"c\"+el]=df[\"n\"+el]/df[\"number_of_atoms\"]"
   ]
  },
  {
   "cell_type": "markdown",
   "id": "3d3af629",
   "metadata": {},
   "source": [
    "Select only Al-fcc"
   ]
  },
  {
   "cell_type": "code",
   "execution_count": 11,
   "id": "1ee0b19f",
   "metadata": {},
   "outputs": [
    {
     "data": {
      "text/plain": [
       "(134, 12)"
      ]
     },
     "execution_count": 11,
     "metadata": {},
     "output_type": "execute_result"
    }
   ],
   "source": [
    "al_fcc_df = df[df[\"name\"].str.contains(\"Al_fcc\")]\n",
    "al_fcc_df.shape"
   ]
  },
  {
   "cell_type": "markdown",
   "id": "28078385",
   "metadata": {},
   "source": [
    "only Li-bcc"
   ]
  },
  {
   "cell_type": "code",
   "execution_count": 12,
   "id": "99840b1b",
   "metadata": {},
   "outputs": [
    {
     "data": {
      "text/plain": [
       "(179, 12)"
      ]
     },
     "execution_count": 12,
     "metadata": {},
     "output_type": "execute_result"
    }
   ],
   "source": [
    "li_bcc_df = df[df[\"name\"].str.contains(\"Li_bcc\")]\n",
    "li_bcc_df.shape"
   ]
  },
  {
   "cell_type": "markdown",
   "id": "251af910",
   "metadata": {},
   "source": [
    "and AlLi structures that are within 0.1 eV/atom above AlLi ground state (min.energy structure)"
   ]
  },
  {
   "cell_type": "code",
   "execution_count": 13,
   "id": "7a31322c",
   "metadata": {},
   "outputs": [
    {
     "data": {
      "text/plain": [
       "(178, 12)"
      ]
     },
     "execution_count": 13,
     "metadata": {},
     "output_type": "execute_result"
    }
   ],
   "source": [
    "alli_df = df[df[\"cAl\"]==0.5]\n",
    "alli_df=alli_df[alli_df[\"energy_per_atom\"]<=alli_df[\"energy_per_atom\"].min()+0.1]\n",
    "alli_df.shape"
   ]
  },
  {
   "cell_type": "code",
   "execution_count": 14,
   "id": "ff5343d8",
   "metadata": {},
   "outputs": [],
   "source": [
    "small_training_df = pd.concat([al_fcc_df, li_bcc_df, alli_df])"
   ]
  },
  {
   "cell_type": "code",
   "execution_count": 15,
   "id": "15f51641",
   "metadata": {},
   "outputs": [
    {
     "data": {
      "text/plain": [
       "(491, 12)"
      ]
     },
     "execution_count": 15,
     "metadata": {},
     "output_type": "execute_result"
    }
   ],
   "source": [
    "small_training_df.shape"
   ]
  },
  {
   "cell_type": "code",
   "execution_count": 16,
   "id": "18c1aecb",
   "metadata": {},
   "outputs": [
    {
     "data": {
      "image/png": "[encoded data removed]",
      "text/plain": [
       "<Figure size 432x288 with 1 Axes>"
      ]
     },
     "metadata": {
      "needs_background": "light"
     },
     "output_type": "display_data"
    }
   ],
   "source": [
    "small_training_df[\"number_of_atoms\"].hist(bins=100);"
   ]
  },
  {
   "cell_type": "markdown",
   "id": "cce5126f",
   "metadata": {},
   "source": [
    "Select only sctructures smaller than **40** atoms per structures"
   ]
  },
  {
   "cell_type": "code",
   "execution_count": 17,
   "id": "8766e5f8",
   "metadata": {},
   "outputs": [],
   "source": [
    "small_training_df=small_training_df[small_training_df[\"number_of_atoms\"]<=40].sample(n=100, random_state=42)"
   ]
  },
  {
   "cell_type": "code",
   "execution_count": 18,
   "id": "8591ec1c",
   "metadata": {},
   "outputs": [
    {
     "data": {
      "text/plain": [
       "(100, 12)"
      ]
     },
     "execution_count": 18,
     "metadata": {},
     "output_type": "execute_result"
    }
   ],
   "source": [
    "small_training_df.shape"
   ]
  },
  {
   "cell_type": "markdown",
   "id": "33909021",
   "metadata": {},
   "source": [
    "Pack them into training container"
   ]
  },
  {
   "cell_type": "code",
   "execution_count": 19,
   "id": "6359f955",
   "metadata": {},
   "outputs": [],
   "source": [
    "small_tc = pr.create.job.TrainingContainer(\"small_AlLi_training_container\", delete_existing_job=True)"
   ]
  },
  {
   "cell_type": "code",
   "execution_count": 20,
   "id": "b60dfb18",
   "metadata": {},
   "outputs": [],
   "source": [
    "small_tc.include_dataset(small_training_df)"
   ]
  },
  {
   "cell_type": "code",
   "execution_count": 21,
   "id": "5e473ec8",
   "metadata": {},
   "outputs": [
    {
     "name": "stdout",
     "output_type": "stream",
     "text": [
      "The job small_AlLi_training_container was saved and received the ID: 27\n"
     ]
    },
    {
     "data": {
      "text/plain": [
       "27"
      ]
     },
     "execution_count": 21,
     "metadata": {},
     "output_type": "execute_result"
    }
   ],
   "source": [
    "small_tc.save()"
   ]
  },
  {
   "cell_type": "code",
   "execution_count": 22,
   "id": "f09ab3cb-5389-49c9-8c65-559ec048acb2",
   "metadata": {},
   "outputs": [
    {
     "data": {
      "text/html": [
       "<div>\n",
       "<style scoped>\n",
       "    .dataframe tbody tr th:only-of-type {\n",
       "        vertical-align: middle;\n",
       "    }\n",
       "\n",
       "    .dataframe tbody tr th {\n",
       "        vertical-align: top;\n",
       "    }\n",
       "\n",
       "    .dataframe thead th {\n",
       "        text-align: right;\n",
       "    }\n",
       "</style>\n",
       "<table border=\"1\" class=\"dataframe\">\n",
       "  <thead>\n",
       "    <tr style=\"text-align: right;\">\n",
       "      <th></th>\n",
       "      <th>V</th>\n",
       "      <th>E</th>\n",
       "      <th>space_group</th>\n",
       "      <th>crystal_system</th>\n",
       "    </tr>\n",
       "  </thead>\n",
       "  <tbody>\n",
       "    <tr>\n",
       "      <th>0</th>\n",
       "      <td>18.537039</td>\n",
       "      <td>-2.714437</td>\n",
       "      <td>194</td>\n",
       "      <td>hexagonal</td>\n",
       "    </tr>\n",
       "    <tr>\n",
       "      <th>1</th>\n",
       "      <td>17.014115</td>\n",
       "      <td>-3.415845</td>\n",
       "      <td>1</td>\n",
       "      <td>triclinic</td>\n",
       "    </tr>\n",
       "    <tr>\n",
       "      <th>2</th>\n",
       "      <td>18.132856</td>\n",
       "      <td>-3.449419</td>\n",
       "      <td>225</td>\n",
       "      <td>cubic</td>\n",
       "    </tr>\n",
       "    <tr>\n",
       "      <th>3</th>\n",
       "      <td>18.512802</td>\n",
       "      <td>-3.413774</td>\n",
       "      <td>1</td>\n",
       "      <td>triclinic</td>\n",
       "    </tr>\n",
       "    <tr>\n",
       "      <th>4</th>\n",
       "      <td>20.298508</td>\n",
       "      <td>-3.178243</td>\n",
       "      <td>1</td>\n",
       "      <td>triclinic</td>\n",
       "    </tr>\n",
       "    <tr>\n",
       "      <th>...</th>\n",
       "      <td>...</td>\n",
       "      <td>...</td>\n",
       "      <td>...</td>\n",
       "      <td>...</td>\n",
       "    </tr>\n",
       "    <tr>\n",
       "      <th>95</th>\n",
       "      <td>15.707664</td>\n",
       "      <td>-2.800103</td>\n",
       "      <td>227</td>\n",
       "      <td>cubic</td>\n",
       "    </tr>\n",
       "    <tr>\n",
       "      <th>96</th>\n",
       "      <td>18.722061</td>\n",
       "      <td>-3.399934</td>\n",
       "      <td>1</td>\n",
       "      <td>triclinic</td>\n",
       "    </tr>\n",
       "    <tr>\n",
       "      <th>97</th>\n",
       "      <td>16.388387</td>\n",
       "      <td>-2.746841</td>\n",
       "      <td>1</td>\n",
       "      <td>triclinic</td>\n",
       "    </tr>\n",
       "    <tr>\n",
       "      <th>98</th>\n",
       "      <td>16.697821</td>\n",
       "      <td>-3.450689</td>\n",
       "      <td>1</td>\n",
       "      <td>triclinic</td>\n",
       "    </tr>\n",
       "    <tr>\n",
       "      <th>99</th>\n",
       "      <td>16.484904</td>\n",
       "      <td>-3.482749</td>\n",
       "      <td>225</td>\n",
       "      <td>cubic</td>\n",
       "    </tr>\n",
       "  </tbody>\n",
       "</table>\n",
       "<p>100 rows × 4 columns</p>\n",
       "</div>"
      ],
      "text/plain": [
       "            V         E  space_group crystal_system\n",
       "0   18.537039 -2.714437          194      hexagonal\n",
       "1   17.014115 -3.415845            1      triclinic\n",
       "2   18.132856 -3.449419          225          cubic\n",
       "3   18.512802 -3.413774            1      triclinic\n",
       "4   20.298508 -3.178243            1      triclinic\n",
       "..        ...       ...          ...            ...\n",
       "95  15.707664 -2.800103          227          cubic\n",
       "96  18.722061 -3.399934            1      triclinic\n",
       "97  16.388387 -2.746841            1      triclinic\n",
       "98  16.697821 -3.450689            1      triclinic\n",
       "99  16.484904 -3.482749          225          cubic\n",
       "\n",
       "[100 rows x 4 columns]"
      ]
     },
     "execution_count": 22,
     "metadata": {},
     "output_type": "execute_result"
    },
    {
     "data": {
      "image/png": "[encoded data removed]",
      "text/plain": [
       "<Figure size 432x288 with 1 Axes>"
      ]
     },
     "metadata": {
      "needs_background": "light"
     },
     "output_type": "display_data"
    }
   ],
   "source": [
    "small_tc.plot.energy_volume(crystal_systems=True)"
   ]
  },
  {
   "cell_type": "markdown",
   "id": "71f51a61",
   "metadata": {},
   "source": [
    "### Create PacemakerJob"
   ]
  },
  {
   "cell_type": "code",
   "execution_count": 23,
   "id": "932a7b46",
   "metadata": {},
   "outputs": [],
   "source": [
    "job = pr.create.job.PacemakerJob(\"pacemaker_job\")"
   ]
  },
  {
   "cell_type": "code",
   "execution_count": 24,
   "id": "6bd31372",
   "metadata": {},
   "outputs": [],
   "source": [
    "job.add_training_data(small_tc)"
   ]
  },
  {
   "cell_type": "markdown",
   "id": "92f3518b-526a-4688-ac75-3f8ce0025d90",
   "metadata": {},
   "source": [
    "Set maximum cutoff for the potential"
   ]
  },
  {
   "cell_type": "markdown",
   "id": "1df3e88a-d357-4216-ad5a-f483c45bb55f",
   "metadata": {},
   "source": [
    "### PACE potential fitting setup"
   ]
  },
  {
   "cell_type": "markdown",
   "id": "3ec2c0a4-3395-4be6-ae5a-72d7f9bf4003",
   "metadata": {},
   "source": [
    "#### Overview of settings"
   ]
  },
  {
   "cell_type": "code",
   "execution_count": 25,
   "id": "9093e5c9",
   "metadata": {},
   "outputs": [
    {
     "data": {
      "text/html": [
       "<div>\n",
       "<style scoped>\n",
       "    .dataframe tbody tr th:only-of-type {\n",
       "        vertical-align: middle;\n",
       "    }\n",
       "\n",
       "    .dataframe tbody tr th {\n",
       "        vertical-align: top;\n",
       "    }\n",
       "\n",
       "    .dataframe thead th {\n",
       "        text-align: right;\n",
       "    }\n",
       "</style>\n",
       "<table border=\"1\" class=\"dataframe\">\n",
       "  <thead>\n",
       "    <tr style=\"text-align: right;\">\n",
       "      <th></th>\n",
       "      <th>Parameter</th>\n",
       "      <th>Value</th>\n",
       "      <th>Comment</th>\n",
       "    </tr>\n",
       "  </thead>\n",
       "  <tbody>\n",
       "    <tr>\n",
       "      <th>0</th>\n",
       "      <td>cutoff</td>\n",
       "      <td>7.0</td>\n",
       "      <td></td>\n",
       "    </tr>\n",
       "    <tr>\n",
       "      <th>1</th>\n",
       "      <td>metadata</td>\n",
       "      <td>{'comment': 'pyiron-generated fitting job'}</td>\n",
       "      <td></td>\n",
       "    </tr>\n",
       "    <tr>\n",
       "      <th>2</th>\n",
       "      <td>data</td>\n",
       "      <td>{}</td>\n",
       "      <td></td>\n",
       "    </tr>\n",
       "    <tr>\n",
       "      <th>3</th>\n",
       "      <td>potential</td>\n",
       "      <td>{'elements': [], 'bonds': {'ALL': {'radbase': 'SBessel', 'rcut': 7.0, 'dcut': 0.01, 'radparameters': [5.25]}}, 'embeddings': {'ALL': {'fs_parameters': [1, 1, 1, 0.5], 'ndensity': 2, 'npot': 'Finni...</td>\n",
       "      <td></td>\n",
       "    </tr>\n",
       "    <tr>\n",
       "      <th>4</th>\n",
       "      <td>fit</td>\n",
       "      <td>{'loss': {'L1_coeffs': 1e-08, 'L2_coeffs': 1e-08, 'kappa': 0.3, 'w0_rad': 0, 'w1_rad': 0, 'w2_rad': 0}, 'maxiter': 1000, 'optimizer': 'BFGS', 'fit_cycles': 1}</td>\n",
       "      <td></td>\n",
       "    </tr>\n",
       "    <tr>\n",
       "      <th>5</th>\n",
       "      <td>backend</td>\n",
       "      <td>{'batch_size': 100, 'display_step': 50, 'evaluator': 'tensorpot'}</td>\n",
       "      <td></td>\n",
       "    </tr>\n",
       "  </tbody>\n",
       "</table>\n",
       "</div>"
      ],
      "text/plain": [
       "   Parameter  \\\n",
       "0     cutoff   \n",
       "1   metadata   \n",
       "2       data   \n",
       "3  potential   \n",
       "4        fit   \n",
       "5    backend   \n",
       "\n",
       "                                                                                                                                                                                                     Value  \\\n",
       "0                                                                                                                                                                                                      7.0   \n",
       "1                                                                                                                                                              {'comment': 'pyiron-generated fitting job'}   \n",
       "2                                                                                                                                                                                                       {}   \n",
       "3  {'elements': [], 'bonds': {'ALL': {'radbase': 'SBessel', 'rcut': 7.0, 'dcut': 0.01, 'radparameters': [5.25]}}, 'embeddings': {'ALL': {'fs_parameters': [1, 1, 1, 0.5], 'ndensity': 2, 'npot': 'Finni...   \n",
       "4                                           {'loss': {'L1_coeffs': 1e-08, 'L2_coeffs': 1e-08, 'kappa': 0.3, 'w0_rad': 0, 'w1_rad': 0, 'w2_rad': 0}, 'maxiter': 1000, 'optimizer': 'BFGS', 'fit_cycles': 1}   \n",
       "5                                                                                                                                        {'batch_size': 100, 'display_step': 50, 'evaluator': 'tensorpot'}   \n",
       "\n",
       "  Comment  \n",
       "0          \n",
       "1          \n",
       "2          \n",
       "3          \n",
       "4          \n",
       "5          "
      ]
     },
     "execution_count": 25,
     "metadata": {},
     "output_type": "execute_result"
    }
   ],
   "source": [
    "job.input"
   ]
  },
  {
   "cell_type": "markdown",
   "id": "b36cf9fa-2cd8-4cf7-a51d-a76d3f846e36",
   "metadata": {},
   "source": [
    "#### Potential interatomic distance cutoff"
   ]
  },
  {
   "cell_type": "code",
   "execution_count": 26,
   "id": "180d92d9",
   "metadata": {},
   "outputs": [],
   "source": [
    "job.cutoff=7.0"
   ]
  },
  {
   "cell_type": "markdown",
   "id": "28360fdc",
   "metadata": {},
   "source": [
    "### Specification of ACE potential"
   ]
  },
  {
   "cell_type": "markdown",
   "id": "d31d042f-136d-4a43-b203-832b90c6fe7b",
   "metadata": {},
   "source": [
    "PACE potential specification consists of three parts:\n"
   ]
  },
  {
   "cell_type": "markdown",
   "id": "e531217c",
   "metadata": {},
   "source": [
    "#### 1. Embeddings\n",
    " i.e. how atomic energy $E_i$ depends on ACE properties/densities $\\varphi$. Linear expansion $E_i = \\varphi$ is the trivial. Non-linear expansion, i.e. those, containing square root, gives more flexiblity and accuracy of final potential"
   ]
  },
  {
   "cell_type": "markdown",
   "id": "6b226d14",
   "metadata": {},
   "source": [
    "Embeddings for `ALL` species (i.e. Al and Li): \n",
    "- non-linear `FinnisSinclairShiftedScaled`\n",
    "- 2 densities\n",
    "- fs_parameters': [1, 1, 1, 0.5]:\n",
    "$$E_i = 1.0 * \\varphi(1)^1 + 1.0 * \\varphi(2)^{0.5} = \\varphi^{(1)} + \\sqrt{\\varphi^{(2)}} $$"
   ]
  },
  {
   "cell_type": "code",
   "execution_count": 27,
   "id": "a219d606",
   "metadata": {},
   "outputs": [
    {
     "data": {
      "text/plain": [
       "{'ALL': {'fs_parameters': [1, 1, 1, 0.5],\n",
       "  'ndensity': 2,\n",
       "  'npot': 'FinnisSinclairShiftedScaled'}}"
      ]
     },
     "execution_count": 27,
     "metadata": {},
     "output_type": "execute_result"
    }
   ],
   "source": [
    "job.input[\"potential\"][\"embeddings\"]"
   ]
  },
  {
   "cell_type": "markdown",
   "id": "f0a96e1e",
   "metadata": {},
   "source": [
    "#### 2. Radial functions"
   ]
  },
  {
   "cell_type": "markdown",
   "id": "c6ef161b",
   "metadata": {},
   "source": [
    "Radial functions are orthogonal polynoms example:\n",
    "* (a) Exponentially-scaled Chebyshev polynomials (λ = 5.25)\n",
    "* (b) Power-law scaled Chebyshev polynomials (λ = 2.0)\n",
    "* (c) Simplified spherical Bessel functions"
   ]
  },
  {
   "cell_type": "markdown",
   "id": "60448ec8-8caa-4162-9eba-7d3897618c52",
   "metadata": {},
   "source": [
    "![ACE radial functions](img/radial-functions-low.png \"ACE radial functions\")"
   ]
  },
  {
   "cell_type": "markdown",
   "id": "1c20667c",
   "metadata": {},
   "source": [
    "Radial functions specification for `ALL` species pairs (i.e. Al-Al, Al-Li, Li-Al, Li-Li):\n",
    "\n",
    "* based on the Simplified Bessel\n",
    "* cutoff $r_c=7.0$"
   ]
  },
  {
   "cell_type": "code",
   "execution_count": 28,
   "id": "458c00f7",
   "metadata": {},
   "outputs": [
    {
     "data": {
      "text/plain": [
       "{'ALL': {'radbase': 'SBessel',\n",
       "  'rcut': 7.0,\n",
       "  'dcut': 0.01,\n",
       "  'radparameters': [5.25]}}"
      ]
     },
     "execution_count": 28,
     "metadata": {},
     "output_type": "execute_result"
    }
   ],
   "source": [
    "job.input[\"potential\"][\"bonds\"]"
   ]
  },
  {
   "cell_type": "markdown",
   "id": "b56d046f",
   "metadata": {},
   "source": [
    "#### 3. B-basis functions"
   ]
  },
  {
   "cell_type": "markdown",
   "id": "9ed449b5",
   "metadata": {},
   "source": [
    "B-basis functions  for `ALL` species type interactions, i.e. Al-Al, Al-Li, Li-Al, Li-Li blocks:\n",
    "* maximum order = 4, i.e. body-order 5 (1 central atom + 4 neighbour  densities)\n",
    "* nradmax_by_orders: 15, 3, 2, 1\n",
    "* lmax_by_orders: 0, 3, 2, 1"
   ]
  },
  {
   "cell_type": "code",
   "execution_count": 29,
   "id": "d095516c",
   "metadata": {},
   "outputs": [
    {
     "data": {
      "text/plain": [
       "{'ALL': {'nradmax_by_orders': [15, 3, 2, 1], 'lmax_by_orders': [0, 3, 2, 1]}}"
      ]
     },
     "execution_count": 29,
     "metadata": {},
     "output_type": "execute_result"
    }
   ],
   "source": [
    "job.input[\"potential\"][\"functions\"]"
   ]
  },
  {
   "cell_type": "markdown",
   "id": "cf404f4d-7d72-4a20-813b-6f37a7157404",
   "metadata": {},
   "source": [
    "We will reduce the basis size for demonstartion purposes"
   ]
  },
  {
   "cell_type": "code",
   "execution_count": 30,
   "id": "4954e72b",
   "metadata": {},
   "outputs": [],
   "source": [
    "job.input[\"potential\"][\"functions\"]={'ALL': {'nradmax_by_orders': [15, 3, 2], 'lmax_by_orders': [0, 2, 1]}}"
   ]
  },
  {
   "cell_type": "markdown",
   "id": "ac2ce634",
   "metadata": {},
   "source": [
    "### Fit/loss specification"
   ]
  },
  {
   "cell_type": "markdown",
   "id": "6a55fdd1",
   "metadata": {},
   "source": [
    "Loss function specification"
   ]
  },
  {
   "cell_type": "markdown",
   "id": "98f1f891",
   "metadata": {},
   "source": [
    "![Loss function](img/loss-func.png \"Loss function\")"
   ]
  },
  {
   "cell_type": "markdown",
   "id": "7de7795a",
   "metadata": {},
   "source": [
    "![Loss regularization](img/loss-reg.png \"Loss regularization\")"
   ]
  },
  {
   "cell_type": "code",
   "execution_count": 31,
   "id": "2323c2b6",
   "metadata": {},
   "outputs": [
    {
     "data": {
      "text/plain": [
       "{'L1_coeffs': 1e-08,\n",
       " 'L2_coeffs': 1e-08,\n",
       " 'kappa': 0.3,\n",
       " 'w0_rad': 0,\n",
       " 'w1_rad': 0,\n",
       " 'w2_rad': 0}"
      ]
     },
     "execution_count": 31,
     "metadata": {},
     "output_type": "execute_result"
    }
   ],
   "source": [
    "job.input[\"fit\"]['loss']"
   ]
  },
  {
   "cell_type": "markdown",
   "id": "6a4897ee",
   "metadata": {},
   "source": [
    "#### Weighting"
   ]
  },
  {
   "cell_type": "markdown",
   "id": "10a755f2-e709-4bbc-b466-c86e81744231",
   "metadata": {},
   "source": [
    "Energy-based weighting puts more \"accent\" onto the low energy-lying structures, close to convex hull"
   ]
  },
  {
   "cell_type": "code",
   "execution_count": 32,
   "id": "649ba22c",
   "metadata": {},
   "outputs": [],
   "source": [
    "job.input[\"fit\"]['weighting'] =  {\n",
    "        ## weights for the structures energies/forces are associated according to the distance to E_min:\n",
    "        ## convex hull ( energy: convex_hull) or minimal energy per atom (energy: cohesive)\n",
    "        \"type\": \"EnergyBasedWeightingPolicy\",\n",
    "        ## number of structures to randomly select from the initial dataset\n",
    "        \"nfit\": 10000,         \n",
    "        ## only the structures with energy up to E_min + DEup will be selected\n",
    "        \"DEup\": 10.0,  ## eV, upper energy range (E_min + DElow, E_min + DEup)        \n",
    "        ## only the structures with maximal force on atom  up to DFup will be selected\n",
    "        \"DFup\": 50.0, ## eV/A\n",
    "        ## lower energy range (E_min, E_min + DElow)\n",
    "        \"DElow\": 1.0,  ## eV\n",
    "        ## delta_E  shift for weights, see paper\n",
    "        \"DE\": 1.0,\n",
    "        ## delta_F  shift for weights, see paper\n",
    "        \"DF\": 1.0,\n",
    "        ## 0<wlow<1 or None: if provided, the renormalization weights of the structures on lower energy range (see DElow)\n",
    "        \"wlow\": 0.75,        \n",
    "        ##  \"convex_hull\" or \"cohesive\" : method to compute the E_min\n",
    "        \"energy\": \"convex_hull\",        \n",
    "        ## structures types: all (default), bulk or cluster\n",
    "        \"reftype\": \"all\",        \n",
    "        ## random number seed\n",
    "        \"seed\": 42 \n",
    "}"
   ]
  },
  {
   "cell_type": "markdown",
   "id": "a627cf6c",
   "metadata": {},
   "source": [
    "### Minimization and backend specification"
   ]
  },
  {
   "cell_type": "markdown",
   "id": "ba0b62ee-ec86-4859-a9e3-3b22a67aa370",
   "metadata": {},
   "source": [
    "![Loss function](img/tensorpotential.png \"Tensorpotential\")"
   ]
  },
  {
   "cell_type": "markdown",
   "id": "8b433aa3",
   "metadata": {},
   "source": [
    "Type of optimizer: `SciPy.minimize.BFGS`. This optimizer is more efficient that typical optimizers for neural networks (i.e. ADAM, RMSprop, Adagrad, etc.), but it scales quadratically wrt. number of optimizable parameters.\n",
    "However number of trainable parameters for PACE potential is usually up to few thousands, so we gain a lot of accuracy during training with BFGS optimizer."
   ]
  },
  {
   "cell_type": "code",
   "execution_count": 33,
   "id": "93d7e132",
   "metadata": {},
   "outputs": [
    {
     "data": {
      "text/plain": [
       "'BFGS'"
      ]
     },
     "execution_count": 33,
     "metadata": {},
     "output_type": "execute_result"
    }
   ],
   "source": [
    "job.input[\"fit\"][\"optimizer\"]"
   ]
  },
  {
   "cell_type": "markdown",
   "id": "b9106897",
   "metadata": {},
   "source": [
    "Maximum number of iterations by minimizer. Typical values are ~1000-1500, but we chose small value for demonstration purposes only"
   ]
  },
  {
   "cell_type": "code",
   "execution_count": 34,
   "id": "2a9c1d45",
   "metadata": {},
   "outputs": [],
   "source": [
    "job.input[\"fit\"][\"maxiter\"]=100"
   ]
  },
  {
   "cell_type": "markdown",
   "id": "eead75da",
   "metadata": {},
   "source": [
    "Batch size (number of simultaneously considered structures). This number should be reduced if there is not enough memory"
   ]
  },
  {
   "cell_type": "code",
   "execution_count": 35,
   "id": "e0841a2a",
   "metadata": {},
   "outputs": [
    {
     "data": {
      "text/plain": [
       "100"
      ]
     },
     "execution_count": 35,
     "metadata": {},
     "output_type": "execute_result"
    }
   ],
   "source": [
    "job.input[\"backend\"][\"batch_size\"]"
   ]
  },
  {
   "cell_type": "markdown",
   "id": "8398d24b",
   "metadata": {},
   "source": [
    "For more details about these and other settings please refer to [official documentation](https://pacemaker.readthedocs.io/en/latest/pacemaker/inputfile/)"
   ]
  },
  {
   "cell_type": "markdown",
   "id": "cf3df83d",
   "metadata": {},
   "source": [
    "## Run fit"
   ]
  },
  {
   "cell_type": "code",
   "execution_count": 36,
   "id": "4bff02a2",
   "metadata": {},
   "outputs": [
    {
     "name": "stderr",
     "output_type": "stream",
     "text": [
      "INFO:pyiron_log:run job: pacemaker_job id: 28, status: created\n",
      "INFO:pyiron_log:job: pacemaker_job id: 28, status: submitted, run job (modal)\n"
     ]
    },
    {
     "name": "stdout",
     "output_type": "stream",
     "text": [
      "Set automatically determined list of elements: ['Al', 'Li']\n",
      "The job pacemaker_job was saved and received the ID: 28\n"
     ]
    },
    {
     "name": "stderr",
     "output_type": "stream",
     "text": [
      "INFO:pyiron_log:job: pacemaker_job id: 28, status: collect, output: /srv/conda/envs/notebook/lib/python3.8/site-packages/numpy/core/getlimits.py:499: UserWarning: The value of the smallest subnormal for <class 'numpy.float64'> type is zero.\n",
      "  setattr(self, word, getattr(machar, word).flat[0])\n",
      "/srv/conda/envs/notebook/lib/python3.8/site-packages/numpy/core/getlimits.py:89: UserWarning: The value of the smallest subnormal for <class 'numpy.float64'> type is zero.\n",
      "  return self._float_to_str(self.smallest_subnormal)\n",
      "/srv/conda/envs/notebook/lib/python3.8/site-packages/numpy/core/getlimits.py:499: UserWarning: The value of the smallest subnormal for <class 'numpy.float32'> type is zero.\n",
      "  setattr(self, word, getattr(machar, word).flat[0])\n",
      "/srv/conda/envs/notebook/lib/python3.8/site-packages/numpy/core/getlimits.py:89: UserWarning: The value of the smallest subnormal for <class 'numpy.float32'> type is zero.\n",
      "  return self._float_to_str(self.smallest_subnormal)\n",
      "2022-06-06 19:44:42,455 - root - INFO - Redirecting log into file log.txt\n",
      "2022-06-06 19:44:42,455 - root - INFO - Start pacemaker\n",
      "2022-06-06 19:44:42,455 - root - INFO - pacemaker/pyace version: 0.2.7+49.gac4f57f\n",
      "2022-06-06 19:44:42,455 - root - INFO - ace_evaluator   version: 2021.10.25\n",
      "2022-06-06 19:44:42,455 - root - INFO - Loading input.yaml... \n",
      "2022-06-06 19:44:42,462 - root - WARNING - No 'seed' provided in YAML file, default value seed = 42 will be used.\n",
      "2022-06-06 19:44:42,462 - pyace.generalfit - INFO - Set numpy random seed to 42\n",
      "2022-06-06 19:44:42,632 - pyace.generalfit - INFO - Target potential shape constructed from dictionary, it contains 306 functions\n",
      "2022-06-06 19:44:43,834 - pyace.generalfit - INFO - tensorpot_version: 0+untagged.8.g783e6a6\n",
      "2022-06-06 19:44:43,834 - pyace.generalfit - INFO - User name automatically identified: jovyan\n",
      "2022-06-06 19:44:43,834 - pyace.preparedata - INFO - Search for cache ref-file: /home/jovyan/potentials/potentials/03-ACE/fit_pace/pacemaker_job_hdf5/pacemaker_job/df_fit.pckl.gzip\n",
      "2022-06-06 19:44:43,834 - pyace.preparedata - INFO - /home/jovyan/potentials/potentials/03-ACE/fit_pace/pacemaker_job_hdf5/pacemaker_job/df_fit.pckl.gzip found, try to load\n",
      "2022-06-06 19:44:43,834 - pyace.preparedata - INFO - Loading dataframe from pickle file /home/jovyan/potentials/potentials/03-ACE/fit_pace/pacemaker_job_hdf5/pacemaker_job/df_fit.pckl.gzip (101.4KiB)\n",
      "2022-06-06 19:44:43,838 - pyace.preparedata - INFO - Transforming to DataFrameWithMetadata\n",
      "2022-06-06 19:44:43,838 - pyace.preparedata - INFO - Setting up structures dataframe - please be patient...\n",
      "2022-06-06 19:44:43,839 - pyace.preparedata - INFO - Processing structures dataframe. Shape: (100, 6)\n",
      "2022-06-06 19:44:43,839 - pyace.preparedata - INFO - Total number of atoms: 2240\n",
      "2022-06-06 19:44:43,839 - pyace.preparedata - INFO - Mean number of atoms per structure: 22.4\n",
      "2022-06-06 19:44:43,839 - pyace.preparedata - INFO - 'energy' columns found\n",
      "2022-06-06 19:44:43,839 - pyace.preparedata - INFO - 'forces' columns found\n",
      "2022-06-06 19:44:43,839 - pyace.preparedata - INFO - 'pbc' columns found\n",
      "2022-06-06 19:44:43,839 - pyace.preparedata - INFO - 'cell' column found\n",
      "2022-06-06 19:44:43,839 - pyace.preparedata - INFO - 'energy_corrected' column found\n",
      "2022-06-06 19:44:43,839 - pyace.preparedata - INFO - 'energy_corrected_per_atom' column extraction\n",
      "2022-06-06 19:44:43,839 - pyace.preparedata - INFO - Min energy per atom: -3.483 eV/atom\n",
      "2022-06-06 19:44:43,840 - pyace.preparedata - INFO - Max energy per atom: 7.379 eV/atom\n",
      "2022-06-06 19:44:43,840 - pyace.preparedata - INFO - Min abs energy per atom: 0.444 eV/atom\n",
      "2022-06-06 19:44:43,840 - pyace.preparedata - INFO - Max abs energy per atom: 7.379 eV/atom\n",
      "2022-06-06 19:44:43,840 - pyace.preparedata - INFO - ASE atoms ('ase_atoms' column) are already in dataframe\n",
      "2022-06-06 19:44:43,840 - pyace.preparedata - INFO - Attaching SinglePointCalculator to ASE atoms...\n",
      "2022-06-06 19:44:43,847 - pyace.preparedata - INFO - Attaching SinglePointCalcualtor to ASE atoms...done within 0.00669026 sec (0.00298672 ms/at)\n",
      "2022-06-06 19:44:43,847 - pyace.preparedata - INFO - Atomic environment representation construction...\n",
      "2022-06-06 19:44:43,847 - pyace.preparedata - INFO - Building 'tp_atoms' (dataset size 100, cutoff=7.0A)...\n",
      "2022-06-06 19:44:43,939 - pyace.preparedata - INFO - Dataframe size after transform: 100\n",
      "2022-06-06 19:44:43,939 - pyace.preparedata - INFO - Atomic environment representation construction...done within 0.092207 sec (0.0412 ms/atom)\n",
      "2022-06-06 19:44:43,939 - pyace.preparedata - INFO - Saving processed raw dataframe into /home/jovyan/potentials/potentials/03-ACE/fit_pace/pacemaker_job_hdf5/pacemaker_job/df_fit.pckl.gzip\n",
      "2022-06-06 19:44:43,939 - pyace.preparedata - INFO - Writing fit pickle file: /home/jovyan/potentials/potentials/03-ACE/fit_pace/pacemaker_job_hdf5/pacemaker_job/df_fit.pckl.gzip\n",
      "2022-06-06 19:44:44,886 - pyace.preparedata - INFO - Saved to file /home/jovyan/potentials/potentials/03-ACE/fit_pace/pacemaker_job_hdf5/pacemaker_job/df_fit.pckl.gzip (486.3KiB)\n",
      "2022-06-06 19:44:44,886 - pyace.preparedata - INFO - Apply weights policy: EnergyBasedWeightingPolicy(nfit=10000, energy=convex_hull, DElow=1.0, DEup=10.0, DFup=50.0, DE=1.0, DF=1.0, wlow=0.75, reftype=all,seed=42)\n",
      "2022-06-06 19:44:44,886 - pyace.preparedata - INFO - Keeping bulk and cluster data\n",
      "2022-06-06 19:44:44,886 - pyace.preparedata - INFO - No cutoff for EnergyBasedWeightingPolicy is provided, no structures outside cutoff that will now be removed\n",
      "2022-06-06 19:44:44,886 - pyace.preparedata - INFO - EnergyBasedWeightingPolicy: energy reference frame - convex hull distance (if possible)\n",
      "2022-06-06 19:44:44,891 - pyace.preparedata - INFO - Pure element lowest energy for Al = -3.482749 eV/atom\n",
      "2022-06-06 19:44:44,891 - pyace.preparedata - INFO - Pure element lowest energy for Li = -1.756339 eV/atom\n",
      "2022-06-06 19:44:44,892 - pyace.preparedata - INFO - Structure dataset: multiple unique compositions found, trying to construct convex hull\n",
      "2022-06-06 19:44:44,894 - pyace.preparedata - INFO - Maximal allowed on-atom force vector length is DFup = 50.000\n",
      "2022-06-06 19:44:44,896 - pyace.preparedata - INFO - 0 structures with higher than dFup forces are removed. Current size: 100 structures\n",
      "2022-06-06 19:44:44,896 - pyace.preparedata - INFO - 97 structures below DElow=1.0 eV/atom\n",
      "2022-06-06 19:44:44,896 - pyace.preparedata - INFO - 3 structures between DElow=1.0 eV/atom and DEup=10.0 eV/atom\n",
      "2022-06-06 19:44:44,896 - pyace.preparedata - INFO - all other structures were removed\n",
      "2022-06-06 19:44:44,897 - pyace.preparedata - INFO - 100 structures were selected\n",
      "2022-06-06 19:44:44,897 - pyace.preparedata - INFO - Setting up energy weights\n",
      "2022-06-06 19:44:44,898 - pyace.preparedata - INFO - Current relative energy weights: 0.996/0.004\n",
      "2022-06-06 19:44:44,898 - pyace.preparedata - INFO - Will be adjusted to            : 0.750/0.250\n",
      "2022-06-06 19:44:44,899 - pyace.preparedata - INFO - After adjustment: relative energy weights: 0.750/0.250\n",
      "2022-06-06 19:44:44,899 - pyace.preparedata - INFO - Setting up force weights\n",
      "2022-06-06 19:44:44,927 - pyace.generalfit - INFO - Fitting dataset info saved into fitting_data_info.pckl.gzip\n",
      "2022-06-06 19:44:44,927 - pyace.generalfit - INFO - Plotting train energy-forces distribution\n",
      "2022-06-06 19:44:45,371 - pyace.generalfit - INFO - Fitting dataset size: 100 structures / 2240 atoms\n",
      "2022-06-06 19:44:45,372 - pyace.generalfit - INFO - 'Single-shot' fitting\n",
      "2022-06-06 19:44:45,372 - pyace.generalfit - INFO - Cycle fitting loop\n",
      "2022-06-06 19:44:45,372 - pyace.generalfit - INFO - Number of fit attempts: 0/1\n",
      "2022-06-06 19:44:45,372 - pyace.generalfit - INFO - Total number of functions: 306 / number of parameters: 1152\n",
      "2022-06-06 19:44:45,372 - pyace.generalfit - INFO - Running fit backend\n",
      "2022-06-06 19:44:45,509 - pyace.fitadapter - INFO - Trainable parameters: {('Al',): ['func', 'radial'], ('Li',): ['func', 'radial'], ('Al', 'Li'): ['func', 'radial'], ('Li', 'Al'): ['func', 'radial']}\n",
      "2022-06-06 19:44:45,510 - pyace.fitadapter - INFO - Loss function specification: LossFunctionSpecification(kappa=0.3, L1=1e-08, L2=1e-08, DeltaRad=(0, 0, 0), w_orth=0)\n",
      "2022-06-06 19:44:45,510 - pyace.fitadapter - INFO - Batch size: 100\n",
      "2022-06-06 19:44:45,828 - tensorpotential.fit - INFO - Minimizer options: {'gtol': 1e-08, 'disp': True, 'maxiter': 100}\n",
      "2022-06-06 19:44:50,331 - tensorflow - WARNING - Calling GradientTape.gradient on a persistent tape inside its context is significantly less efficient than calling it outside the context (it causes the gradient ops to be recorded on the tape, leading to increased CPU and memory usage). Only call GradientTape.gradient inside the context if you actually want to trace the gradient in order to compute higher order derivatives.\n",
      "/srv/conda/envs/notebook/lib/python3.8/site-packages/tensorflow/python/framework/indexed_slices.py:448: UserWarning: Converting sparse IndexedSlices(IndexedSlices(indices=Tensor(\"concat_55:0\", shape=(None,), dtype=int32), values=Tensor(\"concat_54:0\", shape=(None, 3), dtype=float64), dense_shape=Tensor(\"gradient_tape/Cast_30:0\", shape=(2,), dtype=int32))) to a dense Tensor of unknown shape. This may consume a large amount of memory.\n",
      "  warnings.warn(\n",
      "/srv/conda/envs/notebook/lib/python3.8/site-packages/tensorflow/python/framework/indexed_slices.py:448: UserWarning: Converting sparse IndexedSlices(IndexedSlices(indices=Tensor(\"gradient_tape/gradient_tape/Reshape_493:0\", shape=(None,), dtype=int32), values=Tensor(\"gradient_tape/gradient_tape/Reshape_492:0\", shape=(None, 15), dtype=float64), dense_shape=Tensor(\"gradient_tape/gradient_tape/Cast_4:0\", shape=(2,), dtype=int32))) to a dense Tensor of unknown shape. This may consume a large amount of memory.\n",
      "  warnings.warn(\n",
      "/srv/conda/envs/notebook/lib/python3.8/site-packages/tensorflow/python/framework/indexed_slices.py:448: UserWarning: Converting sparse IndexedSlices(IndexedSlices(indices=Tensor(\"gradient_tape/gradient_tape/Reshape_495:0\", shape=(None,), dtype=int32), values=Tensor(\"gradient_tape/gradient_tape/Reshape_494:0\", shape=(None, 15), dtype=float64), dense_shape=Tensor(\"gradient_tape/gradient_tape/Cast_5:0\", shape=(2,), dtype=int32))) to a dense Tensor of unknown shape. This may consume a large amount of memory.\n",
      "  warnings.warn(\n",
      "/srv/conda/envs/notebook/lib/python3.8/site-packages/tensorflow/python/framework/indexed_slices.py:448: UserWarning: Converting sparse IndexedSlices(IndexedSlices(indices=Tensor(\"gradient_tape/gradient_tape/Reshape_497:0\", shape=(None,), dtype=int32), values=Tensor(\"gradient_tape/gradient_tape/Reshape_496:0\", shape=(None, 15), dtype=float64), dense_shape=Tensor(\"gradient_tape/gradient_tape/Cast_6:0\", shape=(2,), dtype=int32))) to a dense Tensor of unknown shape. This may consume a large amount of memory.\n",
      "  warnings.warn(\n",
      "/srv/conda/envs/notebook/lib/python3.8/site-packages/tensorflow/python/framework/indexed_slices.py:448: UserWarning: Converting sparse IndexedSlices(IndexedSlices(indices=Tensor(\"gradient_tape/gradient_tape/Reshape_499:0\", shape=(None,), dtype=int32), values=Tensor(\"gradient_tape/gradient_tape/Reshape_498:0\", shape=(None, 15), dtype=float64), dense_shape=Tensor(\"gradient_tape/gradient_tape/Cast_7:0\", shape=(2,), dtype=int32))) to a dense Tensor of unknown shape. This may consume a large amount of memory.\n",
      "  warnings.warn(\n",
      "/srv/conda/envs/notebook/lib/python3.8/site-packages/tensorflow/python/framework/indexed_slices.py:448: UserWarning: Converting sparse IndexedSlices(IndexedSlices(indices=Tensor(\"gradient_tape/gradient_tape/Reshape_538:0\", shape=(None,), dtype=int32), values=Tensor(\"gradient_tape/gradient_tape/Reshape_537:0\", shape=(None, 3, 9), dtype=float64), dense_shape=Tensor(\"gradient_tape/gradient_tape/Cast_9:0\", shape=(3,), dtype=int32))) to a dense Tensor of unknown shape. This may consume a large amount of memory.\n",
      "  warnings.warn(\n",
      "/srv/conda/envs/notebook/lib/python3.8/site-packages/tensorflow/python/framework/indexed_slices.py:448: UserWarning: Converting sparse IndexedSlices(IndexedSlices(indices=Tensor(\"gradient_tape/gradient_tape/Reshape_540:0\", shape=(None,), dtype=int32), values=Tensor(\"gradient_tape/gradient_tape/Reshape_539:0\", shape=(None, 3, 9), dtype=float64), dense_shape=Tensor(\"gradient_tape/gradient_tape/Cast_10:0\", shape=(3,), dtype=int32))) to a dense Tensor of unknown shape. This may consume a large amount of memory.\n",
      "  warnings.warn(\n",
      "/srv/conda/envs/notebook/lib/python3.8/site-packages/tensorflow/python/framework/indexed_slices.py:448: UserWarning: Converting sparse IndexedSlices(IndexedSlices(indices=Tensor(\"gradient_tape/gradient_tape/Reshape_542:0\", shape=(None,), dtype=int32), values=Tensor(\"gradient_tape/gradient_tape/Reshape_541:0\", shape=(None, 3, 9), dtype=float64), dense_shape=Tensor(\"gradient_tape/gradient_tape/Cast_11:0\", shape=(3,), dtype=int32))) to a dense Tensor of unknown shape. This may consume a large amount of memory.\n",
      "  warnings.warn(\n",
      "/srv/conda/envs/notebook/lib/python3.8/site-packages/tensorflow/python/framework/indexed_slices.py:448: UserWarning: Converting sparse IndexedSlices(IndexedSlices(indices=Tensor(\"gradient_tape/gradient_tape/Reshape_544:0\", shape=(None,), dtype=int32), values=Tensor(\"gradient_tape/gradient_tape/Reshape_543:0\", shape=(None, 3, 9), dtype=float64), dense_shape=Tensor(\"gradient_tape/gradient_tape/Cast_12:0\", shape=(3,), dtype=int32))) to a dense Tensor of unknown shape. This may consume a large amount of memory.\n",
      "  warnings.warn(\n",
      "/srv/conda/envs/notebook/lib/python3.8/site-packages/tensorflow/python/framework/indexed_slices.py:448: UserWarning: Converting sparse IndexedSlices(IndexedSlices(indices=Tensor(\"gradient_tape/gradient_tape/Reshape_546:0\", shape=(None,), dtype=int32), values=Tensor(\"gradient_tape/gradient_tape/Reshape_545:0\", shape=(None, 3, 9), dtype=float64), dense_shape=Tensor(\"gradient_tape/gradient_tape/Cast_13:0\", shape=(3,), dtype=int32))) to a dense Tensor of unknown shape. This may consume a large amount of memory.\n",
      "  warnings.warn(\n",
      "/srv/conda/envs/notebook/lib/python3.8/site-packages/tensorflow/python/framework/indexed_slices.py:448: UserWarning: Converting sparse IndexedSlices(IndexedSlices(indices=Tensor(\"gradient_tape/gradient_tape/Reshape_548:0\", shape=(None,), dtype=int32), values=Tensor(\"gradient_tape/gradient_tape/Reshape_547:0\", shape=(None, 3, 9), dtype=float64), dense_shape=Tensor(\"gradient_tape/gradient_tape/Cast_14:0\", shape=(3,), dtype=int32))) to a dense Tensor of unknown shape. This may consume a large amount of memory.\n",
      "  warnings.warn(\n",
      "/srv/conda/envs/notebook/lib/python3.8/site-packages/tensorflow/python/framework/indexed_slices.py:448: UserWarning: Converting sparse IndexedSlices(IndexedSlices(indices=Tensor(\"gradient_tape/gradient_tape/Reshape_550:0\", shape=(None,), dtype=int32), values=Tensor(\"gradient_tape/gradient_tape/Reshape_549:0\", shape=(None, 3, 9), dtype=float64), dense_shape=Tensor(\"gradient_tape/gradient_tape/Cast_15:0\", shape=(3,), dtype=int32))) to a dense Tensor of unknown shape. This may consume a large amount of memory.\n",
      "  warnings.warn(\n",
      "/srv/conda/envs/notebook/lib/python3.8/site-packages/tensorflow/python/framework/indexed_slices.py:448: UserWarning: Converting sparse IndexedSlices(IndexedSlices(indices=Tensor(\"gradient_tape/gradient_tape/Reshape_552:0\", shape=(None,), dtype=int32), values=Tensor(\"gradient_tape/gradient_tape/Reshape_551:0\", shape=(None, 3, 9), dtype=float64), dense_shape=Tensor(\"gradient_tape/gradient_tape/Cast_16:0\", shape=(3,), dtype=int32))) to a dense Tensor of unknown shape. This may consume a large amount of memory.\n",
      "  warnings.warn(\n",
      "/srv/conda/envs/notebook/lib/python3.8/site-packages/tensorflow/python/framework/indexed_slices.py:448: UserWarning: Converting sparse IndexedSlices(IndexedSlices(indices=Tensor(\"gradient_tape/gradient_tape/Reshape_636:0\", shape=(126,), dtype=int32), values=Tensor(\"gradient_tape/gradient_tape/Reshape_635:0\", shape=(126, None), dtype=float64), dense_shape=Tensor(\"gradient_tape/gradient_tape/Cast_17:0\", shape=(2,), dtype=int32))) to a dense Tensor of unknown shape. This may consume a large amount of memory.\n",
      "  warnings.warn(\n",
      "/srv/conda/envs/notebook/lib/python3.8/site-packages/tensorflow/python/framework/indexed_slices.py:448: UserWarning: Converting sparse IndexedSlices(IndexedSlices(indices=Tensor(\"gradient_tape/gradient_tape/Reshape_638:0\", shape=(126,), dtype=int32), values=Tensor(\"gradient_tape/gradient_tape/Reshape_637:0\", shape=(126, None), dtype=float64), dense_shape=Tensor(\"gradient_tape/gradient_tape/Cast_18:0\", shape=(2,), dtype=int32))) to a dense Tensor of unknown shape. This may consume a large amount of memory.\n",
      "  warnings.warn(\n",
      "/srv/conda/envs/notebook/lib/python3.8/site-packages/tensorflow/python/framework/indexed_slices.py:448: UserWarning: Converting sparse IndexedSlices(IndexedSlices(indices=Tensor(\"gradient_tape/gradient_tape/Reshape_644:0\", shape=(100,), dtype=int32), values=Tensor(\"gradient_tape/gradient_tape/Reshape_643:0\", shape=(100, None), dtype=float64), dense_shape=Tensor(\"gradient_tape/gradient_tape/Cast_19:0\", shape=(2,), dtype=int32))) to a dense Tensor of unknown shape. This may consume a large amount of memory.\n",
      "  warnings.warn(\n",
      "/srv/conda/envs/notebook/lib/python3.8/site-packages/tensorflow/python/framework/indexed_slices.py:448: UserWarning: Converting sparse IndexedSlices(IndexedSlices(indices=Tensor(\"gradient_tape/gradient_tape/Reshape_646:0\", shape=(100,), dtype=int32), values=Tensor(\"gradient_tape/gradient_tape/Reshape_645:0\", shape=(100, None), dtype=float64), dense_shape=Tensor(\"gradient_tape/gradient_tape/Cast_20:0\", shape=(2,), dtype=int32))) to a dense Tensor of unknown shape. This may consume a large amount of memory.\n",
      "  warnings.warn(\n",
      "2022-06-06 19:45:35,157 - pyace.metrics_aggregator - INFO - Initial state:#0    (1 evals):        Loss: 5.271737 | RMSE Energy(low): 3037.77 (2985.74) meV/at | Forces(low): 376.89 (377.56) meV/A | Time/eval: 22021.47 mcs/at\n",
      "2022-06-06 19:45:35,158 - pyace.metrics_aggregator - INFO - \n",
      "--------------------------------------------INIT STATS--------------------------------------------\n",
      "Iteration:  #0   Loss:    Total:  5.2717e+00 (100%) \n",
      "                         Energy:  5.2034e+00 ( 99%) \n",
      "                          Force:  6.8301e-02 (  1%) \n",
      "                             L1:  0.0000e+00 (  0%) \n",
      "                             L2:  0.0000e+00 (  0%) \n",
      "Number of params./funcs:   1017/306                                  Avg. time:   22021.47 mcs/at\n",
      "-------------------------------------------------------------------------------------------------\n",
      "           Energy/at, meV/at   Energy_low/at, meV/at      Force, meV/A        Force_low, meV/A   \n",
      "   RMSE:         3037.77              2985.74               376.89                  377.56\n",
      "    MAE:         2954.99              2946.61               248.06                  248.95\n",
      " MAX_AE:         7378.77              3482.75              2865.76                 2865.76\n",
      "-------------------------------------------------------------------------------------------------\n",
      "2022-06-06 19:45:38,756 - pyace.metrics_aggregator - INFO - Iteration   #1    (4 evals):        Loss: 5.006615 | RMSE Energy(low): 2948.73 (2986.03) meV/at | Forces(low): 376.84 (377.51) meV/A | Time/eval: 533.62 mcs/at\n",
      "2022-06-06 19:45:41,346 - pyace.metrics_aggregator - INFO - Iteration   #2    (6 evals):        Loss: 4.942739 | RMSE Energy(low): 2929.51 (2958.17) meV/at | Forces(low): 376.23 (376.90) meV/A | Time/eval: 490.94 mcs/at\n",
      "2022-06-06 19:45:43,953 - pyace.metrics_aggregator - INFO - Iteration   #3    (8 evals):        Loss: 4.357858 | RMSE Energy(low): 2740.29 (2769.61) meV/at | Forces(low): 372.26 (372.93) meV/A | Time/eval: 533.27 mcs/at\n",
      "2022-06-06 19:45:45,361 - pyace.metrics_aggregator - INFO - Iteration   #4    (9 evals):        Loss: 3.329202 | RMSE Energy(low): 2375.69 (2396.63) meV/at | Forces(low): 362.07 (362.72) meV/A | Time/eval: 531.90 mcs/at\n",
      "2022-06-06 19:45:47,848 - pyace.metrics_aggregator - INFO - Iteration   #5    (11 evals):       Loss: 2.484392 | RMSE Energy(low): 2049.08 (2029.83) meV/at | Forces(low): 326.13 (326.71) meV/A | Time/eval: 531.97 mcs/at\n",
      "2022-06-06 19:45:49,160 - pyace.metrics_aggregator - INFO - Iteration   #6    (12 evals):       Loss: 1.437047 | RMSE Energy(low): 1538.12 (1522.19) meV/at | Forces(low): 271.95 (272.44) meV/A | Time/eval: 490.89 mcs/at\n",
      "2022-06-06 19:45:51,655 - pyace.metrics_aggregator - INFO - Iteration   #7    (14 evals):       Loss: 0.650425 | RMSE Energy(low): 915.39 (900.98) meV/at | Forces(low): 376.73 (377.41) meV/A | Time/eval: 491.53 mcs/at\n",
      "2022-06-06 19:45:55,162 - pyace.metrics_aggregator - INFO - Iteration   #8    (17 evals):       Loss: 0.569036 | RMSE Energy(low): 823.89 (771.34) meV/at | Forces(low): 389.28 (389.98) meV/A | Time/eval: 451.54 mcs/at\n",
      "2022-06-06 19:45:56,558 - pyace.metrics_aggregator - INFO - Iteration   #9    (18 evals):       Loss: 0.429327 | RMSE Energy(low): 714.60 (668.29) meV/at | Forces(low): 299.24 (299.78) meV/A | Time/eval: 493.90 mcs/at\n",
      "2022-06-06 19:45:57,857 - pyace.metrics_aggregator - INFO - Iteration   #10   (19 evals):       Loss: 0.242773 | RMSE Energy(low): 442.61 (427.93) meV/at | Forces(low): 364.51 (365.17) meV/A | Time/eval: 480.00 mcs/at\n",
      "2022-06-06 19:46:00,257 - pyace.metrics_aggregator - INFO - Iteration   #11   (21 evals):       Loss: 0.211923 | RMSE Energy(low): 424.97 (421.42) meV/at | Forces(low): 345.77 (346.39) meV/A | Time/eval: 490.33 mcs/at\n",
      "2022-06-06 19:46:01,556 - pyace.metrics_aggregator - INFO - Iteration   #12   (22 evals):       Loss: 0.180375 | RMSE Energy(low): 389.46 (373.98) meV/at | Forces(low): 345.03 (345.65) meV/A | Time/eval: 463.67 mcs/at\n",
      "2022-06-06 19:46:02,855 - pyace.metrics_aggregator - INFO - Iteration   #13   (23 evals):       Loss: 0.160687 | RMSE Energy(low): 342.90 (342.94) meV/at | Forces(low): 368.44 (369.10) meV/A | Time/eval: 471.37 mcs/at\n",
      "2022-06-06 19:46:04,157 - pyace.metrics_aggregator - INFO - Iteration   #14   (24 evals):       Loss: 0.137387 | RMSE Energy(low): 328.82 (307.94) meV/at | Forces(low): 349.99 (350.62) meV/A | Time/eval: 484.52 mcs/at\n",
      "2022-06-06 19:46:05,553 - pyace.metrics_aggregator - INFO - Iteration   #15   (25 evals):       Loss: 0.101963 | RMSE Energy(low): 274.62 (266.59) meV/at | Forces(low): 318.81 (319.39) meV/A | Time/eval: 511.49 mcs/at\n",
      "2022-06-06 19:46:07,956 - pyace.metrics_aggregator - INFO - Iteration   #16   (27 evals):       Loss: 0.089982 | RMSE Energy(low): 269.83 (270.00) meV/at | Forces(low): 292.43 (292.95) meV/A | Time/eval: 490.94 mcs/at\n",
      "2022-06-06 19:46:09,256 - pyace.metrics_aggregator - INFO - Iteration   #17   (28 evals):       Loss: 0.071076 | RMSE Energy(low): 242.74 (244.92) meV/at | Forces(low): 260.72 (261.19) meV/A | Time/eval: 472.18 mcs/at\n",
      "2022-06-06 19:46:11,756 - pyace.metrics_aggregator - INFO - Iteration   #18   (30 evals):       Loss: 0.061088 | RMSE Energy(low): 245.90 (247.09) meV/at | Forces(low): 230.43 (230.84) meV/A | Time/eval: 534.58 mcs/at\n",
      "2022-06-06 19:46:13,058 - pyace.metrics_aggregator - INFO - Iteration   #19   (31 evals):       Loss: 0.049180 | RMSE Energy(low): 206.64 (208.90) meV/at | Forces(low): 222.59 (222.99) meV/A | Time/eval: 482.22 mcs/at\n",
      "2022-06-06 19:46:14,453 - pyace.metrics_aggregator - INFO - Iteration   #20   (32 evals):       Loss: 0.040131 | RMSE Energy(low): 177.91 (180.40) meV/at | Forces(low): 206.61 (206.98) meV/A | Time/eval: 502.92 mcs/at\n",
      "2022-06-06 19:46:15,852 - pyace.metrics_aggregator - INFO - Iteration   #21   (33 evals):       Loss: 0.035315 | RMSE Energy(low): 179.86 (176.07) meV/at | Forces(low): 185.96 (186.29) meV/A | Time/eval: 529.35 mcs/at\n",
      "2022-06-06 19:46:17,257 - pyace.metrics_aggregator - INFO - Iteration   #22   (34 evals):       Loss: 0.029719 | RMSE Energy(low): 153.08 (153.33) meV/at | Forces(low): 178.95 (179.27) meV/A | Time/eval: 531.07 mcs/at\n",
      "2022-06-06 19:46:18,656 - pyace.metrics_aggregator - INFO - Iteration   #23   (35 evals):       Loss: 0.026540 | RMSE Energy(low): 146.72 (141.06) meV/at | Forces(low): 161.62 (161.91) meV/A | Time/eval: 500.02 mcs/at\n",
      "2022-06-06 19:46:20,054 - pyace.metrics_aggregator - INFO - Iteration   #24   (36 evals):       Loss: 0.023045 | RMSE Energy(low): 122.78 (121.77) meV/at | Forces(low): 157.82 (158.10) meV/A | Time/eval: 502.23 mcs/at\n",
      "2022-06-06 19:46:21,359 - pyace.metrics_aggregator - INFO - Iteration   #25   (37 evals):       Loss: 0.020847 | RMSE Energy(low): 113.61 (114.20) meV/at | Forces(low): 153.73 (154.01) meV/A | Time/eval: 485.26 mcs/at\n",
      "2022-06-06 19:46:22,754 - pyace.metrics_aggregator - INFO - Iteration   #26   (38 evals):       Loss: 0.018143 | RMSE Energy(low): 108.41 (108.71) meV/at | Forces(low): 148.23 (148.49) meV/A | Time/eval: 504.73 mcs/at\n",
      "2022-06-06 19:46:24,059 - pyace.metrics_aggregator - INFO - Iteration   #27   (39 evals):       Loss: 0.017013 | RMSE Energy(low): 103.84 (104.84) meV/at | Forces(low): 146.27 (146.53) meV/A | Time/eval: 486.57 mcs/at\n",
      "2022-06-06 19:46:25,461 - pyace.metrics_aggregator - INFO - Iteration   #28   (40 evals):       Loss: 0.015253 | RMSE Energy(low): 102.93 (104.12) meV/at | Forces(low): 139.32 (139.57) meV/A | Time/eval: 498.24 mcs/at\n",
      "2022-06-06 19:46:26,951 - pyace.metrics_aggregator - INFO - Iteration   #29   (41 evals):       Loss: 0.013546 | RMSE Energy(low): 103.02 (104.52) meV/at | Forces(low): 130.92 (131.15) meV/A | Time/eval: 536.32 mcs/at\n",
      "2022-06-06 19:46:28,257 - pyace.metrics_aggregator - INFO - Iteration   #30   (42 evals):       Loss: 0.011605 | RMSE Energy(low): 98.35 (98.75) meV/at | Forces(low): 121.66 (121.88) meV/A | Time/eval: 487.02 mcs/at\n",
      "2022-06-06 19:46:29,659 - pyace.metrics_aggregator - INFO - Iteration   #31   (43 evals):       Loss: 0.010090 | RMSE Energy(low): 95.18 (96.58) meV/at | Forces(low): 117.07 (117.28) meV/A | Time/eval: 521.90 mcs/at\n",
      "2022-06-06 19:46:32,162 - pyace.metrics_aggregator - INFO - Iteration   #32   (45 evals):       Loss: 0.009337 | RMSE Energy(low): 86.79 (87.21) meV/at | Forces(low): 114.48 (114.69) meV/A | Time/eval: 493.27 mcs/at\n",
      "2022-06-06 19:46:33,556 - pyace.metrics_aggregator - INFO - Iteration   #33   (46 evals):       Loss: 0.008232 | RMSE Energy(low): 81.67 (82.53) meV/at | Forces(low): 109.65 (109.85) meV/A | Time/eval: 500.22 mcs/at\n",
      "2022-06-06 19:46:34,955 - pyace.metrics_aggregator - INFO - Iteration   #34   (47 evals):       Loss: 0.007628 | RMSE Energy(low): 74.82 (75.71) meV/at | Forces(low): 104.90 (105.08) meV/A | Time/eval: 523.92 mcs/at\n",
      "2022-06-06 19:46:36,355 - pyace.metrics_aggregator - INFO - Iteration   #35   (48 evals):       Loss: 0.006763 | RMSE Energy(low): 71.14 (71.96) meV/at | Forces(low): 99.19 (99.37) meV/A | Time/eval: 524.20 mcs/at\n",
      "2022-06-06 19:46:37,753 - pyace.metrics_aggregator - INFO - Iteration   #36   (49 evals):       Loss: 0.006352 | RMSE Energy(low): 74.35 (68.15) meV/at | Forces(low): 91.94 (92.10) meV/A | Time/eval: 525.09 mcs/at\n",
      "2022-06-06 19:46:39,056 - pyace.metrics_aggregator - INFO - Iteration   #37   (50 evals):       Loss: 0.005737 | RMSE Energy(low): 69.04 (66.37) meV/at | Forces(low): 89.65 (89.81) meV/A | Time/eval: 480.96 mcs/at\n",
      "2022-06-06 19:46:40,457 - pyace.metrics_aggregator - INFO - Iteration   #38   (51 evals):       Loss: 0.005069 | RMSE Energy(low): 64.56 (64.15) meV/at | Forces(low): 86.20 (86.35) meV/A | Time/eval: 500.19 mcs/at\n",
      "2022-06-06 19:46:41,858 - pyace.metrics_aggregator - INFO - Iteration   #39   (52 evals):       Loss: 0.004368 | RMSE Energy(low): 61.88 (60.27) meV/at | Forces(low): 82.42 (82.56) meV/A | Time/eval: 524.45 mcs/at\n",
      "2022-06-06 19:46:43,255 - pyace.metrics_aggregator - INFO - Iteration   #40   (53 evals):       Loss: 0.004100 | RMSE Energy(low): 56.15 (56.34) meV/at | Forces(low): 82.33 (82.48) meV/A | Time/eval: 513.92 mcs/at\n",
      "2022-06-06 19:46:44,557 - pyace.metrics_aggregator - INFO - Iteration   #41   (54 evals):       Loss: 0.003814 | RMSE Energy(low): 57.11 (56.58) meV/at | Forces(low): 78.42 (78.56) meV/A | Time/eval: 479.23 mcs/at\n",
      "2022-06-06 19:46:45,856 - pyace.metrics_aggregator - INFO - Iteration   #42   (55 evals):       Loss: 0.003622 | RMSE Energy(low): 58.37 (57.96) meV/at | Forces(low): 75.32 (75.45) meV/A | Time/eval: 478.23 mcs/at\n",
      "2022-06-06 19:46:47,159 - pyace.metrics_aggregator - INFO - Iteration   #43   (56 evals):       Loss: 0.003490 | RMSE Energy(low): 56.27 (56.15) meV/at | Forces(low): 74.14 (74.27) meV/A | Time/eval: 480.67 mcs/at\n",
      "2022-06-06 19:46:48,455 - pyace.metrics_aggregator - INFO - Iteration   #44   (57 evals):       Loss: 0.003314 | RMSE Energy(low): 55.38 (55.84) meV/at | Forces(low): 72.68 (72.81) meV/A | Time/eval: 478.57 mcs/at\n",
      "2022-06-06 19:46:49,861 - pyace.metrics_aggregator - INFO - Iteration   #45   (58 evals):       Loss: 0.003161 | RMSE Energy(low): 54.56 (55.36) meV/at | Forces(low): 71.69 (71.82) meV/A | Time/eval: 513.25 mcs/at\n",
      "2022-06-06 19:46:51,155 - pyace.metrics_aggregator - INFO - Iteration   #46   (59 evals):       Loss: 0.003003 | RMSE Energy(low): 53.61 (54.06) meV/at | Forces(low): 70.20 (70.32) meV/A | Time/eval: 465.15 mcs/at\n",
      "2022-06-06 19:46:52,455 - pyace.metrics_aggregator - INFO - Iteration   #47   (60 evals):       Loss: 0.002902 | RMSE Energy(low): 51.88 (52.19) meV/at | Forces(low): 68.03 (68.15) meV/A | Time/eval: 459.09 mcs/at\n",
      "2022-06-06 19:46:53,758 - pyace.metrics_aggregator - INFO - Iteration   #48   (61 evals):       Loss: 0.002799 | RMSE Energy(low): 51.20 (51.47) meV/at | Forces(low): 66.89 (67.01) meV/A | Time/eval: 483.02 mcs/at\n",
      "2022-06-06 19:46:55,053 - pyace.metrics_aggregator - INFO - Iteration   #49   (62 evals):       Loss: 0.002666 | RMSE Energy(low): 49.34 (49.97) meV/at | Forces(low): 66.55 (66.67) meV/A | Time/eval: 482.97 mcs/at\n",
      "2022-06-06 19:46:56,457 - pyace.metrics_aggregator - INFO - \n",
      "--------------------------------------------FIT STATS--------------------------------------------\n",
      "Iteration:  #50  Loss:    Total:  2.4945e-03 (100%) \n",
      "                         Energy:  6.4879e-04 ( 26%) \n",
      "                          Force:  1.8456e-03 ( 74%) \n",
      "                             L1:  9.2824e-08 (  0%) \n",
      "                             L2:  3.4948e-09 (  0%) \n",
      "Number of params./funcs:   1017/306                                  Avg. time:     471.34 mcs/at\n",
      "-------------------------------------------------------------------------------------------------\n",
      "           Energy/at, meV/at   Energy_low/at, meV/at      Force, meV/A        Force_low, meV/A   \n",
      "   RMSE:           47.22                47.94                66.12                   66.24\n",
      "    MAE:           18.77                19.26                36.60                   36.73\n",
      " MAX_AE:          380.38               380.38               962.40                  962.40\n",
      "-------------------------------------------------------------------------------------------------\n",
      "2022-06-06 19:46:57,756 - pyace.metrics_aggregator - INFO - Iteration   #51   (64 evals):       Loss: 0.002374 | RMSE Energy(low): 45.58 (46.04) meV/at | Forces(low): 64.28 (64.40) meV/A | Time/eval: 484.40 mcs/at\n",
      "2022-06-06 19:46:59,150 - pyace.metrics_aggregator - INFO - Iteration   #52   (65 evals):       Loss: 0.002190 | RMSE Energy(low): 42.85 (43.45) meV/at | Forces(low): 63.15 (63.26) meV/A | Time/eval: 497.06 mcs/at\n",
      "2022-06-06 19:47:00,456 - pyace.metrics_aggregator - INFO - Iteration   #53   (66 evals):       Loss: 0.001980 | RMSE Energy(low): 39.80 (40.19) meV/at | Forces(low): 61.17 (61.27) meV/A | Time/eval: 483.69 mcs/at\n",
      "2022-06-06 19:47:02,957 - pyace.metrics_aggregator - INFO - Iteration   #54   (68 evals):       Loss: 0.001879 | RMSE Energy(low): 38.08 (38.54) meV/at | Forces(low): 59.75 (59.86) meV/A | Time/eval: 535.32 mcs/at\n",
      "2022-06-06 19:47:04,257 - pyace.metrics_aggregator - INFO - Iteration   #55   (69 evals):       Loss: 0.001799 | RMSE Energy(low): 35.67 (36.10) meV/at | Forces(low): 58.60 (58.70) meV/A | Time/eval: 480.75 mcs/at\n",
      "2022-06-06 19:47:05,654 - pyace.metrics_aggregator - INFO - Iteration   #56   (70 evals):       Loss: 0.001718 | RMSE Energy(low): 33.70 (34.18) meV/at | Forces(low): 57.21 (57.31) meV/A | Time/eval: 508.70 mcs/at\n",
      "2022-06-06 19:47:07,054 - pyace.metrics_aggregator - INFO - Iteration   #57   (71 evals):       Loss: 0.001671 | RMSE Energy(low): 33.32 (33.18) meV/at | Forces(low): 55.68 (55.78) meV/A | Time/eval: 525.67 mcs/at\n",
      "2022-06-06 19:47:08,455 - pyace.metrics_aggregator - INFO - Iteration   #58   (72 evals):       Loss: 0.001607 | RMSE Energy(low): 33.03 (33.38) meV/at | Forces(low): 54.56 (54.66) meV/A | Time/eval: 525.81 mcs/at\n",
      "2022-06-06 19:47:09,851 - pyace.metrics_aggregator - INFO - Iteration   #59   (73 evals):       Loss: 0.001525 | RMSE Energy(low): 32.67 (33.12) meV/at | Forces(low): 53.62 (53.72) meV/A | Time/eval: 520.25 mcs/at\n",
      "2022-06-06 19:47:11,254 - pyace.metrics_aggregator - INFO - Iteration   #60   (74 evals):       Loss: 0.001437 | RMSE Energy(low): 31.52 (31.96) meV/at | Forces(low): 52.05 (52.14) meV/A | Time/eval: 526.30 mcs/at\n",
      "2022-06-06 19:47:12,557 - pyace.metrics_aggregator - INFO - Iteration   #61   (75 evals):       Loss: 0.001358 | RMSE Energy(low): 29.44 (29.46) meV/at | Forces(low): 50.50 (50.59) meV/A | Time/eval: 482.77 mcs/at\n",
      "2022-06-06 19:47:15,055 - pyace.metrics_aggregator - INFO - Iteration   #62   (77 evals):       Loss: 0.001315 | RMSE Energy(low): 29.03 (29.10) meV/at | Forces(low): 49.59 (49.68) meV/A | Time/eval: 489.01 mcs/at\n",
      "2022-06-06 19:47:16,356 - pyace.metrics_aggregator - INFO - Iteration   #63   (78 evals):       Loss: 0.001262 | RMSE Energy(low): 28.16 (28.53) meV/at | Forces(low): 49.04 (49.13) meV/A | Time/eval: 478.26 mcs/at\n",
      "2022-06-06 19:47:17,657 - pyace.metrics_aggregator - INFO - Iteration   #64   (79 evals):       Loss: 0.001220 | RMSE Energy(low): 27.38 (27.75) meV/at | Forces(low): 48.41 (48.50) meV/A | Time/eval: 476.58 mcs/at\n",
      "2022-06-06 19:47:18,959 - pyace.metrics_aggregator - INFO - Iteration   #65   (80 evals):       Loss: 0.001176 | RMSE Energy(low): 26.21 (26.31) meV/at | Forces(low): 47.89 (47.98) meV/A | Time/eval: 453.29 mcs/at\n",
      "2022-06-06 19:47:20,258 - pyace.metrics_aggregator - INFO - Iteration   #66   (81 evals):       Loss: 0.001124 | RMSE Energy(low): 24.88 (25.10) meV/at | Forces(low): 47.16 (47.25) meV/A | Time/eval: 457.33 mcs/at\n",
      "2022-06-06 19:47:21,556 - pyace.metrics_aggregator - INFO - Iteration   #67   (82 evals):       Loss: 0.001075 | RMSE Energy(low): 23.00 (23.34) meV/at | Forces(low): 46.87 (46.96) meV/A | Time/eval: 478.28 mcs/at\n",
      "2022-06-06 19:47:22,862 - pyace.metrics_aggregator - INFO - Iteration   #68   (83 evals):       Loss: 0.001039 | RMSE Energy(low): 22.20 (22.38) meV/at | Forces(low): 46.77 (46.85) meV/A | Time/eval: 475.96 mcs/at\n",
      "2022-06-06 19:47:24,256 - pyace.metrics_aggregator - INFO - Iteration   #69   (84 evals):       Loss: 0.001008 | RMSE Energy(low): 20.56 (20.69) meV/at | Forces(low): 46.42 (46.50) meV/A | Time/eval: 490.79 mcs/at\n",
      "2022-06-06 19:47:25,556 - pyace.metrics_aggregator - INFO - Iteration   #70   (85 evals):       Loss: 0.000974 | RMSE Energy(low): 19.72 (20.00) meV/at | Forces(low): 45.71 (45.79) meV/A | Time/eval: 456.03 mcs/at\n",
      "2022-06-06 19:47:26,955 - pyace.metrics_aggregator - INFO - Iteration   #71   (86 evals):       Loss: 0.000935 | RMSE Energy(low): 19.62 (19.91) meV/at | Forces(low): 44.91 (44.99) meV/A | Time/eval: 507.05 mcs/at\n",
      "2022-06-06 19:47:28,349 - pyace.metrics_aggregator - INFO - Iteration   #72   (87 evals):       Loss: 0.000894 | RMSE Energy(low): 17.89 (18.14) meV/at | Forces(low): 43.75 (43.83) meV/A | Time/eval: 521.90 mcs/at\n",
      "2022-06-06 19:47:29,659 - pyace.metrics_aggregator - INFO - Iteration   #73   (88 evals):       Loss: 0.000869 | RMSE Energy(low): 16.89 (17.09) meV/at | Forces(low): 43.22 (43.30) meV/A | Time/eval: 480.55 mcs/at\n",
      "2022-06-06 19:47:31,057 - pyace.metrics_aggregator - INFO - Iteration   #74   (89 evals):       Loss: 0.000842 | RMSE Energy(low): 15.78 (16.02) meV/at | Forces(low): 42.66 (42.74) meV/A | Time/eval: 510.29 mcs/at\n",
      "2022-06-06 19:47:32,357 - pyace.metrics_aggregator - INFO - Iteration   #75   (90 evals):       Loss: 0.000818 | RMSE Energy(low): 14.28 (14.49) meV/at | Forces(low): 41.93 (42.01) meV/A | Time/eval: 482.64 mcs/at\n",
      "2022-06-06 19:47:33,655 - pyace.metrics_aggregator - INFO - Iteration   #76   (91 evals):       Loss: 0.000785 | RMSE Energy(low): 13.08 (13.24) meV/at | Forces(low): 41.31 (41.38) meV/A | Time/eval: 453.83 mcs/at\n",
      "2022-06-06 19:47:35,055 - pyace.metrics_aggregator - INFO - Iteration   #77   (92 evals):       Loss: 0.000765 | RMSE Energy(low): 11.29 (11.46) meV/at | Forces(low): 40.72 (40.79) meV/A | Time/eval: 507.79 mcs/at\n",
      "2022-06-06 19:47:36,361 - pyace.metrics_aggregator - INFO - Iteration   #78   (93 evals):       Loss: 0.000742 | RMSE Energy(low): 11.43 (11.60) meV/at | Forces(low): 40.31 (40.38) meV/A | Time/eval: 482.20 mcs/at\n",
      "2022-06-06 19:47:38,855 - pyace.metrics_aggregator - INFO - Iteration   #79   (95 evals):       Loss: 0.000730 | RMSE Energy(low): 10.76 (10.93) meV/at | Forces(low): 40.07 (40.15) meV/A | Time/eval: 489.60 mcs/at\n",
      "2022-06-06 19:47:40,256 - pyace.metrics_aggregator - INFO - Iteration   #80   (96 evals):       Loss: 0.000714 | RMSE Energy(low): 10.41 (10.57) meV/at | Forces(low): 39.78 (39.85) meV/A | Time/eval: 497.52 mcs/at\n",
      "2022-06-06 19:47:41,559 - pyace.metrics_aggregator - INFO - Iteration   #81   (97 evals):       Loss: 0.000691 | RMSE Energy(low): 9.20 (9.34) meV/at | Forces(low): 39.53 (39.60) meV/A | Time/eval: 466.70 mcs/at\n",
      "2022-06-06 19:47:42,858 - pyace.metrics_aggregator - INFO - Iteration   #82   (98 evals):       Loss: 0.000676 | RMSE Energy(low): 8.23 (8.28) meV/at | Forces(low): 39.54 (39.61) meV/A | Time/eval: 458.44 mcs/at\n",
      "2022-06-06 19:47:44,255 - pyace.metrics_aggregator - INFO - Iteration   #83   (99 evals):       Loss: 0.000660 | RMSE Energy(low): 7.80 (7.92) meV/at | Forces(low): 39.28 (39.35) meV/A | Time/eval: 492.99 mcs/at\n",
      "2022-06-06 19:47:45,663 - pyace.metrics_aggregator - INFO - Iteration   #84   (100 evals):      Loss: 0.000646 | RMSE Energy(low): 7.99 (8.04) meV/at | Forces(low): 38.89 (38.96) meV/A | Time/eval: 522.75 mcs/at\n",
      "2022-06-06 19:47:47,061 - pyace.metrics_aggregator - INFO - Iteration   #85   (101 evals):      Loss: 0.000630 | RMSE Energy(low): 7.99 (8.11) meV/at | Forces(low): 38.37 (38.44) meV/A | Time/eval: 501.36 mcs/at\n",
      "2022-06-06 19:47:48,456 - pyace.metrics_aggregator - INFO - Iteration   #86   (102 evals):      Loss: 0.000617 | RMSE Energy(low): 7.75 (7.85) meV/at | Forces(low): 38.16 (38.23) meV/A | Time/eval: 495.81 mcs/at\n",
      "2022-06-06 19:47:49,852 - pyace.metrics_aggregator - INFO - Iteration   #87   (103 evals):      Loss: 0.000606 | RMSE Energy(low): 7.29 (7.39) meV/at | Forces(low): 37.83 (37.90) meV/A | Time/eval: 511.02 mcs/at\n",
      "2022-06-06 19:47:51,253 - pyace.metrics_aggregator - INFO - Iteration   #88   (104 evals):      Loss: 0.000596 | RMSE Energy(low): 6.93 (7.01) meV/at | Forces(low): 37.44 (37.51) meV/A | Time/eval: 529.66 mcs/at\n",
      "2022-06-06 19:47:52,558 - pyace.metrics_aggregator - INFO - Iteration   #89   (105 evals):      Loss: 0.000592 | RMSE Energy(low): 6.29 (6.37) meV/at | Forces(low): 37.00 (37.06) meV/A | Time/eval: 487.41 mcs/at\n",
      "2022-06-06 19:47:53,957 - pyace.metrics_aggregator - INFO - Iteration   #90   (106 evals):      Loss: 0.000586 | RMSE Energy(low): 5.97 (6.05) meV/at | Forces(low): 36.91 (36.98) meV/A | Time/eval: 498.27 mcs/at\n",
      "2022-06-06 19:47:55,255 - pyace.metrics_aggregator - INFO - Iteration   #91   (107 evals):      Loss: 0.000577 | RMSE Energy(low): 5.68 (5.77) meV/at | Forces(low): 36.76 (36.82) meV/A | Time/eval: 483.75 mcs/at\n",
      "2022-06-06 19:47:56,555 - pyace.metrics_aggregator - INFO - Iteration   #92   (108 evals):      Loss: 0.000571 | RMSE Energy(low): 5.55 (5.62) meV/at | Forces(low): 36.38 (36.45) meV/A | Time/eval: 484.83 mcs/at\n",
      "2022-06-06 19:47:57,855 - pyace.metrics_aggregator - INFO - Iteration   #93   (109 evals):      Loss: 0.000565 | RMSE Energy(low): 5.29 (5.36) meV/at | Forces(low): 36.25 (36.32) meV/A | Time/eval: 483.54 mcs/at\n",
      "2022-06-06 19:47:59,260 - pyace.metrics_aggregator - INFO - Iteration   #94   (110 evals):      Loss: 0.000555 | RMSE Energy(low): 5.08 (5.15) meV/at | Forces(low): 35.90 (35.96) meV/A | Time/eval: 501.67 mcs/at\n",
      "2022-06-06 19:48:00,558 - pyace.metrics_aggregator - INFO - Iteration   #95   (111 evals):      Loss: 0.000543 | RMSE Energy(low): 4.64 (4.69) meV/at | Forces(low): 35.41 (35.47) meV/A | Time/eval: 484.67 mcs/at\n",
      "2022-06-06 19:48:02,954 - pyace.metrics_aggregator - INFO - Iteration   #96   (113 evals):      Loss: 0.000538 | RMSE Energy(low): 4.67 (4.73) meV/at | Forces(low): 35.21 (35.27) meV/A | Time/eval: 533.54 mcs/at\n",
      "2022-06-06 19:48:04,156 - pyace.metrics_aggregator - INFO - Iteration   #97   (114 evals):      Loss: 0.000531 | RMSE Energy(low): 4.69 (4.64) meV/at | Forces(low): 35.02 (35.08) meV/A | Time/eval: 440.57 mcs/at\n",
      "2022-06-06 19:48:05,454 - pyace.metrics_aggregator - INFO - Iteration   #98   (115 evals):      Loss: 0.000522 | RMSE Energy(low): 4.62 (4.69) meV/at | Forces(low): 34.86 (34.92) meV/A | Time/eval: 455.92 mcs/at\n",
      "2022-06-06 19:48:06,753 - pyace.metrics_aggregator - INFO - Iteration   #99   (116 evals):      Loss: 0.000513 | RMSE Energy(low): 4.84 (4.91) meV/at | Forces(low): 34.76 (34.83) meV/A | Time/eval: 483.89 mcs/at\n",
      "2022-06-06 19:48:08,155 - pyace.metrics_aggregator - INFO - \n",
      "--------------------------------------------FIT STATS--------------------------------------------\n",
      "Iteration:  #100 Loss:    Total:  5.0805e-04 (100%) \n",
      "                         Energy:  9.7166e-06 (  2%) \n",
      "                          Force:  4.9818e-04 ( 98%) \n",
      "                             L1:  1.3966e-07 (  0%) \n",
      "                             L2:  9.4339e-09 (  0%) \n",
      "Number of params./funcs:   1017/306                                  Avg. time:     471.73 mcs/at\n",
      "-------------------------------------------------------------------------------------------------\n",
      "           Energy/at, meV/at   Energy_low/at, meV/at      Force, meV/A        Force_low, meV/A   \n",
      "   RMSE:            5.28                 5.35                34.67                   34.73\n",
      "    MAE:            2.95                 3.00                19.22                   19.29\n",
      " MAX_AE:           38.59                38.59               513.34                  513.34\n",
      "-------------------------------------------------------------------------------------------------\n",
      "Warning: Maximum number of iterations has been exceeded.\n",
      "         Current function value: 0.000508\n",
      "         Iterations: 100\n",
      "         Function evaluations: 117\n",
      "         Gradient evaluations: 117\n",
      "Fitting took 202.54 seconds\n",
      "2022-06-06 19:48:08,501 - pyace.fitadapter - INFO - Optimization result(success=False, status=1, message=Maximum number of iterations has been exceeded., nfev=117, njev=117)\n",
      "2022-06-06 19:48:08,502 - pyace.generalfit - INFO - Fitting cycle finished, final statistic:\n",
      "2022-06-06 19:48:08,502 - pyace.metrics_aggregator - INFO - \n",
      "--------------------------------------------Cycle last iteration:--------------------------------------------\n",
      "Iteration:  #101 Loss:    Total:  5.0805e-04 (100%) \n",
      "                         Energy:  9.7166e-06 (  2%) \n",
      "                          Force:  4.9818e-04 ( 98%) \n",
      "                             L1:  1.3966e-07 (  0%) \n",
      "                             L2:  9.4339e-09 (  0%) \n",
      "Number of params./funcs:   1017/306                                  Avg. time:     471.73 mcs/at\n",
      "-------------------------------------------------------------------------------------------------\n",
      "           Energy/at, meV/at   Energy_low/at, meV/at      Force, meV/A        Force_low, meV/A   \n",
      "   RMSE:            5.28                 5.35                34.67                   34.73\n",
      "    MAE:            2.95                 3.00                19.22                   19.29\n",
      " MAX_AE:           38.59                38.59               513.34                  513.34\n",
      "-------------------------------------------------------------------------------------------------\n",
      "2022-06-06 19:48:08,502 - pyace.generalfit - DEBUG - Update current_bbasisconfig.metadata = MapStringString{_fit_cycles: 1, _loss: 0.0005080467020294956, ace_evaluator_version: 2021.10.25, pacemaker_version: 0.2.7+49.gac4f57f, starttime: 2022-06-06 19:44:43.834661, tensorpot_version: 0+untagged.8.g783e6a6, user: jovyan}\n",
      "2022-06-06 19:48:08,502 - pyace.generalfit - INFO - Select best fit #1 among all available (1)\n",
      "2022-06-06 19:48:08,502 - pyace.generalfit - INFO - Best fitting attempt is #1\n",
      "2022-06-06 19:48:08,535 - pyace.generalfit - INFO - Intermediate potential saved in interim_potential_best_cycle.yaml\n",
      "2022-06-06 19:48:08,539 - pyace.generalfit - INFO - Fitting done\n",
      "2022-06-06 19:48:08,540 - pyace.generalfit - DEBUG - Update metadata: MapStringString{_loss: 0.0005080467020294956, ace_evaluator_version: 2021.10.25, intermediate_time: 2022-06-06 19:48:08.503048, pacemaker_version: 0.2.7+49.gac4f57f, starttime: 2022-06-06 19:44:43.834661, tensorpot_version: 0+untagged.8.g783e6a6, user: jovyan}\n",
      "2022-06-06 19:48:08,567 - pyace.generalfit - INFO - Final potential is saved to output_potential.yaml\n",
      "2022-06-06 19:48:08,571 - root - INFO - Making predictions\n",
      "2022-06-06 19:48:08,571 - root - INFO - For train data\n",
      "/srv/conda/envs/notebook/lib/python3.8/site-packages/tensorflow/python/framework/indexed_slices.py:448: UserWarning: Converting sparse IndexedSlices(IndexedSlices(indices=Tensor(\"concat_55:0\", shape=(None,), dtype=int32), values=Tensor(\"concat_54:0\", shape=(None, 3), dtype=float64), dense_shape=Tensor(\"gradient_tape/Cast_30:0\", shape=(2,), dtype=int32))) to a dense Tensor of unknown shape. This may consume a large amount of memory.\n",
      "  warnings.warn(\n",
      "/srv/conda/envs/notebook/lib/python3.8/site-packages/tensorflow/python/framework/indexed_slices.py:448: UserWarning: Converting sparse IndexedSlices(IndexedSlices(indices=Tensor(\"gradient_tape/Reshape_937:0\", shape=(None,), dtype=int32), values=Tensor(\"gradient_tape/Reshape_936:0\", shape=(None, 3, 3), dtype=float64), dense_shape=Tensor(\"gradient_tape/Cast_65:0\", shape=(3,), dtype=int32))) to a dense Tensor of unknown shape. This may consume a large amount of memory.\n",
      "  warnings.warn(\n",
      "2022-06-06 19:48:25,052 - root - INFO - Computing nearest neighbours distances from 'tp_atoms'\n",
      "2022-06-06 19:48:25,081 - root - INFO - Predictions are saved into train_pred.pckl.gzip (121.2KiB)\n",
      "2022-06-06 19:48:25,081 - root - INFO - Ploting validation graphs\n",
      "/srv/conda/envs/notebook/lib/python3.8/site-packages/numpy/core/getlimits.py:499: UserWarning: The value of the smallest subnormal for <class 'numpy.float64'> type is zero.\n",
      "  setattr(self, word, getattr(machar, word).flat[0])\n",
      "/srv/conda/envs/notebook/lib/python3.8/site-packages/numpy/core/getlimits.py:89: UserWarning: The value of the smallest subnormal for <class 'numpy.float64'> type is zero.\n",
      "  return self._float_to_str(self.smallest_subnormal)\n",
      "/srv/conda/envs/notebook/lib/python3.8/site-packages/numpy/core/getlimits.py:499: UserWarning: The value of the smallest subnormal for <class 'numpy.float32'> type is zero.\n",
      "  setattr(self, word, getattr(machar, word).flat[0])\n",
      "/srv/conda/envs/notebook/lib/python3.8/site-packages/numpy/core/getlimits.py:89: UserWarning: The value of the smallest subnormal for <class 'numpy.float32'> type is zero.\n",
      "  return self._float_to_str(self.smallest_subnormal)\n",
      "Loading B-basis from 'output_potential.yaml'\n",
      "Converting to Ctilde-basis\n",
      "Saving Ctilde-basis to 'output_potential.yace'\n",
      "\n",
      "INFO:pyiron_log:run job: pacemaker_job id: 28, status: collect\n",
      "INFO:pyiron_log:update master: None 28 modal\n"
     ]
    }
   ],
   "source": [
    "job.run()"
   ]
  },
  {
   "cell_type": "code",
   "execution_count": 37,
   "id": "70ff4e16",
   "metadata": {},
   "outputs": [
    {
     "name": "stderr",
     "output_type": "stream",
     "text": [
      "DEBUG:pyiron_log:sql_query: {'project': '/home/jovyan/potentials/potentials/03-ACE/fit_pace/%'}\n"
     ]
    },
    {
     "data": {
      "text/html": [
       "<div>\n",
       "<style scoped>\n",
       "    .dataframe tbody tr th:only-of-type {\n",
       "        vertical-align: middle;\n",
       "    }\n",
       "\n",
       "    .dataframe tbody tr th {\n",
       "        vertical-align: top;\n",
       "    }\n",
       "\n",
       "    .dataframe thead th {\n",
       "        text-align: right;\n",
       "    }\n",
       "</style>\n",
       "<table border=\"1\" class=\"dataframe\">\n",
       "  <thead>\n",
       "    <tr style=\"text-align: right;\">\n",
       "      <th></th>\n",
       "      <th>id</th>\n",
       "      <th>status</th>\n",
       "      <th>chemicalformula</th>\n",
       "      <th>job</th>\n",
       "      <th>subjob</th>\n",
       "      <th>projectpath</th>\n",
       "      <th>project</th>\n",
       "      <th>timestart</th>\n",
       "      <th>timestop</th>\n",
       "      <th>totalcputime</th>\n",
       "      <th>computer</th>\n",
       "      <th>hamilton</th>\n",
       "      <th>hamversion</th>\n",
       "      <th>parentid</th>\n",
       "      <th>masterid</th>\n",
       "    </tr>\n",
       "  </thead>\n",
       "  <tbody>\n",
       "    <tr>\n",
       "      <th>0</th>\n",
       "      <td>27</td>\n",
       "      <td>created</td>\n",
       "      <td>None</td>\n",
       "      <td>small_AlLi_training_container</td>\n",
       "      <td>/small_AlLi_training_container</td>\n",
       "      <td>None</td>\n",
       "      <td>/home/jovyan/potentials/potentials/03-ACE/fit_pace/</td>\n",
       "      <td>2022-06-06 19:44:39.811609</td>\n",
       "      <td>NaT</td>\n",
       "      <td>NaN</td>\n",
       "      <td>pyiron@jupyter-yury-2elysogorskiy#1</td>\n",
       "      <td>TrainingContainer</td>\n",
       "      <td>0.4</td>\n",
       "      <td>None</td>\n",
       "      <td>None</td>\n",
       "    </tr>\n",
       "    <tr>\n",
       "      <th>1</th>\n",
       "      <td>28</td>\n",
       "      <td>finished</td>\n",
       "      <td>None</td>\n",
       "      <td>pacemaker_job</td>\n",
       "      <td>/pacemaker_job</td>\n",
       "      <td>None</td>\n",
       "      <td>/home/jovyan/potentials/potentials/03-ACE/fit_pace/</td>\n",
       "      <td>2022-06-06 19:44:41.494972</td>\n",
       "      <td>2022-06-06 19:48:30.460638</td>\n",
       "      <td>228.0</td>\n",
       "      <td>pyiron@jupyter-yury-2elysogorskiy#1</td>\n",
       "      <td>Pacemaker2022</td>\n",
       "      <td>0.2</td>\n",
       "      <td>None</td>\n",
       "      <td>None</td>\n",
       "    </tr>\n",
       "  </tbody>\n",
       "</table>\n",
       "</div>"
      ],
      "text/plain": [
       "   id    status chemicalformula                            job  \\\n",
       "0  27   created            None  small_AlLi_training_container   \n",
       "1  28  finished            None                  pacemaker_job   \n",
       "\n",
       "                           subjob projectpath  \\\n",
       "0  /small_AlLi_training_container        None   \n",
       "1                  /pacemaker_job        None   \n",
       "\n",
       "                                               project  \\\n",
       "0  /home/jovyan/potentials/potentials/03-ACE/fit_pace/   \n",
       "1  /home/jovyan/potentials/potentials/03-ACE/fit_pace/   \n",
       "\n",
       "                   timestart                   timestop  totalcputime  \\\n",
       "0 2022-06-06 19:44:39.811609                        NaT           NaN   \n",
       "1 2022-06-06 19:44:41.494972 2022-06-06 19:48:30.460638         228.0   \n",
       "\n",
       "                              computer           hamilton hamversion parentid  \\\n",
       "0  pyiron@jupyter-yury-2elysogorskiy#1  TrainingContainer        0.4     None   \n",
       "1  pyiron@jupyter-yury-2elysogorskiy#1      Pacemaker2022        0.2     None   \n",
       "\n",
       "  masterid  \n",
       "0     None  \n",
       "1     None  "
      ]
     },
     "execution_count": 37,
     "metadata": {},
     "output_type": "execute_result"
    }
   ],
   "source": [
    "pr.job_table()"
   ]
  },
  {
   "cell_type": "markdown",
   "id": "d008c0ac",
   "metadata": {},
   "source": [
    "## Analyse fit"
   ]
  },
  {
   "cell_type": "markdown",
   "id": "01bd56f1",
   "metadata": {},
   "source": [
    "plot loss function"
   ]
  },
  {
   "cell_type": "code",
   "execution_count": 38,
   "id": "1640ba96",
   "metadata": {},
   "outputs": [
    {
     "data": {
      "text/plain": [
       "[]"
      ]
     },
     "execution_count": 38,
     "metadata": {},
     "output_type": "execute_result"
    },
    {
     "data": {
      "image/png": "[encoded data removed]",
      "text/plain": [
       "<Figure size 432x288 with 1 Axes>"
      ]
     },
     "metadata": {
      "needs_background": "light"
     },
     "output_type": "display_data"
    }
   ],
   "source": [
    "plt.plot(job[\"output/log/loss\"])\n",
    "plt.xlabel(\"# iter\")\n",
    "plt.ylabel(\"Loss\")\n",
    "plt.loglog()"
   ]
  },
  {
   "cell_type": "markdown",
   "id": "b5a2ae0d",
   "metadata": {},
   "source": [
    "plot energy per atom RMSE"
   ]
  },
  {
   "cell_type": "code",
   "execution_count": 39,
   "id": "25e2a558",
   "metadata": {},
   "outputs": [
    {
     "data": {
      "text/plain": [
       "[]"
      ]
     },
     "execution_count": 39,
     "metadata": {},
     "output_type": "execute_result"
    },
    {
     "data": {
      "image/png": "[encoded data removed]",
      "text/plain": [
       "<Figure size 432x288 with 1 Axes>"
      ]
     },
     "metadata": {
      "needs_background": "light"
     },
     "output_type": "display_data"
    }
   ],
   "source": [
    "plt.plot(job[\"output/log/rmse_epa\"])\n",
    "plt.xlabel(\"# iter\")\n",
    "plt.ylabel(\"RMSE E, eV/atom\")\n",
    "plt.loglog()"
   ]
  },
  {
   "cell_type": "markdown",
   "id": "9780dee9",
   "metadata": {},
   "source": [
    "plot force component RMSE"
   ]
  },
  {
   "cell_type": "code",
   "execution_count": 40,
   "id": "ddf9617c",
   "metadata": {},
   "outputs": [
    {
     "data": {
      "text/plain": [
       "[]"
      ]
     },
     "execution_count": 40,
     "metadata": {},
     "output_type": "execute_result"
    },
    {
     "data": {
      "image/png": "[encoded data removed]",
      "text/plain": [
       "<Figure size 432x288 with 1 Axes>"
      ]
     },
     "metadata": {
      "needs_background": "light"
     },
     "output_type": "display_data"
    }
   ],
   "source": [
    "plt.plot(job[\"output/log/rmse_f_comp\"])\n",
    "plt.xlabel(\"# iter\")\n",
    "plt.ylabel(\"RMSE F_i, eV/A\")\n",
    "plt.loglog()"
   ]
  },
  {
   "cell_type": "code",
   "execution_count": null,
   "id": "f09f50f6",
   "metadata": {},
   "outputs": [],
   "source": []
  },
  {
   "cell_type": "markdown",
   "id": "3c3f336b",
   "metadata": {},
   "source": [
    "load DataFrame with predictions"
   ]
  },
  {
   "cell_type": "code",
   "execution_count": 41,
   "id": "52105a3b",
   "metadata": {},
   "outputs": [],
   "source": [
    "ref_df = job.training_data"
   ]
  },
  {
   "cell_type": "code",
   "execution_count": 42,
   "id": "0acc3ed8",
   "metadata": {},
   "outputs": [],
   "source": [
    "pred_df = job.predicted_data"
   ]
  },
  {
   "cell_type": "code",
   "execution_count": 43,
   "id": "0456dfe6",
   "metadata": {},
   "outputs": [
    {
     "data": {
      "text/plain": [
       "Text(0, 0.5, 'ACE E, eV/atom')"
      ]
     },
     "execution_count": 43,
     "metadata": {},
     "output_type": "execute_result"
    },
    {
     "data": {
      "image/png": "[encoded data removed]",
      "text/plain": [
       "<Figure size 432x288 with 1 Axes>"
      ]
     },
     "metadata": {
      "needs_background": "light"
     },
     "output_type": "display_data"
    }
   ],
   "source": [
    "plt.scatter(pred_df[\"energy_per_atom_true\"],pred_df[\"energy_per_atom\"])\n",
    "plt.xlabel(\"DFT E, eV/atom\")\n",
    "plt.ylabel(\"ACE E, eV/atom\")"
   ]
  },
  {
   "cell_type": "code",
   "execution_count": 44,
   "id": "07e559d1",
   "metadata": {},
   "outputs": [
    {
     "data": {
      "text/plain": [
       "Text(0, 0.5, 'ACE F_i, eV/A')"
      ]
     },
     "execution_count": 44,
     "metadata": {},
     "output_type": "execute_result"
    },
    {
     "data": {
      "image/png": "[encoded data removed]",
      "text/plain": [
       "<Figure size 432x288 with 1 Axes>"
      ]
     },
     "metadata": {
      "needs_background": "light"
     },
     "output_type": "display_data"
    }
   ],
   "source": [
    "plt.scatter(ref_df[\"forces\"],pred_df[\"forces\"])\n",
    "plt.xlabel(\"DFT F_i, eV/A\")\n",
    "plt.ylabel(\"ACE F_i, eV/A\")"
   ]
  },
  {
   "cell_type": "code",
   "execution_count": null,
   "id": "0b1d6786",
   "metadata": {},
   "outputs": [],
   "source": []
  },
  {
   "cell_type": "markdown",
   "id": "3164cfc1",
   "metadata": {},
   "source": [
    "Check more in `job.working_directory`/report folder"
   ]
  },
  {
   "cell_type": "code",
   "execution_count": 45,
   "id": "401df03b",
   "metadata": {},
   "outputs": [
    {
     "name": "stdout",
     "output_type": "stream",
     "text": [
      "train_E-dE-dist.png  train_EF-pairplots.png  train_Fi-dFi-dist.png\n",
      "train_E-dE-nn.png    train_F-dF-dist.png\n"
     ]
    }
   ],
   "source": [
    "! ls {job.working_directory}/report"
   ]
  },
  {
   "cell_type": "markdown",
   "id": "aa8476e7",
   "metadata": {},
   "source": [
    "## How actual potential file looks like ?"
   ]
  },
  {
   "cell_type": "markdown",
   "id": "cd8f5733",
   "metadata": {},
   "source": [
    "`output_potential.yaml`:\n",
    "\n",
    "```yaml\n",
    "species:\n",
    "    # Pure Al interaction block\n",
    "  - speciesblock: Al\n",
    "    radbase: SBessel\n",
    "    radcoefficients: [[[1.995274603767268, -1.1940566258712266,...]]]\n",
    "  \n",
    "    nbody:\n",
    "      # first order/ two-body functions = pair functions\n",
    "      - {type: Al Al, nr: [1], nl: [0], c: [2.0970219095074687, -3.9539202281610351]}\n",
    "      - {type: Al Al, nr: [2], nl: [0], c: [-1.8968648691718397, -2.3146574133175974]}\n",
    "      - {type: Al Al, nr: [3], nl: [0], c: [1.3504952496800906, 1.5291190439028692]}\n",
    "      - {type: Al Al, nr: [4], nl: [0], c: [0.040517989827027742, 0.11933504671036224]}\n",
    "      ...\n",
    "      # second order/ three-body functions \n",
    "      - {type: Al Al Al, nr: [1, 1], nl: [0, 0], c: [0.57788490809100468, -1.8642896163994958]}\n",
    "      - {type: Al Al Al, nr: [1, 1], nl: [1, 1], c: [-1.0126646532267587, -1.2336078784112348]}\n",
    "      - {type: Al Al Al, nr: [1, 1], nl: [2, 2], c: [-0.19324470046809467, 0.63954472122968498]}\n",
    "      - {type: Al Al Al, nr: [1, 1], nl: [3, 3], c: [-0.22018334529075642, 0.32822679746839439]}\n",
    "      ...\n",
    "      # fifth order/ six-body functions \n",
    "      - {type: Al Al Al Al Al Al, nr: [1, 1, 1, 1, 1], nl: [0, 0, 0, 0, 0], lint: [0, 0, 0], c: [-0.71...]}\n",
    "  \n",
    "  \n",
    "  # binary Al-Li interaction block    \n",
    "  - speciesblock: Al Li      \n",
    "     ...\n",
    "     nbody:\n",
    "      - {type: Al Li, nr: [1], nl: [0], c: [0.91843424537280882, -2.4170371138562308]}\n",
    "      - {type: Al Li, nr: [2], nl: [0], c: [-0.88380210517336399, -0.97055273167339651]}\n",
    "      ...\n",
    "      - {type: Al Al Al Li Li, nr: [1, 1, 1, 1], nl: [1, 1, 0, 0], lint: [0, 0], c: [-0.0050,...]}\n",
    "      ...\n",
    "  # Pure Li interaction block      \n",
    "  - speciesblock: Li\n",
    "      nbody:\n",
    "       ...\n",
    "       - {type: Li Li Li, nr: [4, 4], nl: [3, 3], c: [-0.0059111333449957159, 0.035]}\n",
    "       - {type: Li Li Li Li, nr: [1, 1, 1], nl: [0, 0, 0], lint: [0], c: [0.210,...]}\n",
    "       ...\n",
    "  # binary Al-Li interaction block    \n",
    "  - speciesblock: Li Al\n",
    "      nbody:\n",
    "       ...\n",
    "       - {type: Li Al Al, nr: [4, 4], nl: [3, 3], c: [0.014680736321211739, -0.030618474343919122]}\n",
    "       - {type: Li Al Li, nr: [1, 1], nl: [0, 0], c: [-0.22827705573988896, 0.28367909613209036]}\n",
    "       ...\n",
    "  \n",
    "```"
   ]
  },
  {
   "cell_type": "markdown",
   "id": "13e2ebaf",
   "metadata": {},
   "source": [
    "`output_potential.yaml` is in B-basis form. For efficient LAMMPS implementaion it should be converted to so-called `C-tilde` form.  This is already done by `pyiron`, but it could be also done manually by `pace_yaml2yace` utility. Check [here](https://pacemaker.readthedocs.io/en/latest/pacemaker/quickstart/#lammps) for more details"
   ]
  },
  {
   "cell_type": "markdown",
   "id": "2bdf791a",
   "metadata": {},
   "source": [
    "## Get LAMMPS potential and try some calculations"
   ]
  },
  {
   "cell_type": "code",
   "execution_count": 46,
   "id": "c229794b",
   "metadata": {},
   "outputs": [
    {
     "data": {
      "text/html": [
       "<div>\n",
       "<style scoped>\n",
       "    .dataframe tbody tr th:only-of-type {\n",
       "        vertical-align: middle;\n",
       "    }\n",
       "\n",
       "    .dataframe tbody tr th {\n",
       "        vertical-align: top;\n",
       "    }\n",
       "\n",
       "    .dataframe thead th {\n",
       "        text-align: right;\n",
       "    }\n",
       "</style>\n",
       "<table border=\"1\" class=\"dataframe\">\n",
       "  <thead>\n",
       "    <tr style=\"text-align: right;\">\n",
       "      <th></th>\n",
       "      <th>Config</th>\n",
       "      <th>Filename</th>\n",
       "      <th>Model</th>\n",
       "      <th>Name</th>\n",
       "      <th>Species</th>\n",
       "    </tr>\n",
       "  </thead>\n",
       "  <tbody>\n",
       "    <tr>\n",
       "      <th>0</th>\n",
       "      <td>[pair_style pace\\n, pair_coeff  * * /home/jovyan/potentials/potentials/03-ACE/fit_pace/pacemaker_job_hdf5/pacemaker_job/output_potential.yace Al Li\\n]</td>\n",
       "      <td></td>\n",
       "      <td>ACE</td>\n",
       "      <td>pacemaker_job</td>\n",
       "      <td>[Al, Li]</td>\n",
       "    </tr>\n",
       "  </tbody>\n",
       "</table>\n",
       "</div>"
      ],
      "text/plain": [
       "                                                                                                                                                   Config  \\\n",
       "0  [pair_style pace\\n, pair_coeff  * * /home/jovyan/potentials/potentials/03-ACE/fit_pace/pacemaker_job_hdf5/pacemaker_job/output_potential.yace Al Li\\n]   \n",
       "\n",
       "  Filename Model           Name   Species  \n",
       "0            ACE  pacemaker_job  [Al, Li]  "
      ]
     },
     "execution_count": 46,
     "metadata": {},
     "output_type": "execute_result"
    }
   ],
   "source": [
    "pace_lammps_potential = job.get_lammps_potential()\n",
    "pace_lammps_potential"
   ]
  },
  {
   "cell_type": "code",
   "execution_count": 47,
   "id": "7d6534da",
   "metadata": {},
   "outputs": [],
   "source": [
    "lammps_job = pr.create.job.Lammps(\"pace_lammps\", delete_existing_job=True)"
   ]
  },
  {
   "cell_type": "code",
   "execution_count": 48,
   "id": "658e357f-fb4c-4c5b-97d3-05e722393d92",
   "metadata": {},
   "outputs": [],
   "source": [
    "lammps_job.structure=pr.create.structure.bulk(\"Al\", cubic=True)"
   ]
  },
  {
   "cell_type": "code",
   "execution_count": 49,
   "id": "d3c13d84-05bd-421c-9f70-55df301c1c7a",
   "metadata": {},
   "outputs": [],
   "source": [
    "lammps_job.structure[0]='Li'"
   ]
  },
  {
   "cell_type": "code",
   "execution_count": 51,
   "id": "901e84bb-795b-4c75-b432-4e289b50170f",
   "metadata": {},
   "outputs": [],
   "source": [
    "lammps_job.potential=pace_lammps_potential"
   ]
  },
  {
   "cell_type": "code",
   "execution_count": null,
   "id": "a56cdf1d-fd7d-4fff-9df7-5cac3f3a4dbd",
   "metadata": {},
   "outputs": [],
   "source": []
  },
  {
   "cell_type": "code",
   "execution_count": 52,
   "id": "61f77a11-a808-4a3f-835c-0a76dd3100e8",
   "metadata": {},
   "outputs": [],
   "source": [
    "murn=pr.create.job.Murnaghan(\"LiAl_murn\")"
   ]
  },
  {
   "cell_type": "code",
   "execution_count": 53,
   "id": "923fbb50-8aaa-4d63-8db7-366a2ce2acbc",
   "metadata": {},
   "outputs": [],
   "source": [
    "murn.ref_job = lammps_job"
   ]
  },
  {
   "cell_type": "code",
   "execution_count": null,
   "id": "c12569c0-661a-41dd-9b38-3fae5240d331",
   "metadata": {
    "tags": []
   },
   "outputs": [],
   "source": [
    "murn.run()"
   ]
  },
  {
   "cell_type": "code",
   "execution_count": 55,
   "id": "cfbc8c17-c69b-4eb1-86ef-e855a72ee270",
   "metadata": {},
   "outputs": [
    {
     "data": {
      "image/png": "[encoded data removed]",
      "text/plain": [
       "<Figure size 432x288 with 1 Axes>"
      ]
     },
     "metadata": {
      "needs_background": "light"
     },
     "output_type": "display_data"
    },
    {
     "data": {
      "text/plain": [
       "<AxesSubplot:title={'center':'Murnaghan: error: 8.23855112865347e-06'}, xlabel='Volume ($\\\\AA^3$)', ylabel='energy (eV)'>"
      ]
     },
     "execution_count": 55,
     "metadata": {},
     "output_type": "execute_result"
    }
   ],
   "source": [
    "murn.plot()"
   ]
  },
  {
   "cell_type": "code",
   "execution_count": null,
   "id": "5b38ac8a-8a75-465b-b4e7-fbed142e7209",
   "metadata": {},
   "outputs": [],
   "source": []
  },
  {
   "cell_type": "markdown",
   "id": "75cb5206-c497-401c-b2f2-74436e219784",
   "metadata": {},
   "source": [
    "## Further reading"
   ]
  },
  {
   "cell_type": "markdown",
   "id": "b5c498c2-c6fd-4f9b-bd12-0dfd6381c085",
   "metadata": {},
   "source": [
    "Please read sources for more details:\n",
    "* [Documentation](https://pacemaker.readthedocs.io/en/latest/)\n",
    "* [`pacemaker` repository](https://github.com/ICAMS/python-ace)\n",
    "* [Bochkarev, A., Lysogorskiy, Y., Menon, S., Qamar, M., Mrovec, M. and Drautz, R. Efficient parametrization of the atomic cluster expansion. Physical Review Materials 6(1) 013804 (2022)](https://journals.aps.org/prmaterials/abstract/10.1103/PhysRevMaterials.6.013804)\n",
    "* [Lysogorskiy, Y., Oord, C. v. d., Bochkarev, A., Menon, S., Rinaldi, M., Hammerschmidt, T., Mrovec, M., Thompson, A., Csányi, G., Ortner, C. and  Drautz, R. Performant implementation of the atomic cluster expansion (PACE) and application to copper and silicon. npj Computational Materials 7(1), 1-12 (2021)](https://www.nature.com/articles/s41524-021-00559-9)\n",
    "* [Drautz, R. Atomic cluster expansion for accurate and transferable interatomic potentials. Physical Review B, 99(1), 014104 (2019)](https://journals.aps.org/prb/abstract/10.1103/PhysRevB.99.014104)\n",
    "\n"
   ]
  },
  {
   "cell_type": "code",
   "execution_count": null,
   "id": "2bb9e3a3-7807-42f5-a6b4-2ec9b11ff4c0",
   "metadata": {},
   "outputs": [],
   "source": []
  }
 ],
 "metadata": {
  "kernelspec": {
   "display_name": "Python 3",
   "language": "python",
   "name": "python3"
  },
  "language_info": {
   "codemirror_mode": {
    "name": "ipython",
    "version": 3
   },
   "file_extension": ".py",
   "mimetype": "text/x-python",
   "name": "python",
   "nbconvert_exporter": "python",
   "pygments_lexer": "ipython3",
   "version": "3.8.5"
  }
 },
 "nbformat": 4,
 "nbformat_minor": 5
}
