{
 "cells": [
  {
   "cell_type": "markdown",
   "id": "5aff46ca-c14d-498b-9a22-c108a3254d9e",
   "metadata": {},
   "source": [
    "# Creating training data"
   ]
  },
  {
   "cell_type": "code",
   "execution_count": 7,
   "id": "de10dfca-5676-414e-a7d7-1dd8ce9e9cb1",
   "metadata": {},
   "outputs": [],
   "source": [
    "import numpy as np\n",
    "%matplotlib inline\n",
    "import matplotlib.pylab as plt\n",
    "import os\n",
    "\n",
    "from pyiron import Project"
   ]
  },
  {
   "cell_type": "markdown",
   "id": "d31d24f0-0591-46c1-9f12-10c8a91095d5",
   "metadata": {},
   "source": [
    "Start a project"
   ]
  },
  {
   "cell_type": "code",
   "execution_count": 2,
   "id": "2d5e874e-5e2c-41a1-9531-2b4c5ee934e8",
   "metadata": {},
   "outputs": [],
   "source": [
    "pr = Project(\"creating_datasets\")"
   ]
  },
  {
   "cell_type": "markdown",
   "id": "744b7307-8fd6-4b39-ad2b-93cf1a2bc93f",
   "metadata": {},
   "source": [
    "## Creating a structure \"container\" from the data\n",
    "\n",
    "We now go over the jobs generated in the first notebook to store structures, energies, and forces into a structure container which will later be used for potential fitting\n",
    "\n",
    "**Note**: Usually these datasets are created using highly accurate DFT calculations. But for practical reasons, we only demonstrate how to do this using data from LAMMPS calculations (the workflow remain the same)"
   ]
  },
  {
   "cell_type": "code",
   "execution_count": 4,
   "id": "a779cf14-3960-484b-b495-a1b78fa073fd",
   "metadata": {},
   "outputs": [],
   "source": [
    "pr_fs = pr[\"../first_steps\"]"
   ]
  },
  {
   "cell_type": "markdown",
   "id": "d3c9dcbc-02fb-427f-8d1f-897e62511177",
   "metadata": {},
   "source": [
    "Create a TrainingContainer job (to store structures and databases)."
   ]
  },
  {
   "cell_type": "code",
   "execution_count": 4,
   "id": "8194a686-2c97-427a-8ebd-b41f382bd437",
   "metadata": {},
   "outputs": [],
   "source": [
    "container = pr.create.job.TrainingContainer('dataset_example')"
   ]
  },
  {
   "cell_type": "markdown",
   "id": "37cfbd9e-d63a-45e3-87cc-8fe1cce44aab",
   "metadata": {},
   "source": [
    "## Add structures from the E-V curves\n",
    "\n",
    "For starters, we append structures from the energy volume curves we calculated earlier"
   ]
  },
  {
   "cell_type": "code",
   "execution_count": 6,
   "id": "df5ef036-4fbe-43ff-a119-0ab9d881d13c",
   "metadata": {},
   "outputs": [
    {
     "data": {
      "application/vnd.jupyter.widget-view+json": {
       "model_id": "b1848ff9b9ae4cad9b8c0bb14ce6a858",
       "version_major": 2,
       "version_minor": 0
      },
      "text/plain": [
       "  0%|          | 0/7 [00:00<?, ?it/s]"
      ]
     },
     "metadata": {},
     "output_type": "display_data"
    }
   ],
   "source": [
    "for job in pr_fs[\"E_V_curve\"].iter_jobs(status=\"finished\"):\n",
    "    container.include_job(job)"
   ]
  },
  {
   "cell_type": "markdown",
   "id": "a1a480c1-67c7-43e9-842a-595c86613de1",
   "metadata": {},
   "source": [
    "We can obtain this data as a `pandas` table"
   ]
  },
  {
   "cell_type": "code",
   "execution_count": 7,
   "id": "ab46929e-4c6c-4b5d-b43a-8a5fadbc7bde",
   "metadata": {},
   "outputs": [
    {
     "data": {
      "text/html": [
       "<div>\n",
       "<style scoped>\n",
       "    .dataframe tbody tr th:only-of-type {\n",
       "        vertical-align: middle;\n",
       "    }\n",
       "\n",
       "    .dataframe tbody tr th {\n",
       "        vertical-align: top;\n",
       "    }\n",
       "\n",
       "    .dataframe thead th {\n",
       "        text-align: right;\n",
       "    }\n",
       "</style>\n",
       "<table border=\"1\" class=\"dataframe\">\n",
       "  <thead>\n",
       "    <tr style=\"text-align: right;\">\n",
       "      <th></th>\n",
       "      <th>name</th>\n",
       "      <th>atoms</th>\n",
       "      <th>energy</th>\n",
       "      <th>forces</th>\n",
       "      <th>stress</th>\n",
       "      <th>number_of_atoms</th>\n",
       "    </tr>\n",
       "  </thead>\n",
       "  <tbody>\n",
       "    <tr>\n",
       "      <th>0</th>\n",
       "      <td>job_a_3_8</td>\n",
       "      <td>[element: [None, AtomicNumber                       13\\nAtomicRadius                    118.0\\nAtomicMass                  26.981539\\nColor                          Silver\\nCovalentRadius         ...</td>\n",
       "      <td>-3.192897</td>\n",
       "      <td>[[1.6276043110675176e-16, 1.0529105848988851e-16, 5.1718187378489473e-17]]</td>\n",
       "      <td>[25.037460606087844, 25.03746060546885, 25.03746060312137, 1.2058153515681625e-10, -5.4886913858354095e-11, 5.489273462444544e-11]</td>\n",
       "      <td>1</td>\n",
       "    </tr>\n",
       "    <tr>\n",
       "      <th>1</th>\n",
       "      <td>job_a_3_9</td>\n",
       "      <td>[element: [None, AtomicNumber                       13\\nAtomicRadius                    118.0\\nAtomicMass                  26.981539\\nColor                          Silver\\nCovalentRadius         ...</td>\n",
       "      <td>-3.319542</td>\n",
       "      <td>[[7.639186604470375e-18, 1.2897999183801789e-17, 6.560662375038692e-17]]</td>\n",
       "      <td>[11.783580963401858, 11.783580963641624, 11.783580962525912, -9.081682946998626e-10, -5.281239282339811e-10, 5.281079211272299e-10]</td>\n",
       "      <td>1</td>\n",
       "    </tr>\n",
       "    <tr>\n",
       "      <th>2</th>\n",
       "      <td>job_a_4_0</td>\n",
       "      <td>[element: [None, AtomicNumber                       13\\nAtomicRadius                    118.0\\nAtomicMass                  26.981539\\nColor                          Silver\\nCovalentRadius         ...</td>\n",
       "      <td>-3.367063</td>\n",
       "      <td>[[-3.5024524628727396e-17, -1.320930466294525e-17, 5.849496262865057e-18]]</td>\n",
       "      <td>[2.177486595771194, 2.1774865945028847, 2.1774865945028834, -1.07506321000983e-09, 1.2040691217407586e-09, 7.657961759832688e-10]</td>\n",
       "      <td>1</td>\n",
       "    </tr>\n",
       "    <tr>\n",
       "      <th>3</th>\n",
       "      <td>job_a_4_1</td>\n",
       "      <td>[element: [None, AtomicNumber                       13\\nAtomicRadius                    118.0\\nAtomicMass                  26.981539\\nColor                          Silver\\nCovalentRadius         ...</td>\n",
       "      <td>-3.360600</td>\n",
       "      <td>[[-2.237762269513316e-17, -4.0689075283847526e-17, 2.1062919550300275e-17]]</td>\n",
       "      <td>[-3.3265634524504444, -3.3265634530820014, -3.3265634530820085, -6.528356607304887e-10, 1.6521880752407014e-12, 6.566095180460252e-10]</td>\n",
       "      <td>1</td>\n",
       "    </tr>\n",
       "    <tr>\n",
       "      <th>4</th>\n",
       "      <td>job_a_4_2</td>\n",
       "      <td>[element: [None, AtomicNumber                       13\\nAtomicRadius                    118.0\\nAtomicMass                  26.981539\\nColor                          Silver\\nCovalentRadius         ...</td>\n",
       "      <td>-3.317017</td>\n",
       "      <td>[[2.140556230444804e-17, 9.465137265930533e-17, -1.6146749725116617e-17]]</td>\n",
       "      <td>[-7.344005402848352, -7.344005402593722, -7.344005404806233, -4.6368149924092e-10, -7.669372280361131e-10, 7.669350452488288e-10]</td>\n",
       "      <td>1</td>\n",
       "    </tr>\n",
       "    <tr>\n",
       "      <th>5</th>\n",
       "      <td>job_a_4_3</td>\n",
       "      <td>[element: [None, AtomicNumber                       13\\nAtomicRadius                    118.0\\nAtomicMass                  26.981539\\nColor                          Silver\\nCovalentRadius         ...</td>\n",
       "      <td>-3.241535</td>\n",
       "      <td>[[-5.0018187940959333e-17, -7.753256254350387e-17, -7.947668332487412e-17]]</td>\n",
       "      <td>[-10.206225126673713, -10.206225127480902, -10.2062251274809, -6.120026228018106e-11, 5.826092092320323e-10, 7.850612746551634e-11]</td>\n",
       "      <td>1</td>\n",
       "    </tr>\n",
       "    <tr>\n",
       "      <th>6</th>\n",
       "      <td>job_a_4_4</td>\n",
       "      <td>[element: [None, AtomicNumber                       13\\nAtomicRadius                    118.0\\nAtomicMass                  26.981539\\nColor                          Silver\\nCovalentRadius         ...</td>\n",
       "      <td>-3.145751</td>\n",
       "      <td>[[-7.31320096256601e-17, 2.773206044106321e-16, -1.2031135854225408e-16]]</td>\n",
       "      <td>[-11.04382992252993, -11.043829922467113, -11.043829922415048, -1.632215571589768e-11, 6.058689905330539e-12, -6.060145096853376e-12]</td>\n",
       "      <td>1</td>\n",
       "    </tr>\n",
       "  </tbody>\n",
       "</table>\n",
       "</div>"
      ],
      "text/plain": [
       "        name  \\\n",
       "0  job_a_3_8   \n",
       "1  job_a_3_9   \n",
       "2  job_a_4_0   \n",
       "3  job_a_4_1   \n",
       "4  job_a_4_2   \n",
       "5  job_a_4_3   \n",
       "6  job_a_4_4   \n",
       "\n",
       "                                                                                                                                                                                                     atoms  \\\n",
       "0  [element: [None, AtomicNumber                       13\\nAtomicRadius                    118.0\\nAtomicMass                  26.981539\\nColor                          Silver\\nCovalentRadius         ...   \n",
       "1  [element: [None, AtomicNumber                       13\\nAtomicRadius                    118.0\\nAtomicMass                  26.981539\\nColor                          Silver\\nCovalentRadius         ...   \n",
       "2  [element: [None, AtomicNumber                       13\\nAtomicRadius                    118.0\\nAtomicMass                  26.981539\\nColor                          Silver\\nCovalentRadius         ...   \n",
       "3  [element: [None, AtomicNumber                       13\\nAtomicRadius                    118.0\\nAtomicMass                  26.981539\\nColor                          Silver\\nCovalentRadius         ...   \n",
       "4  [element: [None, AtomicNumber                       13\\nAtomicRadius                    118.0\\nAtomicMass                  26.981539\\nColor                          Silver\\nCovalentRadius         ...   \n",
       "5  [element: [None, AtomicNumber                       13\\nAtomicRadius                    118.0\\nAtomicMass                  26.981539\\nColor                          Silver\\nCovalentRadius         ...   \n",
       "6  [element: [None, AtomicNumber                       13\\nAtomicRadius                    118.0\\nAtomicMass                  26.981539\\nColor                          Silver\\nCovalentRadius         ...   \n",
       "\n",
       "     energy  \\\n",
       "0 -3.192897   \n",
       "1 -3.319542   \n",
       "2 -3.367063   \n",
       "3 -3.360600   \n",
       "4 -3.317017   \n",
       "5 -3.241535   \n",
       "6 -3.145751   \n",
       "\n",
       "                                                                        forces  \\\n",
       "0   [[1.6276043110675176e-16, 1.0529105848988851e-16, 5.1718187378489473e-17]]   \n",
       "1     [[7.639186604470375e-18, 1.2897999183801789e-17, 6.560662375038692e-17]]   \n",
       "2   [[-3.5024524628727396e-17, -1.320930466294525e-17, 5.849496262865057e-18]]   \n",
       "3  [[-2.237762269513316e-17, -4.0689075283847526e-17, 2.1062919550300275e-17]]   \n",
       "4    [[2.140556230444804e-17, 9.465137265930533e-17, -1.6146749725116617e-17]]   \n",
       "5  [[-5.0018187940959333e-17, -7.753256254350387e-17, -7.947668332487412e-17]]   \n",
       "6    [[-7.31320096256601e-17, 2.773206044106321e-16, -1.2031135854225408e-16]]   \n",
       "\n",
       "                                                                                                                                   stress  \\\n",
       "0      [25.037460606087844, 25.03746060546885, 25.03746060312137, 1.2058153515681625e-10, -5.4886913858354095e-11, 5.489273462444544e-11]   \n",
       "1     [11.783580963401858, 11.783580963641624, 11.783580962525912, -9.081682946998626e-10, -5.281239282339811e-10, 5.281079211272299e-10]   \n",
       "2       [2.177486595771194, 2.1774865945028847, 2.1774865945028834, -1.07506321000983e-09, 1.2040691217407586e-09, 7.657961759832688e-10]   \n",
       "3  [-3.3265634524504444, -3.3265634530820014, -3.3265634530820085, -6.528356607304887e-10, 1.6521880752407014e-12, 6.566095180460252e-10]   \n",
       "4       [-7.344005402848352, -7.344005402593722, -7.344005404806233, -4.6368149924092e-10, -7.669372280361131e-10, 7.669350452488288e-10]   \n",
       "5     [-10.206225126673713, -10.206225127480902, -10.2062251274809, -6.120026228018106e-11, 5.826092092320323e-10, 7.850612746551634e-11]   \n",
       "6   [-11.04382992252993, -11.043829922467113, -11.043829922415048, -1.632215571589768e-11, 6.058689905330539e-12, -6.060145096853376e-12]   \n",
       "\n",
       "   number_of_atoms  \n",
       "0                1  \n",
       "1                1  \n",
       "2                1  \n",
       "3                1  \n",
       "4                1  \n",
       "5                1  \n",
       "6                1  "
      ]
     },
     "execution_count": 7,
     "metadata": {},
     "output_type": "execute_result"
    }
   ],
   "source": [
    "container.to_pandas()"
   ]
  },
  {
   "cell_type": "markdown",
   "id": "31c91994-436c-4dbf-8b6b-8db667f683ea",
   "metadata": {},
   "source": [
    "## Add structures from the MD\n",
    "\n",
    "We also add some structures obtained from the MD simulations"
   ]
  },
  {
   "cell_type": "markdown",
   "id": "ad142c0e-340c-4078-bdc2-389f9433dce4",
   "metadata": {},
   "source": [
    "Reloading the MD job.  Indexing a project loads jobs within."
   ]
  },
  {
   "cell_type": "code",
   "execution_count": 8,
   "id": "0e296282-7ed2-4b38-bf7e-9fcbb5267bac",
   "metadata": {},
   "outputs": [],
   "source": [
    "job_md = pr_fs[\"lammps_job\"]"
   ]
  },
  {
   "cell_type": "markdown",
   "id": "02b0b11d-adc8-472e-9f05-198ba0593057",
   "metadata": {},
   "source": [
    "We can now iterate over the structures within and add each of them to the container."
   ]
  },
  {
   "cell_type": "code",
   "execution_count": 9,
   "id": "b22185a0-2b8c-4715-8717-78ff106f3cea",
   "metadata": {},
   "outputs": [],
   "source": [
    "traj_length = job_md.number_of_structures\n",
    "stride = 10"
   ]
  },
  {
   "cell_type": "markdown",
   "id": "92672330-38d1-46ca-8cd8-e768b124d865",
   "metadata": {},
   "source": [
    "By default include_job will fetch the last computation step from the given job\n",
    "for other steps you have to explicitly pass which step you want."
   ]
  },
  {
   "cell_type": "code",
   "execution_count": 10,
   "id": "8348be16-49b1-4f30-93c9-430611fab3fd",
   "metadata": {},
   "outputs": [],
   "source": [
    "for i in range(0, traj_length, stride):\n",
    "    container.include_job(job_md, iteration_step=i)"
   ]
  },
  {
   "cell_type": "markdown",
   "id": "05f52d41-a735-4296-8bca-ec31234ec068",
   "metadata": {},
   "source": [
    "## Add some defect structures (vacancies, surfaces, etc)\n",
    "\n",
    "It's necessary to also include some defect structures, and surfaces to the training dataset.\n",
    "\n",
    "Setup a MD calculation for a structure with a vacancy."
   ]
  },
  {
   "cell_type": "code",
   "execution_count": 11,
   "id": "00b4be1e-c558-4e98-bea4-f719761152a4",
   "metadata": {},
   "outputs": [],
   "source": [
    "job_lammps = pr.create.job.Lammps(\"lammps_job_vac\")\n",
    "job_lammps.structure = pr.create.structure.bulk(\"Al\", cubic=True, a=3.61).repeat([3, 3, 3])"
   ]
  },
  {
   "cell_type": "markdown",
   "id": "a5bf1285-ec4f-4808-a4d7-b562eece410d",
   "metadata": {},
   "source": [
    "remove the first atom of the structure to create the vacancy"
   ]
  },
  {
   "cell_type": "code",
   "execution_count": 12,
   "id": "a79297df-9653-42df-8f2b-8df842ee1007",
   "metadata": {},
   "outputs": [
    {
     "name": "stdout",
     "output_type": "stream",
     "text": [
      "The job lammps_job_vac was saved and received the ID: 94\n"
     ]
    }
   ],
   "source": [
    "del job_lammps.structure[0]\n",
    "job_lammps.potential = \"2005--Mendelev-M-I--Al-Fe--LAMMPS--ipr1\"\n",
    "job_lammps.calc_md(temperature=800, pressure=0, n_ionic_steps=10000)\n",
    "job_lammps.run()"
   ]
  },
  {
   "cell_type": "markdown",
   "id": "2332420d-bed5-4233-aec3-f15f98efd845",
   "metadata": {},
   "source": [
    "Setup a MD calculation for a surface structure"
   ]
  },
  {
   "cell_type": "code",
   "execution_count": 13,
   "id": "7ef9e189-e2e0-4ab9-8e72-19eeeabaf510",
   "metadata": {},
   "outputs": [
    {
     "name": "stdout",
     "output_type": "stream",
     "text": [
      "The job lammps_job_surf was saved and received the ID: 95\n"
     ]
    }
   ],
   "source": [
    "job_lammps = pr.create.job.Lammps(\"lammps_job_surf\")\n",
    "job_lammps.structure = pr.create.structure.surface(\"Al\", surface_type=\"fcc111\", size=(4, 4, 8), vacuum=12, orthogonal=True)\n",
    "job_lammps.potential = \"2005--Mendelev-M-I--Al-Fe--LAMMPS--ipr1\"\n",
    "job_lammps.calc_md(temperature=800, pressure=0, n_ionic_steps=10000)\n",
    "job_lammps.run()"
   ]
  },
  {
   "cell_type": "code",
   "execution_count": 14,
   "id": "ee009a2c-95af-4e56-a564-5279d3899f19",
   "metadata": {},
   "outputs": [
    {
     "data": {
      "text/plain": [
       "{'groups': [], 'nodes': ['lammps_job_vac', 'lammps_job_surf']}"
      ]
     },
     "execution_count": 14,
     "metadata": {},
     "output_type": "execute_result"
    }
   ],
   "source": [
    "pr"
   ]
  },
  {
   "cell_type": "markdown",
   "id": "12a7cfa7-cbb8-43f0-9960-e3e3f72d0060",
   "metadata": {},
   "source": [
    "We now add these structures to the dataset like we did before."
   ]
  },
  {
   "cell_type": "code",
   "execution_count": 15,
   "id": "d35f2d1a-d36c-4546-9313-5fe28965e1a7",
   "metadata": {},
   "outputs": [
    {
     "data": {
      "application/vnd.jupyter.widget-view+json": {
       "model_id": "31bc8ca78c8342b99dd8870a3d673da9",
       "version_major": 2,
       "version_minor": 0
      },
      "text/plain": [
       "  0%|          | 0/2 [00:00<?, ?it/s]"
      ]
     },
     "metadata": {},
     "output_type": "display_data"
    }
   ],
   "source": [
    "for job_md in pr.iter_jobs(status=\"finished\", hamilton=\"Lammps\"):\n",
    "    stride = 10\n",
    "    for i in range(0, job.number_of_structures, stride):\n",
    "        container.include_job(job_md, iteration_step=i)"
   ]
  },
  {
   "cell_type": "markdown",
   "id": "22a3c3bb-a8d6-4dd1-a6e3-68c7a75c5603",
   "metadata": {},
   "source": [
    "We run the job to store this dataset in the pyiron database.  Without running the training container \"job\" the data will **not** saved!"
   ]
  },
  {
   "cell_type": "code",
   "execution_count": 16,
   "id": "a94b2bcd-9003-4d8b-871c-939bd0282361",
   "metadata": {},
   "outputs": [
    {
     "name": "stdout",
     "output_type": "stream",
     "text": [
      "The job dataset_example was saved and received the ID: 96\n"
     ]
    }
   ],
   "source": [
    "container.run()"
   ]
  },
  {
   "cell_type": "code",
   "execution_count": 17,
   "id": "3fc195f1-e6d5-4525-b448-edc62259aced",
   "metadata": {},
   "outputs": [
    {
     "data": {
      "text/html": [
       "<div>\n",
       "<style scoped>\n",
       "    .dataframe tbody tr th:only-of-type {\n",
       "        vertical-align: middle;\n",
       "    }\n",
       "\n",
       "    .dataframe tbody tr th {\n",
       "        vertical-align: top;\n",
       "    }\n",
       "\n",
       "    .dataframe thead th {\n",
       "        text-align: right;\n",
       "    }\n",
       "</style>\n",
       "<table border=\"1\" class=\"dataframe\">\n",
       "  <thead>\n",
       "    <tr style=\"text-align: right;\">\n",
       "      <th></th>\n",
       "      <th>id</th>\n",
       "      <th>status</th>\n",
       "      <th>chemicalformula</th>\n",
       "      <th>job</th>\n",
       "      <th>subjob</th>\n",
       "      <th>projectpath</th>\n",
       "      <th>project</th>\n",
       "      <th>timestart</th>\n",
       "      <th>timestop</th>\n",
       "      <th>totalcputime</th>\n",
       "      <th>computer</th>\n",
       "      <th>hamilton</th>\n",
       "      <th>hamversion</th>\n",
       "      <th>parentid</th>\n",
       "      <th>masterid</th>\n",
       "    </tr>\n",
       "  </thead>\n",
       "  <tbody>\n",
       "    <tr>\n",
       "      <th>0</th>\n",
       "      <td>94</td>\n",
       "      <td>finished</td>\n",
       "      <td>Al107</td>\n",
       "      <td>lammps_job_vac</td>\n",
       "      <td>/lammps_job_vac</td>\n",
       "      <td>/home/jovyan/</td>\n",
       "      <td>potentials/introduction/creating_datasets/</td>\n",
       "      <td>2022-06-07 16:37:46.720756</td>\n",
       "      <td>2022-06-07 16:37:49.823856</td>\n",
       "      <td>3.0</td>\n",
       "      <td>pyiron@jupyter-m-2epoul#1</td>\n",
       "      <td>Lammps</td>\n",
       "      <td>0.1</td>\n",
       "      <td>None</td>\n",
       "      <td>None</td>\n",
       "    </tr>\n",
       "    <tr>\n",
       "      <th>1</th>\n",
       "      <td>95</td>\n",
       "      <td>finished</td>\n",
       "      <td>Al128</td>\n",
       "      <td>lammps_job_surf</td>\n",
       "      <td>/lammps_job_surf</td>\n",
       "      <td>/home/jovyan/</td>\n",
       "      <td>potentials/introduction/creating_datasets/</td>\n",
       "      <td>2022-06-07 16:37:51.214853</td>\n",
       "      <td>2022-06-07 16:37:53.832937</td>\n",
       "      <td>2.0</td>\n",
       "      <td>pyiron@jupyter-m-2epoul#1</td>\n",
       "      <td>Lammps</td>\n",
       "      <td>0.1</td>\n",
       "      <td>None</td>\n",
       "      <td>None</td>\n",
       "    </tr>\n",
       "    <tr>\n",
       "      <th>2</th>\n",
       "      <td>96</td>\n",
       "      <td>finished</td>\n",
       "      <td>None</td>\n",
       "      <td>dataset_example</td>\n",
       "      <td>/dataset_example</td>\n",
       "      <td>/home/jovyan/</td>\n",
       "      <td>potentials/introduction/creating_datasets/</td>\n",
       "      <td>2022-06-07 16:37:56.081557</td>\n",
       "      <td>NaT</td>\n",
       "      <td>NaN</td>\n",
       "      <td>pyiron@jupyter-m-2epoul#1</td>\n",
       "      <td>TrainingContainer</td>\n",
       "      <td>0.4</td>\n",
       "      <td>None</td>\n",
       "      <td>None</td>\n",
       "    </tr>\n",
       "  </tbody>\n",
       "</table>\n",
       "</div>"
      ],
      "text/plain": [
       "   id    status chemicalformula              job            subjob  \\\n",
       "0  94  finished           Al107   lammps_job_vac   /lammps_job_vac   \n",
       "1  95  finished           Al128  lammps_job_surf  /lammps_job_surf   \n",
       "2  96  finished            None  dataset_example  /dataset_example   \n",
       "\n",
       "     projectpath                                     project  \\\n",
       "0  /home/jovyan/  potentials/introduction/creating_datasets/   \n",
       "1  /home/jovyan/  potentials/introduction/creating_datasets/   \n",
       "2  /home/jovyan/  potentials/introduction/creating_datasets/   \n",
       "\n",
       "                   timestart                   timestop  totalcputime  \\\n",
       "0 2022-06-07 16:37:46.720756 2022-06-07 16:37:49.823856           3.0   \n",
       "1 2022-06-07 16:37:51.214853 2022-06-07 16:37:53.832937           2.0   \n",
       "2 2022-06-07 16:37:56.081557                        NaT           NaN   \n",
       "\n",
       "                    computer           hamilton hamversion parentid masterid  \n",
       "0  pyiron@jupyter-m-2epoul#1             Lammps        0.1     None     None  \n",
       "1  pyiron@jupyter-m-2epoul#1             Lammps        0.1     None     None  \n",
       "2  pyiron@jupyter-m-2epoul#1  TrainingContainer        0.4     None     None  "
      ]
     },
     "execution_count": 17,
     "metadata": {},
     "output_type": "execute_result"
    }
   ],
   "source": [
    "pr.job_table()"
   ]
  },
  {
   "cell_type": "markdown",
   "id": "08428fc1-ae99-442a-8742-d3711f9c25a5",
   "metadata": {},
   "source": [
    "## Reloading the dataset\n",
    "\n",
    "This dataset can now be reloaded anywhere to use in the potential fitting procedures"
   ]
  },
  {
   "cell_type": "code",
   "execution_count": 18,
   "id": "5cb1da14-d524-40b7-b479-6e8ce0846372",
   "metadata": {},
   "outputs": [
    {
     "data": {
      "text/html": [
       "<div>\n",
       "<style scoped>\n",
       "    .dataframe tbody tr th:only-of-type {\n",
       "        vertical-align: middle;\n",
       "    }\n",
       "\n",
       "    .dataframe tbody tr th {\n",
       "        vertical-align: top;\n",
       "    }\n",
       "\n",
       "    .dataframe thead th {\n",
       "        text-align: right;\n",
       "    }\n",
       "</style>\n",
       "<table border=\"1\" class=\"dataframe\">\n",
       "  <thead>\n",
       "    <tr style=\"text-align: right;\">\n",
       "      <th></th>\n",
       "      <th>name</th>\n",
       "      <th>atoms</th>\n",
       "      <th>energy</th>\n",
       "      <th>forces</th>\n",
       "      <th>stress</th>\n",
       "      <th>number_of_atoms</th>\n",
       "    </tr>\n",
       "  </thead>\n",
       "  <tbody>\n",
       "    <tr>\n",
       "      <th>0</th>\n",
       "      <td>job_a_3_8</td>\n",
       "      <td>[element: [None, AtomicNumber                       13\\nAtomicRadius                    118.0\\nAtomicMass                  26.981539\\nColor                          Silver\\nCovalentRadius         ...</td>\n",
       "      <td>-3.192897</td>\n",
       "      <td>[[1.6276043110675176e-16, 1.0529105848988851e-16, 5.1718187378489473e-17]]</td>\n",
       "      <td>[25.037460606087844, 25.03746060546885, 25.03746060312137, 1.2058153515681625e-10, -5.4886913858354095e-11, 5.489273462444544e-11]</td>\n",
       "      <td>1</td>\n",
       "    </tr>\n",
       "    <tr>\n",
       "      <th>1</th>\n",
       "      <td>job_a_3_9</td>\n",
       "      <td>[element: [None, AtomicNumber                       13\\nAtomicRadius                    118.0\\nAtomicMass                  26.981539\\nColor                          Silver\\nCovalentRadius         ...</td>\n",
       "      <td>-3.319542</td>\n",
       "      <td>[[7.639186604470375e-18, 1.2897999183801789e-17, 6.560662375038692e-17]]</td>\n",
       "      <td>[11.783580963401858, 11.783580963641624, 11.783580962525912, -9.081682946998626e-10, -5.281239282339811e-10, 5.281079211272299e-10]</td>\n",
       "      <td>1</td>\n",
       "    </tr>\n",
       "    <tr>\n",
       "      <th>2</th>\n",
       "      <td>job_a_4_0</td>\n",
       "      <td>[element: [None, AtomicNumber                       13\\nAtomicRadius                    118.0\\nAtomicMass                  26.981539\\nColor                          Silver\\nCovalentRadius         ...</td>\n",
       "      <td>-3.367063</td>\n",
       "      <td>[[-3.5024524628727396e-17, -1.320930466294525e-17, 5.849496262865057e-18]]</td>\n",
       "      <td>[2.177486595771194, 2.1774865945028847, 2.1774865945028834, -1.07506321000983e-09, 1.2040691217407586e-09, 7.657961759832688e-10]</td>\n",
       "      <td>1</td>\n",
       "    </tr>\n",
       "    <tr>\n",
       "      <th>3</th>\n",
       "      <td>job_a_4_1</td>\n",
       "      <td>[element: [None, AtomicNumber                       13\\nAtomicRadius                    118.0\\nAtomicMass                  26.981539\\nColor                          Silver\\nCovalentRadius         ...</td>\n",
       "      <td>-3.360600</td>\n",
       "      <td>[[-2.237762269513316e-17, -4.0689075283847526e-17, 2.1062919550300275e-17]]</td>\n",
       "      <td>[-3.3265634524504444, -3.3265634530820014, -3.3265634530820085, -6.528356607304887e-10, 1.6521880752407014e-12, 6.566095180460252e-10]</td>\n",
       "      <td>1</td>\n",
       "    </tr>\n",
       "    <tr>\n",
       "      <th>4</th>\n",
       "      <td>job_a_4_2</td>\n",
       "      <td>[element: [None, AtomicNumber                       13\\nAtomicRadius                    118.0\\nAtomicMass                  26.981539\\nColor                          Silver\\nCovalentRadius         ...</td>\n",
       "      <td>-3.317017</td>\n",
       "      <td>[[2.140556230444804e-17, 9.465137265930533e-17, -1.6146749725116617e-17]]</td>\n",
       "      <td>[-7.344005402848352, -7.344005402593722, -7.344005404806233, -4.6368149924092e-10, -7.669372280361131e-10, 7.669350452488288e-10]</td>\n",
       "      <td>1</td>\n",
       "    </tr>\n",
       "    <tr>\n",
       "      <th>5</th>\n",
       "      <td>job_a_4_3</td>\n",
       "      <td>[element: [None, AtomicNumber                       13\\nAtomicRadius                    118.0\\nAtomicMass                  26.981539\\nColor                          Silver\\nCovalentRadius         ...</td>\n",
       "      <td>-3.241535</td>\n",
       "      <td>[[-5.0018187940959333e-17, -7.753256254350387e-17, -7.947668332487412e-17]]</td>\n",
       "      <td>[-10.206225126673713, -10.206225127480902, -10.2062251274809, -6.120026228018106e-11, 5.826092092320323e-10, 7.850612746551634e-11]</td>\n",
       "      <td>1</td>\n",
       "    </tr>\n",
       "    <tr>\n",
       "      <th>6</th>\n",
       "      <td>job_a_4_4</td>\n",
       "      <td>[element: [None, AtomicNumber                       13\\nAtomicRadius                    118.0\\nAtomicMass                  26.981539\\nColor                          Silver\\nCovalentRadius         ...</td>\n",
       "      <td>-3.145751</td>\n",
       "      <td>[[-7.31320096256601e-17, 2.773206044106321e-16, -1.2031135854225408e-16]]</td>\n",
       "      <td>[-11.04382992252993, -11.043829922467113, -11.043829922415048, -1.632215571589768e-11, 6.058689905330539e-12, -6.060145096853376e-12]</td>\n",
       "      <td>1</td>\n",
       "    </tr>\n",
       "    <tr>\n",
       "      <th>7</th>\n",
       "      <td>lammps_job</td>\n",
       "      <td>[element: [None, AtomicNumber                       13\\nAtomicRadius                    118.0\\nAtomicMass                  26.981539\\nColor                          Silver\\nCovalentRadius         ...</td>\n",
       "      <td>-363.917370</td>\n",
       "      <td>[[5.8841820305133305e-15, 3.7990444123892135e-16, 2.740863092043364e-16], [5.02375918642883e-15, -1.5751289161869397e-15, -1.3274971399912499e-15], [1.02695629777827e-15, 8.812395257962181e-16, -8...</td>\n",
       "      <td>[0.999556665124294, 0.9904736758167861, 0.824951894171107, -0.0179550181978282, 0.0636336051961363, -0.042563616603965106]</td>\n",
       "      <td>108</td>\n",
       "    </tr>\n",
       "    <tr>\n",
       "      <th>8</th>\n",
       "      <td>lammps_job</td>\n",
       "      <td>[element: [None, AtomicNumber                       13\\nAtomicRadius                    118.0\\nAtomicMass                  26.981539\\nColor                          Silver\\nCovalentRadius         ...</td>\n",
       "      <td>-352.327898</td>\n",
       "      <td>[[-0.75036385499113, 0.4598380918639449, 0.725200216845603], [-0.271732166045788, 0.302073802280348, 0.257384300490495], [0.448407157614891, -0.296549448310268, 0.241166662468148], [-0.00933123696...</td>\n",
       "      <td>[-0.20333593198685002, -0.0514950077978542, -0.380336649881006, -0.192008378726288, -0.000849147802610262, -0.021247590027086802]</td>\n",
       "      <td>108</td>\n",
       "    </tr>\n",
       "    <tr>\n",
       "      <th>9</th>\n",
       "      <td>lammps_job</td>\n",
       "      <td>[element: [None, AtomicNumber                       13\\nAtomicRadius                    118.0\\nAtomicMass                  26.981539\\nColor                          Silver\\nCovalentRadius         ...</td>\n",
       "      <td>-349.888834</td>\n",
       "      <td>[[-0.380822550162949, 0.795020858927261, 0.552227922138795], [-0.815959874301847, -0.02386117799239805, -0.47623155209815404], [-0.286795110662345, 0.30418979949872, 0.970569998348215], [-0.550088...</td>\n",
       "      <td>[-0.636237386917572, -1.22215332293502, -0.718802458515107, 0.0334113551032086, -0.467781756142989, -0.15083572558775]</td>\n",
       "      <td>108</td>\n",
       "    </tr>\n",
       "    <tr>\n",
       "      <th>10</th>\n",
       "      <td>lammps_job</td>\n",
       "      <td>[element: [None, AtomicNumber                       13\\nAtomicRadius                    118.0\\nAtomicMass                  26.981539\\nColor                          Silver\\nCovalentRadius         ...</td>\n",
       "      <td>-350.830057</td>\n",
       "      <td>[[-0.420012726158848, -0.266177748010431, -0.10061532349639205], [0.127384145208824, -0.248152628480852, -0.154576243850877], [-0.968537642185758, -0.39199433409687007, 0.11778481825176891], [-0.5...</td>\n",
       "      <td>[-0.5131786603043991, 0.0857860295485518, -0.487658631946179, -0.00960577613028209, -0.194135185700395, -0.21118720406901198]</td>\n",
       "      <td>108</td>\n",
       "    </tr>\n",
       "    <tr>\n",
       "      <th>11</th>\n",
       "      <td>lammps_job</td>\n",
       "      <td>[element: [None, AtomicNumber                       13\\nAtomicRadius                    118.0\\nAtomicMass                  26.981539\\nColor                          Silver\\nCovalentRadius         ...</td>\n",
       "      <td>-350.702007</td>\n",
       "      <td>[[0.9153781717748, -0.5196757756775509, 0.498517073710415], [-0.667528324894004, -0.21672146416275304, -0.31211194811421505], [0.120312800491091, -0.043411302241849095, -0.406043538747074], [0.235...</td>\n",
       "      <td>[-0.51351056300053, -0.20205565562462502, -0.349611569619353, 0.0656675082015293, -0.549794514544474, -0.0898565835636916]</td>\n",
       "      <td>108</td>\n",
       "    </tr>\n",
       "    <tr>\n",
       "      <th>12</th>\n",
       "      <td>lammps_job</td>\n",
       "      <td>[element: [None, AtomicNumber                       13\\nAtomicRadius                    118.0\\nAtomicMass                  26.981539\\nColor                          Silver\\nCovalentRadius         ...</td>\n",
       "      <td>-350.283347</td>\n",
       "      <td>[[0.235132393610786, -0.92320491047853, 0.23010090806109595], [0.4464059221284, 0.599380126332439, -0.47014243704993197], [-0.0750267922586507, 0.262245923203885, 0.479967633267096], [-0.694735048...</td>\n",
       "      <td>[-0.578429638769351, -0.434046865104863, -0.168847000423391, 0.144047568705863, -0.10672866413529901, -0.318309629189494]</td>\n",
       "      <td>108</td>\n",
       "    </tr>\n",
       "    <tr>\n",
       "      <th>13</th>\n",
       "      <td>lammps_job</td>\n",
       "      <td>[element: [None, AtomicNumber                       13\\nAtomicRadius                    118.0\\nAtomicMass                  26.981539\\nColor                          Silver\\nCovalentRadius         ...</td>\n",
       "      <td>-351.595189</td>\n",
       "      <td>[[-0.10082749580572, 0.523484145402097, -1.0350343625323], [0.354729759304219, 0.701653159364364, 0.7878115361205081], [-0.0367556462367837, -0.495902791299659, 1.00115978036795], [-0.010109163992...</td>\n",
       "      <td>[-0.48245036720220597, -0.6429619358987481, -0.45615891646821305, 0.12156601043839001, 0.028722694543442204, -0.138869603615178]</td>\n",
       "      <td>108</td>\n",
       "    </tr>\n",
       "    <tr>\n",
       "      <th>14</th>\n",
       "      <td>lammps_job</td>\n",
       "      <td>[element: [None, AtomicNumber                       13\\nAtomicRadius                    118.0\\nAtomicMass                  26.981539\\nColor                          Silver\\nCovalentRadius         ...</td>\n",
       "      <td>-351.355429</td>\n",
       "      <td>[[-0.53033805263242, 0.30151077109769797, 0.48889617311781], [0.365332073308618, 0.257204756311451, 0.46421415718266706], [-0.55795462205606, -0.528920209655739, -1.01193560142206], [-0.8349912505...</td>\n",
       "      <td>[0.13501098545634, 0.8436525885969681, 0.633953784861439, -0.09832009167866321, -0.0583454827760237, -0.148099371736581]</td>\n",
       "      <td>108</td>\n",
       "    </tr>\n",
       "    <tr>\n",
       "      <th>15</th>\n",
       "      <td>lammps_job</td>\n",
       "      <td>[element: [None, AtomicNumber                       13\\nAtomicRadius                    118.0\\nAtomicMass                  26.981539\\nColor                          Silver\\nCovalentRadius         ...</td>\n",
       "      <td>-349.861266</td>\n",
       "      <td>[[-0.735834944299172, 0.16983472103263894, 0.30896574018502293], [-0.56617377829579, -0.06252047071209063, -0.18361928260349702], [-0.326718424112994, -0.721001479459434, 0.09705913082936173], [0....</td>\n",
       "      <td>[0.446586866327166, 0.13068019034171802, -0.0693758990272317, -0.263866851749946, 0.10925215678469699, 0.13607792544806202]</td>\n",
       "      <td>108</td>\n",
       "    </tr>\n",
       "    <tr>\n",
       "      <th>16</th>\n",
       "      <td>lammps_job</td>\n",
       "      <td>[element: [None, AtomicNumber                       13\\nAtomicRadius                    118.0\\nAtomicMass                  26.981539\\nColor                          Silver\\nCovalentRadius         ...</td>\n",
       "      <td>-352.007585</td>\n",
       "      <td>[[0.301178602933076, 0.258002276944641, -0.27143156569769294], [-0.298930228924858, -0.03075712133705462, -0.364812391605405], [-0.797427142712701, -0.74286906074633, -0.4273785140338071], [0.0727...</td>\n",
       "      <td>[-0.757934402614806, -0.614667264232027, -0.667927922027262, -0.20235825539995303, -0.188727963861254, 0.38752048478086604]</td>\n",
       "      <td>108</td>\n",
       "    </tr>\n",
       "    <tr>\n",
       "      <th>17</th>\n",
       "      <td>lammps_job</td>\n",
       "      <td>[element: [None, AtomicNumber                       13\\nAtomicRadius                    118.0\\nAtomicMass                  26.981539\\nColor                          Silver\\nCovalentRadius         ...</td>\n",
       "      <td>-350.590328</td>\n",
       "      <td>[[0.224009094047, -0.839607604551706, 0.777637424807001], [0.694708728593008, -0.01978842244270086, -0.563089538819962], [-0.0726046276015651, 0.180208519203361, 0.157259401253289], [0.11284631102...</td>\n",
       "      <td>[-0.57750724810661, -0.330705291904955, -0.24897277922262204, 0.0035474383929712198, 0.217652379540492, -0.372803571664775]</td>\n",
       "      <td>108</td>\n",
       "    </tr>\n",
       "    <tr>\n",
       "      <th>18</th>\n",
       "      <td>lammps_job_vac</td>\n",
       "      <td>[element: [None, AtomicNumber                       13\\nAtomicRadius                    118.0\\nAtomicMass                  26.981539\\nColor                          Silver\\nCovalentRadius         ...</td>\n",
       "      <td>-290.793066</td>\n",
       "      <td>[[-3.1974423109204496e-14, -0.5904705706758219, -0.590470570675822], [-0.5904705706758229, -3.325957990662624e-14, -0.590470570675822], [-0.5904705706758219, -0.590470570675821, -3.642777903722078...</td>\n",
       "      <td>[58.87969078759508, 58.65874845858828, 58.50796880315438, -0.047554178778302515, -0.33314286846391333, 0.07410497611298358]</td>\n",
       "      <td>107</td>\n",
       "    </tr>\n",
       "    <tr>\n",
       "      <th>19</th>\n",
       "      <td>lammps_job_surf</td>\n",
       "      <td>[element: [None, AtomicNumber                       13\\nAtomicRadius                    118.0\\nAtomicMass                  26.981539\\nColor                          Silver\\nCovalentRadius         ...</td>\n",
       "      <td>-428.609075</td>\n",
       "      <td>[[2.44249065417534e-15, 4.56905929757667e-10, 0.314474097336679], [-9.29811783123569e-16, 4.56905354696835e-10, 0.314474097336678], [2.7611647777231502e-15, 4.56905929757667e-10, 0.314474097336678...</td>\n",
       "      <td>[-0.693731819636784, -0.575956660364361, -0.802656043307567, -0.0667956150106202, -0.145663378134875, -0.0209963500927039]</td>\n",
       "      <td>128</td>\n",
       "    </tr>\n",
       "  </tbody>\n",
       "</table>\n",
       "</div>"
      ],
      "text/plain": [
       "               name  \\\n",
       "0         job_a_3_8   \n",
       "1         job_a_3_9   \n",
       "2         job_a_4_0   \n",
       "3         job_a_4_1   \n",
       "4         job_a_4_2   \n",
       "5         job_a_4_3   \n",
       "6         job_a_4_4   \n",
       "7        lammps_job   \n",
       "8        lammps_job   \n",
       "9        lammps_job   \n",
       "10       lammps_job   \n",
       "11       lammps_job   \n",
       "12       lammps_job   \n",
       "13       lammps_job   \n",
       "14       lammps_job   \n",
       "15       lammps_job   \n",
       "16       lammps_job   \n",
       "17       lammps_job   \n",
       "18   lammps_job_vac   \n",
       "19  lammps_job_surf   \n",
       "\n",
       "                                                                                                                                                                                                      atoms  \\\n",
       "0   [element: [None, AtomicNumber                       13\\nAtomicRadius                    118.0\\nAtomicMass                  26.981539\\nColor                          Silver\\nCovalentRadius         ...   \n",
       "1   [element: [None, AtomicNumber                       13\\nAtomicRadius                    118.0\\nAtomicMass                  26.981539\\nColor                          Silver\\nCovalentRadius         ...   \n",
       "2   [element: [None, AtomicNumber                       13\\nAtomicRadius                    118.0\\nAtomicMass                  26.981539\\nColor                          Silver\\nCovalentRadius         ...   \n",
       "3   [element: [None, AtomicNumber                       13\\nAtomicRadius                    118.0\\nAtomicMass                  26.981539\\nColor                          Silver\\nCovalentRadius         ...   \n",
       "4   [element: [None, AtomicNumber                       13\\nAtomicRadius                    118.0\\nAtomicMass                  26.981539\\nColor                          Silver\\nCovalentRadius         ...   \n",
       "5   [element: [None, AtomicNumber                       13\\nAtomicRadius                    118.0\\nAtomicMass                  26.981539\\nColor                          Silver\\nCovalentRadius         ...   \n",
       "6   [element: [None, AtomicNumber                       13\\nAtomicRadius                    118.0\\nAtomicMass                  26.981539\\nColor                          Silver\\nCovalentRadius         ...   \n",
       "7   [element: [None, AtomicNumber                       13\\nAtomicRadius                    118.0\\nAtomicMass                  26.981539\\nColor                          Silver\\nCovalentRadius         ...   \n",
       "8   [element: [None, AtomicNumber                       13\\nAtomicRadius                    118.0\\nAtomicMass                  26.981539\\nColor                          Silver\\nCovalentRadius         ...   \n",
       "9   [element: [None, AtomicNumber                       13\\nAtomicRadius                    118.0\\nAtomicMass                  26.981539\\nColor                          Silver\\nCovalentRadius         ...   \n",
       "10  [element: [None, AtomicNumber                       13\\nAtomicRadius                    118.0\\nAtomicMass                  26.981539\\nColor                          Silver\\nCovalentRadius         ...   \n",
       "11  [element: [None, AtomicNumber                       13\\nAtomicRadius                    118.0\\nAtomicMass                  26.981539\\nColor                          Silver\\nCovalentRadius         ...   \n",
       "12  [element: [None, AtomicNumber                       13\\nAtomicRadius                    118.0\\nAtomicMass                  26.981539\\nColor                          Silver\\nCovalentRadius         ...   \n",
       "13  [element: [None, AtomicNumber                       13\\nAtomicRadius                    118.0\\nAtomicMass                  26.981539\\nColor                          Silver\\nCovalentRadius         ...   \n",
       "14  [element: [None, AtomicNumber                       13\\nAtomicRadius                    118.0\\nAtomicMass                  26.981539\\nColor                          Silver\\nCovalentRadius         ...   \n",
       "15  [element: [None, AtomicNumber                       13\\nAtomicRadius                    118.0\\nAtomicMass                  26.981539\\nColor                          Silver\\nCovalentRadius         ...   \n",
       "16  [element: [None, AtomicNumber                       13\\nAtomicRadius                    118.0\\nAtomicMass                  26.981539\\nColor                          Silver\\nCovalentRadius         ...   \n",
       "17  [element: [None, AtomicNumber                       13\\nAtomicRadius                    118.0\\nAtomicMass                  26.981539\\nColor                          Silver\\nCovalentRadius         ...   \n",
       "18  [element: [None, AtomicNumber                       13\\nAtomicRadius                    118.0\\nAtomicMass                  26.981539\\nColor                          Silver\\nCovalentRadius         ...   \n",
       "19  [element: [None, AtomicNumber                       13\\nAtomicRadius                    118.0\\nAtomicMass                  26.981539\\nColor                          Silver\\nCovalentRadius         ...   \n",
       "\n",
       "        energy  \\\n",
       "0    -3.192897   \n",
       "1    -3.319542   \n",
       "2    -3.367063   \n",
       "3    -3.360600   \n",
       "4    -3.317017   \n",
       "5    -3.241535   \n",
       "6    -3.145751   \n",
       "7  -363.917370   \n",
       "8  -352.327898   \n",
       "9  -349.888834   \n",
       "10 -350.830057   \n",
       "11 -350.702007   \n",
       "12 -350.283347   \n",
       "13 -351.595189   \n",
       "14 -351.355429   \n",
       "15 -349.861266   \n",
       "16 -352.007585   \n",
       "17 -350.590328   \n",
       "18 -290.793066   \n",
       "19 -428.609075   \n",
       "\n",
       "                                                                                                                                                                                                     forces  \\\n",
       "0                                                                                                                                [[1.6276043110675176e-16, 1.0529105848988851e-16, 5.1718187378489473e-17]]   \n",
       "1                                                                                                                                  [[7.639186604470375e-18, 1.2897999183801789e-17, 6.560662375038692e-17]]   \n",
       "2                                                                                                                                [[-3.5024524628727396e-17, -1.320930466294525e-17, 5.849496262865057e-18]]   \n",
       "3                                                                                                                               [[-2.237762269513316e-17, -4.0689075283847526e-17, 2.1062919550300275e-17]]   \n",
       "4                                                                                                                                 [[2.140556230444804e-17, 9.465137265930533e-17, -1.6146749725116617e-17]]   \n",
       "5                                                                                                                               [[-5.0018187940959333e-17, -7.753256254350387e-17, -7.947668332487412e-17]]   \n",
       "6                                                                                                                                 [[-7.31320096256601e-17, 2.773206044106321e-16, -1.2031135854225408e-16]]   \n",
       "7   [[5.8841820305133305e-15, 3.7990444123892135e-16, 2.740863092043364e-16], [5.02375918642883e-15, -1.5751289161869397e-15, -1.3274971399912499e-15], [1.02695629777827e-15, 8.812395257962181e-16, -8...   \n",
       "8   [[-0.75036385499113, 0.4598380918639449, 0.725200216845603], [-0.271732166045788, 0.302073802280348, 0.257384300490495], [0.448407157614891, -0.296549448310268, 0.241166662468148], [-0.00933123696...   \n",
       "9   [[-0.380822550162949, 0.795020858927261, 0.552227922138795], [-0.815959874301847, -0.02386117799239805, -0.47623155209815404], [-0.286795110662345, 0.30418979949872, 0.970569998348215], [-0.550088...   \n",
       "10  [[-0.420012726158848, -0.266177748010431, -0.10061532349639205], [0.127384145208824, -0.248152628480852, -0.154576243850877], [-0.968537642185758, -0.39199433409687007, 0.11778481825176891], [-0.5...   \n",
       "11  [[0.9153781717748, -0.5196757756775509, 0.498517073710415], [-0.667528324894004, -0.21672146416275304, -0.31211194811421505], [0.120312800491091, -0.043411302241849095, -0.406043538747074], [0.235...   \n",
       "12  [[0.235132393610786, -0.92320491047853, 0.23010090806109595], [0.4464059221284, 0.599380126332439, -0.47014243704993197], [-0.0750267922586507, 0.262245923203885, 0.479967633267096], [-0.694735048...   \n",
       "13  [[-0.10082749580572, 0.523484145402097, -1.0350343625323], [0.354729759304219, 0.701653159364364, 0.7878115361205081], [-0.0367556462367837, -0.495902791299659, 1.00115978036795], [-0.010109163992...   \n",
       "14  [[-0.53033805263242, 0.30151077109769797, 0.48889617311781], [0.365332073308618, 0.257204756311451, 0.46421415718266706], [-0.55795462205606, -0.528920209655739, -1.01193560142206], [-0.8349912505...   \n",
       "15  [[-0.735834944299172, 0.16983472103263894, 0.30896574018502293], [-0.56617377829579, -0.06252047071209063, -0.18361928260349702], [-0.326718424112994, -0.721001479459434, 0.09705913082936173], [0....   \n",
       "16  [[0.301178602933076, 0.258002276944641, -0.27143156569769294], [-0.298930228924858, -0.03075712133705462, -0.364812391605405], [-0.797427142712701, -0.74286906074633, -0.4273785140338071], [0.0727...   \n",
       "17  [[0.224009094047, -0.839607604551706, 0.777637424807001], [0.694708728593008, -0.01978842244270086, -0.563089538819962], [-0.0726046276015651, 0.180208519203361, 0.157259401253289], [0.11284631102...   \n",
       "18  [[-3.1974423109204496e-14, -0.5904705706758219, -0.590470570675822], [-0.5904705706758229, -3.325957990662624e-14, -0.590470570675822], [-0.5904705706758219, -0.590470570675821, -3.642777903722078...   \n",
       "19  [[2.44249065417534e-15, 4.56905929757667e-10, 0.314474097336679], [-9.29811783123569e-16, 4.56905354696835e-10, 0.314474097336678], [2.7611647777231502e-15, 4.56905929757667e-10, 0.314474097336678...   \n",
       "\n",
       "                                                                                                                                    stress  \\\n",
       "0       [25.037460606087844, 25.03746060546885, 25.03746060312137, 1.2058153515681625e-10, -5.4886913858354095e-11, 5.489273462444544e-11]   \n",
       "1      [11.783580963401858, 11.783580963641624, 11.783580962525912, -9.081682946998626e-10, -5.281239282339811e-10, 5.281079211272299e-10]   \n",
       "2        [2.177486595771194, 2.1774865945028847, 2.1774865945028834, -1.07506321000983e-09, 1.2040691217407586e-09, 7.657961759832688e-10]   \n",
       "3   [-3.3265634524504444, -3.3265634530820014, -3.3265634530820085, -6.528356607304887e-10, 1.6521880752407014e-12, 6.566095180460252e-10]   \n",
       "4        [-7.344005402848352, -7.344005402593722, -7.344005404806233, -4.6368149924092e-10, -7.669372280361131e-10, 7.669350452488288e-10]   \n",
       "5      [-10.206225126673713, -10.206225127480902, -10.2062251274809, -6.120026228018106e-11, 5.826092092320323e-10, 7.850612746551634e-11]   \n",
       "6    [-11.04382992252993, -11.043829922467113, -11.043829922415048, -1.632215571589768e-11, 6.058689905330539e-12, -6.060145096853376e-12]   \n",
       "7               [0.999556665124294, 0.9904736758167861, 0.824951894171107, -0.0179550181978282, 0.0636336051961363, -0.042563616603965106]   \n",
       "8        [-0.20333593198685002, -0.0514950077978542, -0.380336649881006, -0.192008378726288, -0.000849147802610262, -0.021247590027086802]   \n",
       "9                   [-0.636237386917572, -1.22215332293502, -0.718802458515107, 0.0334113551032086, -0.467781756142989, -0.15083572558775]   \n",
       "10           [-0.5131786603043991, 0.0857860295485518, -0.487658631946179, -0.00960577613028209, -0.194135185700395, -0.21118720406901198]   \n",
       "11              [-0.51351056300053, -0.20205565562462502, -0.349611569619353, 0.0656675082015293, -0.549794514544474, -0.0898565835636916]   \n",
       "12               [-0.578429638769351, -0.434046865104863, -0.168847000423391, 0.144047568705863, -0.10672866413529901, -0.318309629189494]   \n",
       "13        [-0.48245036720220597, -0.6429619358987481, -0.45615891646821305, 0.12156601043839001, 0.028722694543442204, -0.138869603615178]   \n",
       "14                [0.13501098545634, 0.8436525885969681, 0.633953784861439, -0.09832009167866321, -0.0583454827760237, -0.148099371736581]   \n",
       "15             [0.446586866327166, 0.13068019034171802, -0.0693758990272317, -0.263866851749946, 0.10925215678469699, 0.13607792544806202]   \n",
       "16             [-0.757934402614806, -0.614667264232027, -0.667927922027262, -0.20235825539995303, -0.188727963861254, 0.38752048478086604]   \n",
       "17             [-0.57750724810661, -0.330705291904955, -0.24897277922262204, 0.0035474383929712198, 0.217652379540492, -0.372803571664775]   \n",
       "18             [58.87969078759508, 58.65874845858828, 58.50796880315438, -0.047554178778302515, -0.33314286846391333, 0.07410497611298358]   \n",
       "19              [-0.693731819636784, -0.575956660364361, -0.802656043307567, -0.0667956150106202, -0.145663378134875, -0.0209963500927039]   \n",
       "\n",
       "    number_of_atoms  \n",
       "0                 1  \n",
       "1                 1  \n",
       "2                 1  \n",
       "3                 1  \n",
       "4                 1  \n",
       "5                 1  \n",
       "6                 1  \n",
       "7               108  \n",
       "8               108  \n",
       "9               108  \n",
       "10              108  \n",
       "11              108  \n",
       "12              108  \n",
       "13              108  \n",
       "14              108  \n",
       "15              108  \n",
       "16              108  \n",
       "17              108  \n",
       "18              107  \n",
       "19              128  "
      ]
     },
     "execution_count": 18,
     "metadata": {},
     "output_type": "execute_result"
    }
   ],
   "source": [
    "dataset = pr[\"dataset_example\"]\n",
    "dataset.to_pandas()"
   ]
  },
  {
   "cell_type": "markdown",
   "id": "7404415d-6c1e-4a25-b222-0da024869b54",
   "metadata": {},
   "source": [
    "We can now inspect the data in this dataset quite easily"
   ]
  },
  {
   "cell_type": "code",
   "execution_count": 19,
   "id": "c99c08ec-7884-4e86-9924-dc559516ec2f",
   "metadata": {},
   "outputs": [],
   "source": [
    "struct = dataset.get_structure(10)"
   ]
  },
  {
   "cell_type": "code",
   "execution_count": 20,
   "id": "2cd56581-bd68-46c8-91ad-94873af5d39e",
   "metadata": {},
   "outputs": [
    {
     "data": {
      "application/vnd.jupyter.widget-view+json": {
       "model_id": "be32df4aeb1540f48e05dfc3ffe9b651",
       "version_major": 2,
       "version_minor": 0
      },
      "text/plain": []
     },
     "metadata": {},
     "output_type": "display_data"
    },
    {
     "data": {
      "application/vnd.jupyter.widget-view+json": {
       "model_id": "7b5ac841e06742c99f8085b15a5ebdb4",
       "version_major": 2,
       "version_minor": 0
      },
      "text/plain": [
       "NGLWidget()"
      ]
     },
     "metadata": {},
     "output_type": "display_data"
    }
   ],
   "source": [
    "struct.plot3d()"
   ]
  },
  {
   "cell_type": "code",
   "execution_count": 21,
   "id": "a5947035-d483-4ba2-b1f4-9b5981d5b809",
   "metadata": {},
   "outputs": [
    {
     "data": {
      "image/png": "[encoded data removed]",
      "text/plain": [
       "<Figure size 432x288 with 1 Axes>"
      ]
     },
     "metadata": {
      "needs_background": "light"
     },
     "output_type": "display_data"
    }
   ],
   "source": [
    "dataset.plot.energy_volume();"
   ]
  },
  {
   "cell_type": "code",
   "execution_count": 22,
   "id": "1c2edc88-2efb-45dd-bdcc-78a486db0fad",
   "metadata": {},
   "outputs": [
    {
     "data": {
      "image/png": "[encoded data removed]",
      "text/plain": [
       "<Figure size 432x288 with 1 Axes>"
      ]
     },
     "metadata": {
      "needs_background": "light"
     },
     "output_type": "display_data"
    }
   ],
   "source": [
    "dataset.plot.forces()"
   ]
  }
 ],
 "metadata": {
  "kernelspec": {
   "display_name": "workshop",
   "language": "python",
   "name": "workshop"
  },
  "language_info": {
   "codemirror_mode": {
    "name": "ipython",
    "version": 3
   },
   "file_extension": ".py",
   "mimetype": "text/x-python",
   "name": "python",
   "nbconvert_exporter": "python",
   "pygments_lexer": "ipython3",
   "version": "3.9.18"
  }
 },
 "nbformat": 4,
 "nbformat_minor": 5
}
